{
 "cells": [
  {
   "cell_type": "markdown",
   "metadata": {},
   "source": [
    "# BERT fine-tuning"
   ]
  },
  {
   "cell_type": "code",
   "execution_count": 1,
   "metadata": {},
   "outputs": [],
   "source": [
    "from transformers import BertTokenizer, AutoModelForSequenceClassification, AutoTokenizer, BertForSequenceClassification, Trainer, TrainingArguments\n",
    "\n",
    "import pandas as pd\n",
    "from tqdm import tqdm\n",
    "\n",
    "import torch\n",
    "import torch.nn as nn\n",
    "import torch.optim as optim\n",
    "from torch.utils.data import DataLoader\n",
    "import torch.nn.functional as F\n",
    "from torch.utils.data import Dataset, DataLoader\n",
    "import numpy as np\n",
    "from sklearn.metrics import accuracy_score, precision_recall_fscore_support\n",
    "import logging\n",
    "\n",
    "from sklearn.model_selection import train_test_split\n",
    "\n",
    "import keras\n",
    "import accelerate\n",
    "\n",
    "from datasets import Dataset\n",
    "\n",
    "from tokenizers import Tokenizer, models, trainers\n",
    "from tokenizers.pre_tokenizers import WhitespaceSplit, Split, Sequence\n",
    "import re\n"
   ]
  },
  {
   "cell_type": "code",
   "execution_count": 2,
   "metadata": {},
   "outputs": [],
   "source": [
    "data_df = pd.read_csv('/Users/davidsegura/git/Leveraging_LLMs_causality/cage_SAD_llm/data/reduced_prompt_data.csv')"
   ]
  },
  {
   "cell_type": "code",
   "execution_count": 3,
   "metadata": {},
   "outputs": [
    {
     "data": {
      "text/plain": [
       "Index(['Unnamed: 0', 'Prompts', 'turbidity'], dtype='object')"
      ]
     },
     "execution_count": 3,
     "metadata": {},
     "output_type": "execute_result"
    }
   ],
   "source": [
    "data_df.columns"
   ]
  },
  {
   "cell_type": "code",
   "execution_count": 4,
   "metadata": {},
   "outputs": [],
   "source": [
    "from tokenizers import Tokenizer, models, trainers\n",
    "from tokenizers.pre_tokenizers import WhitespaceSplit, Split, Sequence\n",
    "import re\n",
    "\n",
    "text_data = data_df[\"Prompts\"].tolist()\n",
    "\n",
    "smiles_pattern = r\"[A-Za-z0-9@+\\-=#()/%]+\"  \n",
    "\n",
    "tokenizer = Tokenizer(models.WordLevel(unk_token=\"[UNK]\"))\n",
    "\n",
    "tokenizer.pre_tokenizer = Sequence([\n",
    "    WhitespaceSplit(),  \n",
    "    Split(smiles_pattern, behavior=\"isolated\") \n",
    "])\n",
    "\n",
    "\n",
    "trainer = trainers.WordLevelTrainer(\n",
    "    vocab_size=30522,\n",
    "    special_tokens=[\"[UNK]\", \"[PAD]\", \"[CLS]\", \"[SEP]\", \"[MASK]\"]\n",
    ")\n",
    "\n",
    "tokenizer.train_from_iterator(text_data, trainer)\n",
    "\n",
    "tokenizer.save(\"/Users/davidsegura/git/Leveraging_LLMs_causality/cage_SAD_llm/word_level_tokenizer.json\")\n"
   ]
  },
  {
   "cell_type": "code",
   "execution_count": 5,
   "metadata": {},
   "outputs": [],
   "source": [
    "data_df.rename(columns={'turbidity': 'labels', 'Prompts': 'Prompt'}, inplace=True)"
   ]
  },
  {
   "cell_type": "code",
   "execution_count": 6,
   "metadata": {},
   "outputs": [
    {
     "data": {
      "text/html": [
       "<div>\n",
       "<style scoped>\n",
       "    .dataframe tbody tr th:only-of-type {\n",
       "        vertical-align: middle;\n",
       "    }\n",
       "\n",
       "    .dataframe tbody tr th {\n",
       "        vertical-align: top;\n",
       "    }\n",
       "\n",
       "    .dataframe thead th {\n",
       "        text-align: right;\n",
       "    }\n",
       "</style>\n",
       "<table border=\"1\" class=\"dataframe\">\n",
       "  <thead>\n",
       "    <tr style=\"text-align: right;\">\n",
       "      <th></th>\n",
       "      <th>Unnamed: 0</th>\n",
       "      <th>Prompt</th>\n",
       "      <th>labels</th>\n",
       "    </tr>\n",
       "  </thead>\n",
       "  <tbody>\n",
       "    <tr>\n",
       "      <th>0</th>\n",
       "      <td>0</td>\n",
       "      <td>Would the mixture involving the ditopic O=Cc1c...</td>\n",
       "      <td>0</td>\n",
       "    </tr>\n",
       "    <tr>\n",
       "      <th>1</th>\n",
       "      <td>1</td>\n",
       "      <td>Would the mixture involving the ditopic CC(C)(...</td>\n",
       "      <td>0</td>\n",
       "    </tr>\n",
       "    <tr>\n",
       "      <th>2</th>\n",
       "      <td>2</td>\n",
       "      <td>Would the mixture involving the ditopic O=Cc1c...</td>\n",
       "      <td>0</td>\n",
       "    </tr>\n",
       "    <tr>\n",
       "      <th>3</th>\n",
       "      <td>3</td>\n",
       "      <td>Would the mixture involving the ditopic O=Cc1c...</td>\n",
       "      <td>0</td>\n",
       "    </tr>\n",
       "    <tr>\n",
       "      <th>4</th>\n",
       "      <td>4</td>\n",
       "      <td>Would the mixture involving the ditopic O=Cc1c...</td>\n",
       "      <td>0</td>\n",
       "    </tr>\n",
       "    <tr>\n",
       "      <th>...</th>\n",
       "      <td>...</td>\n",
       "      <td>...</td>\n",
       "      <td>...</td>\n",
       "    </tr>\n",
       "    <tr>\n",
       "      <th>343</th>\n",
       "      <td>343</td>\n",
       "      <td>Would the mixture involving the ditopic NCCOCC...</td>\n",
       "      <td>1</td>\n",
       "    </tr>\n",
       "    <tr>\n",
       "      <th>344</th>\n",
       "      <td>344</td>\n",
       "      <td>Would the mixture involving the ditopic NCC1=C...</td>\n",
       "      <td>1</td>\n",
       "    </tr>\n",
       "    <tr>\n",
       "      <th>345</th>\n",
       "      <td>345</td>\n",
       "      <td>Would the mixture involving the ditopic NCC(CN...</td>\n",
       "      <td>1</td>\n",
       "    </tr>\n",
       "    <tr>\n",
       "      <th>346</th>\n",
       "      <td>346</td>\n",
       "      <td>Would the mixture involving the ditopic NCCCC[...</td>\n",
       "      <td>1</td>\n",
       "    </tr>\n",
       "    <tr>\n",
       "      <th>347</th>\n",
       "      <td>347</td>\n",
       "      <td>Would the mixture involving the ditopic N[C@H]...</td>\n",
       "      <td>1</td>\n",
       "    </tr>\n",
       "  </tbody>\n",
       "</table>\n",
       "<p>348 rows × 3 columns</p>\n",
       "</div>"
      ],
      "text/plain": [
       "     Unnamed: 0                                             Prompt  labels\n",
       "0             0  Would the mixture involving the ditopic O=Cc1c...       0\n",
       "1             1  Would the mixture involving the ditopic CC(C)(...       0\n",
       "2             2  Would the mixture involving the ditopic O=Cc1c...       0\n",
       "3             3  Would the mixture involving the ditopic O=Cc1c...       0\n",
       "4             4  Would the mixture involving the ditopic O=Cc1c...       0\n",
       "..          ...                                                ...     ...\n",
       "343         343  Would the mixture involving the ditopic NCCOCC...       1\n",
       "344         344  Would the mixture involving the ditopic NCC1=C...       1\n",
       "345         345  Would the mixture involving the ditopic NCC(CN...       1\n",
       "346         346  Would the mixture involving the ditopic NCCCC[...       1\n",
       "347         347  Would the mixture involving the ditopic N[C@H]...       1\n",
       "\n",
       "[348 rows x 3 columns]"
      ]
     },
     "execution_count": 6,
     "metadata": {},
     "output_type": "execute_result"
    }
   ],
   "source": [
    "data_df"
   ]
  },
  {
   "cell_type": "code",
   "execution_count": 8,
   "metadata": {},
   "outputs": [
    {
     "name": "stderr",
     "output_type": "stream",
     "text": [
      "huggingface/tokenizers: The current process just got forked, after parallelism has already been used. Disabling parallelism to avoid deadlocks...\n",
      "To disable this warning, you can either:\n",
      "\t- Avoid using `tokenizers` before the fork if possible\n",
      "\t- Explicitly set the environment variable TOKENIZERS_PARALLELISM=(true | false)\n"
     ]
    },
    {
     "data": {
      "application/vnd.jupyter.widget-view+json": {
       "model_id": "2371ecc8188a47678071def29c677ba2",
       "version_major": 2,
       "version_minor": 0
      },
      "text/plain": [
       "Map:   0%|          | 0/348 [00:00<?, ? examples/s]"
      ]
     },
     "metadata": {},
     "output_type": "display_data"
    }
   ],
   "source": [
    "custom_tokenizer = Tokenizer.from_file(\"/Users/davidsegura/git/Leveraging_LLMs_causality/cage_SAD_llm/word_level_tokenizer.json\")\n",
    "\n",
    "def tokenize_function(batch):\n",
    "\n",
    "    prompts = [str(text) for text in batch[\"Prompt\"]]\n",
    "    \n",
    "    input_ids = []\n",
    "    attention_masks = []\n",
    "    for text in prompts:\n",
    "        tokens = tokenizer.encode(text)\n",
    "        input_ids.append(tokens.ids)\n",
    "        attention_masks.append(tokens.attention_mask)\n",
    "    \n",
    "    return {\n",
    "        \"input_ids\": input_ids,\n",
    "        \"attention_mask\": attention_masks\n",
    "    }\n",
    "\n",
    "data_df[\"Prompt\"] = data_df[\"Prompt\"].astype(str)  \n",
    "dataset = Dataset.from_pandas(data_df)\n",
    "dataset = dataset.map(tokenize_function, batched=True)\n",
    "\n",
    "train_dataset, eval_dataset = dataset.train_test_split(test_size=0.2).values()"
   ]
  },
  {
   "cell_type": "code",
   "execution_count": 9,
   "metadata": {},
   "outputs": [
    {
     "name": "stdout",
     "output_type": "stream",
     "text": [
      "Sample input_ids: [[23, 5, 40, 38, 5, 10, 197, 9, 11, 134, 31, 30, 29, 47, 41, 33, 20, 21, 5, 35, 44, 24, 46, 12, 14, 7, 27, 36, 13, 5, 10, 8, 6, 51, 9, 7, 5, 11, 8, 6, 66, 12, 14, 7, 16, 15, 25, 13, 5, 10, 8, 6, 65, 9, 7, 5, 11, 8, 6, 61, 12, 14, 7, 16, 15, 34, 13, 5, 10, 8, 6, 49, 9, 7, 5, 11, 8, 6, 48, 12, 14, 7, 37, 28, 13, 5, 10, 8, 6, 167, 9, 7, 5, 11, 8, 6, 127, 12, 39, 18, 42, 32, 7, 5, 10, 8, 6, 173, 9, 7, 5, 11, 8, 6, 126, 12, 22, 19, 43, 45, 26, 7, 5, 10, 8, 6, 180, 9, 7, 5, 11, 8, 6, 77], [23, 5, 40, 38, 5, 10, 149, 9, 11, 120, 31, 30, 29, 47, 41, 33, 20, 21, 5, 35, 44, 24, 46, 12, 14, 7, 27, 36, 13, 5, 10, 8, 6, 49, 9, 7, 5, 11, 8, 6, 52, 12, 14, 7, 16, 15, 25, 13, 5, 10, 8, 6, 51, 9, 7, 5, 11, 8, 6, 48, 12, 14, 7, 16, 15, 34, 13, 5, 10, 8, 6, 17, 9, 7, 5, 11, 8, 6, 50, 12, 14, 7, 37, 28, 13, 5, 10, 8, 6, 58, 9, 7, 5, 11, 8, 6, 59, 12, 39, 18, 42, 32, 7, 5, 10, 8, 6, 137, 9, 7, 5, 11, 8, 6, 60, 12, 22, 19, 43, 45, 26, 7, 5, 10, 8, 6, 82, 9, 7, 5, 11, 8, 6, 54], [23, 5, 40, 38, 5, 10, 159, 9, 11, 116, 31, 30, 29, 47, 41, 33, 20, 21, 5, 35, 44, 24, 46, 12, 14, 7, 27, 36, 13, 5, 10, 8, 6, 55, 9, 7, 5, 11, 8, 6, 52, 12, 14, 7, 16, 15, 25, 13, 5, 10, 8, 6, 17, 9, 7, 5, 11, 8, 6, 48, 12, 14, 7, 16, 15, 34, 13, 5, 10, 8, 6, 17, 9, 7, 5, 11, 8, 6, 50, 12, 14, 7, 37, 28, 13, 5, 10, 8, 6, 58, 9, 7, 5, 11, 8, 6, 64, 12, 39, 18, 42, 32, 7, 5, 10, 8, 6, 136, 9, 7, 5, 11, 8, 6, 102, 12, 22, 19, 43, 45, 26, 7, 5, 10, 8, 6, 53, 9, 7, 5, 11, 8, 6, 54], [23, 5, 40, 38, 5, 10, 196, 9, 11, 133, 31, 30, 29, 47, 41, 33, 20, 21, 5, 35, 44, 24, 46, 12, 14, 7, 27, 36, 13, 5, 10, 8, 6, 17, 9, 7, 5, 11, 8, 6, 66, 12, 14, 7, 16, 15, 25, 13, 5, 10, 8, 6, 65, 9, 7, 5, 11, 8, 6, 61, 12, 14, 7, 16, 15, 34, 13, 5, 10, 8, 6, 49, 9, 7, 5, 11, 8, 6, 48, 12, 14, 7, 37, 28, 13, 5, 10, 8, 6, 169, 9, 7, 5, 11, 8, 6, 73, 12, 39, 18, 42, 32, 7, 5, 10, 8, 6, 176, 9, 7, 5, 11, 8, 6, 124, 12, 22, 19, 43, 45, 26, 7, 5, 10, 8, 6, 171, 9, 7, 5, 11, 8, 6, 77], [23, 5, 40, 38, 5, 10, 155, 9, 11, 115, 31, 30, 29, 47, 41, 33, 20, 21, 5, 35, 44, 24, 46, 12, 14, 7, 27, 36, 13, 5, 10, 8, 6, 49, 9, 7, 5, 11, 8, 6, 52, 12, 14, 7, 16, 15, 25, 13, 5, 10, 8, 6, 51, 9, 7, 5, 11, 8, 6, 56, 12, 14, 7, 16, 15, 34, 13, 5, 10, 8, 6, 51, 9, 7, 5, 11, 8, 6, 50, 12, 14, 7, 37, 28, 13, 5, 10, 8, 6, 74, 9, 7, 5, 11, 8, 6, 59, 12, 39, 18, 42, 32, 7, 5, 10, 8, 6, 87, 9, 7, 5, 11, 8, 6, 99, 12, 22, 19, 43, 45, 26, 7, 5, 10, 8, 6, 144, 9, 7, 5, 11, 8, 6, 106]]\n",
      "Sample attention_mask: [[1, 1, 1, 1, 1, 1, 1, 1, 1, 1, 1, 1, 1, 1, 1, 1, 1, 1, 1, 1, 1, 1, 1, 1, 1, 1, 1, 1, 1, 1, 1, 1, 1, 1, 1, 1, 1, 1, 1, 1, 1, 1, 1, 1, 1, 1, 1, 1, 1, 1, 1, 1, 1, 1, 1, 1, 1, 1, 1, 1, 1, 1, 1, 1, 1, 1, 1, 1, 1, 1, 1, 1, 1, 1, 1, 1, 1, 1, 1, 1, 1, 1, 1, 1, 1, 1, 1, 1, 1, 1, 1, 1, 1, 1, 1, 1, 1, 1, 1, 1, 1, 1, 1, 1, 1, 1, 1, 1, 1, 1, 1, 1, 1, 1, 1, 1, 1, 1, 1, 1, 1, 1, 1, 1, 1, 1, 1, 1, 1, 1, 1, 1, 1, 1], [1, 1, 1, 1, 1, 1, 1, 1, 1, 1, 1, 1, 1, 1, 1, 1, 1, 1, 1, 1, 1, 1, 1, 1, 1, 1, 1, 1, 1, 1, 1, 1, 1, 1, 1, 1, 1, 1, 1, 1, 1, 1, 1, 1, 1, 1, 1, 1, 1, 1, 1, 1, 1, 1, 1, 1, 1, 1, 1, 1, 1, 1, 1, 1, 1, 1, 1, 1, 1, 1, 1, 1, 1, 1, 1, 1, 1, 1, 1, 1, 1, 1, 1, 1, 1, 1, 1, 1, 1, 1, 1, 1, 1, 1, 1, 1, 1, 1, 1, 1, 1, 1, 1, 1, 1, 1, 1, 1, 1, 1, 1, 1, 1, 1, 1, 1, 1, 1, 1, 1, 1, 1, 1, 1, 1, 1, 1, 1, 1, 1, 1, 1, 1, 1], [1, 1, 1, 1, 1, 1, 1, 1, 1, 1, 1, 1, 1, 1, 1, 1, 1, 1, 1, 1, 1, 1, 1, 1, 1, 1, 1, 1, 1, 1, 1, 1, 1, 1, 1, 1, 1, 1, 1, 1, 1, 1, 1, 1, 1, 1, 1, 1, 1, 1, 1, 1, 1, 1, 1, 1, 1, 1, 1, 1, 1, 1, 1, 1, 1, 1, 1, 1, 1, 1, 1, 1, 1, 1, 1, 1, 1, 1, 1, 1, 1, 1, 1, 1, 1, 1, 1, 1, 1, 1, 1, 1, 1, 1, 1, 1, 1, 1, 1, 1, 1, 1, 1, 1, 1, 1, 1, 1, 1, 1, 1, 1, 1, 1, 1, 1, 1, 1, 1, 1, 1, 1, 1, 1, 1, 1, 1, 1, 1, 1, 1, 1, 1, 1], [1, 1, 1, 1, 1, 1, 1, 1, 1, 1, 1, 1, 1, 1, 1, 1, 1, 1, 1, 1, 1, 1, 1, 1, 1, 1, 1, 1, 1, 1, 1, 1, 1, 1, 1, 1, 1, 1, 1, 1, 1, 1, 1, 1, 1, 1, 1, 1, 1, 1, 1, 1, 1, 1, 1, 1, 1, 1, 1, 1, 1, 1, 1, 1, 1, 1, 1, 1, 1, 1, 1, 1, 1, 1, 1, 1, 1, 1, 1, 1, 1, 1, 1, 1, 1, 1, 1, 1, 1, 1, 1, 1, 1, 1, 1, 1, 1, 1, 1, 1, 1, 1, 1, 1, 1, 1, 1, 1, 1, 1, 1, 1, 1, 1, 1, 1, 1, 1, 1, 1, 1, 1, 1, 1, 1, 1, 1, 1, 1, 1, 1, 1, 1, 1], [1, 1, 1, 1, 1, 1, 1, 1, 1, 1, 1, 1, 1, 1, 1, 1, 1, 1, 1, 1, 1, 1, 1, 1, 1, 1, 1, 1, 1, 1, 1, 1, 1, 1, 1, 1, 1, 1, 1, 1, 1, 1, 1, 1, 1, 1, 1, 1, 1, 1, 1, 1, 1, 1, 1, 1, 1, 1, 1, 1, 1, 1, 1, 1, 1, 1, 1, 1, 1, 1, 1, 1, 1, 1, 1, 1, 1, 1, 1, 1, 1, 1, 1, 1, 1, 1, 1, 1, 1, 1, 1, 1, 1, 1, 1, 1, 1, 1, 1, 1, 1, 1, 1, 1, 1, 1, 1, 1, 1, 1, 1, 1, 1, 1, 1, 1, 1, 1, 1, 1, 1, 1, 1, 1, 1, 1, 1, 1, 1, 1, 1, 1, 1, 1]]\n"
     ]
    }
   ],
   "source": [
    "print(\"Sample input_ids:\", train_dataset['input_ids'][:5])\n",
    "print(\"Sample attention_mask:\", train_dataset['attention_mask'][:5])"
   ]
  },
  {
   "cell_type": "code",
   "execution_count": 10,
   "metadata": {},
   "outputs": [
    {
     "name": "stdout",
     "output_type": "stream",
     "text": [
      "Sample input_ids: [[23, 5, 40, 38, 5, 10, 164, 9, 11, 111, 31, 30, 29, 47, 41, 33, 20, 21, 5, 35, 44, 24, 46, 12, 14, 7, 27, 36, 13, 5, 10, 8, 6, 55, 9, 7, 5, 11, 8, 6, 57, 12, 14, 7, 16, 15, 25, 13, 5, 10, 8, 6, 51, 9, 7, 5, 11, 8, 6, 61, 12, 14, 7, 16, 15, 34, 13, 5, 10, 8, 6, 17, 9, 7, 5, 11, 8, 6, 90, 12, 14, 7, 37, 28, 13, 5, 10, 8, 6, 84, 9, 7, 5, 11, 8, 6, 73, 12, 39, 18, 42, 32, 7, 5, 10, 8, 6, 79, 9, 7, 5, 11, 8, 6, 89, 12, 22, 19, 43, 45, 26, 7, 5, 10, 8, 6, 82, 9, 7, 5, 11, 8, 6, 104], [23, 5, 40, 38, 5, 10, 156, 9, 11, 115, 31, 30, 29, 47, 41, 33, 20, 21, 5, 35, 44, 24, 46, 12, 14, 7, 27, 36, 13, 5, 10, 8, 6, 49, 9, 7, 5, 11, 8, 6, 52, 12, 14, 7, 16, 15, 25, 13, 5, 10, 8, 6, 65, 9, 7, 5, 11, 8, 6, 56, 12, 14, 7, 16, 15, 34, 13, 5, 10, 8, 6, 51, 9, 7, 5, 11, 8, 6, 50, 12, 14, 7, 37, 28, 13, 5, 10, 8, 6, 58, 9, 7, 5, 11, 8, 6, 59, 12, 39, 18, 42, 32, 7, 5, 10, 8, 6, 141, 9, 7, 5, 11, 8, 6, 99, 12, 22, 19, 43, 45, 26, 7, 5, 10, 8, 6, 146, 9, 7, 5, 11, 8, 6, 106], [23, 5, 40, 38, 5, 10, 188, 9, 11, 133, 31, 30, 29, 47, 41, 33, 20, 21, 5, 35, 44, 24, 46, 12, 14, 7, 27, 36, 13, 5, 10, 8, 6, 17, 9, 7, 5, 11, 8, 6, 66, 12, 14, 7, 16, 15, 25, 13, 5, 10, 8, 6, 85, 9, 7, 5, 11, 8, 6, 61, 12, 14, 7, 16, 15, 34, 13, 5, 10, 8, 6, 49, 9, 7, 5, 11, 8, 6, 48, 12, 14, 7, 37, 28, 13, 5, 10, 8, 6, 177, 9, 7, 5, 11, 8, 6, 73, 12, 39, 18, 42, 32, 7, 5, 10, 8, 6, 168, 9, 7, 5, 11, 8, 6, 124, 12, 22, 19, 43, 45, 26, 7, 5, 10, 8, 6, 182, 9, 7, 5, 11, 8, 6, 77], [23, 5, 40, 38, 5, 10, 156, 9, 11, 112, 31, 30, 29, 47, 41, 33, 20, 21, 5, 35, 44, 24, 46, 12, 14, 7, 27, 36, 13, 5, 10, 8, 6, 49, 9, 7, 5, 11, 8, 6, 57, 12, 14, 7, 16, 15, 25, 13, 5, 10, 8, 6, 65, 9, 7, 5, 11, 8, 6, 48, 12, 14, 7, 16, 15, 34, 13, 5, 10, 8, 6, 51, 9, 7, 5, 11, 8, 6, 50, 12, 14, 7, 37, 28, 13, 5, 10, 8, 6, 58, 9, 7, 5, 11, 8, 6, 92, 12, 39, 18, 42, 32, 7, 5, 10, 8, 6, 141, 9, 7, 5, 11, 8, 6, 88, 12, 22, 19, 43, 45, 26, 7, 5, 10, 8, 6, 146, 9, 7, 5, 11, 8, 6, 54], [23, 5, 40, 38, 5, 10, 152, 9, 11, 120, 31, 30, 29, 47, 41, 33, 20, 21, 5, 35, 44, 24, 46, 12, 14, 7, 27, 36, 13, 5, 10, 8, 6, 55, 9, 7, 5, 11, 8, 6, 52, 12, 14, 7, 16, 15, 25, 13, 5, 10, 8, 6, 17, 9, 7, 5, 11, 8, 6, 48, 12, 14, 7, 16, 15, 34, 13, 5, 10, 8, 6, 17, 9, 7, 5, 11, 8, 6, 50, 12, 14, 7, 37, 28, 13, 5, 10, 8, 6, 58, 9, 7, 5, 11, 8, 6, 59, 12, 39, 18, 42, 32, 7, 5, 10, 8, 6, 62, 9, 7, 5, 11, 8, 6, 60, 12, 22, 19, 43, 45, 26, 7, 5, 10, 8, 6, 53, 9, 7, 5, 11, 8, 6, 54]]\n"
     ]
    }
   ],
   "source": [
    "print(\"Sample input_ids:\", eval_dataset['input_ids'][:5])\n"
   ]
  },
  {
   "cell_type": "code",
   "execution_count": 11,
   "metadata": {},
   "outputs": [
    {
     "name": "stderr",
     "output_type": "stream",
     "text": [
      "Some weights of BertForSequenceClassification were not initialized from the model checkpoint at bert-base-uncased and are newly initialized: ['classifier.bias', 'classifier.weight']\n",
      "You should probably TRAIN this model on a down-stream task to be able to use it for predictions and inference.\n"
     ]
    },
    {
     "data": {
      "application/vnd.jupyter.widget-view+json": {
       "model_id": "0a3ea9dbb5ef45609f3371317c0953de",
       "version_major": 2,
       "version_minor": 0
      },
      "text/plain": [
       "Map:   0%|          | 0/278 [00:00<?, ? examples/s]"
      ]
     },
     "metadata": {},
     "output_type": "display_data"
    },
    {
     "data": {
      "application/vnd.jupyter.widget-view+json": {
       "model_id": "dddae8c10399408fa1ff5743a0f218af",
       "version_major": 2,
       "version_minor": 0
      },
      "text/plain": [
       "Map:   0%|          | 0/70 [00:00<?, ? examples/s]"
      ]
     },
     "metadata": {},
     "output_type": "display_data"
    }
   ],
   "source": [
    "model = BertForSequenceClassification.from_pretrained(\"bert-base-uncased\", num_labels=2)\n",
    "\n",
    "train_dataset = train_dataset.map(lambda x: {\"labels\": int(x[\"labels\"])})\n",
    "eval_dataset = eval_dataset.map(lambda x: {\"labels\": int(x[\"labels\"])})\n",
    "\n",
    "train_dataset.set_format(type=\"torch\", columns=[\"input_ids\", \"attention_mask\", \"labels\"])\n",
    "eval_dataset.set_format(type=\"torch\", columns=[\"input_ids\", \"attention_mask\", \"labels\"])"
   ]
  },
  {
   "cell_type": "code",
   "execution_count": 12,
   "metadata": {},
   "outputs": [],
   "source": [
    "from transformers import PreTrainedTokenizerFast\n",
    "\n",
    "hf_tokenizer = PreTrainedTokenizerFast(tokenizer_file=\"/Users/davidsegura/git/Leveraging_LLMs_causality/cage_SAD_llm/word_level_tokenizer.json\")\n",
    "hf_tokenizer.pad_token = \"[PAD]\"\n",
    "hf_tokenizer.cls_token = \"[CLS]\"\n",
    "hf_tokenizer.sep_token = \"[SEP]\"\n",
    "hf_tokenizer.mask_token = \"[MASK]\"\n",
    "hf_tokenizer.unk_token = \"[UNK]\"\n"
   ]
  },
  {
   "cell_type": "code",
   "execution_count": 13,
   "metadata": {},
   "outputs": [
    {
     "name": "stderr",
     "output_type": "stream",
     "text": [
      "/Users/davidsegura/miniconda3/envs/env_cage/lib/python3.9/site-packages/transformers/training_args.py:1568: FutureWarning: `evaluation_strategy` is deprecated and will be removed in version 4.46 of 🤗 Transformers. Use `eval_strategy` instead\n",
      "  warnings.warn(\n",
      "/var/folders/g8/mq_cbywj17g7tbgmmcy_bxm40000gn/T/ipykernel_91098/2586569330.py:27: FutureWarning: `tokenizer` is deprecated and will be removed in version 5.0.0 for `Trainer.__init__`. Use `processing_class` instead.\n",
      "  trainer = Trainer(\n"
     ]
    }
   ],
   "source": [
    "import evaluate\n",
    "import numpy as np\n",
    "from transformers import Trainer, TrainingArguments\n",
    "\n",
    "accuracy_metric = evaluate.load(\"accuracy\")\n",
    "\n",
    "def compute_metrics(eval_pred):\n",
    "    logits, labels = eval_pred\n",
    "    predictions = np.argmax(logits, axis=-1)\n",
    "    accuracy = accuracy_metric.compute(predictions=predictions, references=labels)\n",
    "    return {\"accuracy\": accuracy[\"accuracy\"]}\n",
    "\n",
    "training_args = TrainingArguments(\n",
    "    output_dir=\"./results\",\n",
    "    evaluation_strategy=\"epoch\",\n",
    "    learning_rate=1e-5,\n",
    "    per_device_train_batch_size=8,\n",
    "    per_device_eval_batch_size=8,\n",
    "    num_train_epochs=5,\n",
    "    weight_decay=0.01,\n",
    ")\n",
    "\n",
    "trainer = Trainer(\n",
    "    model=model,\n",
    "    args=training_args,\n",
    "    train_dataset=train_dataset,\n",
    "    eval_dataset=eval_dataset,\n",
    "    tokenizer=hf_tokenizer,\n",
    "    compute_metrics=compute_metrics\n",
    ")\n",
    "\n",
    "\n"
   ]
  },
  {
   "cell_type": "code",
   "execution_count": 14,
   "metadata": {},
   "outputs": [
    {
     "data": {
      "application/vnd.jupyter.widget-view+json": {
       "model_id": "a435e5c9c23745198db0f315daf8dcf9",
       "version_major": 2,
       "version_minor": 0
      },
      "text/plain": [
       "  0%|          | 0/175 [00:00<?, ?it/s]"
      ]
     },
     "metadata": {},
     "output_type": "display_data"
    },
    {
     "data": {
      "application/vnd.jupyter.widget-view+json": {
       "model_id": "d873d0af83824a7a821d9f266f47a7f8",
       "version_major": 2,
       "version_minor": 0
      },
      "text/plain": [
       "  0%|          | 0/9 [00:00<?, ?it/s]"
      ]
     },
     "metadata": {},
     "output_type": "display_data"
    },
    {
     "name": "stdout",
     "output_type": "stream",
     "text": [
      "{'eval_loss': 0.698342502117157, 'eval_accuracy': 0.5714285714285714, 'eval_runtime': 3.7161, 'eval_samples_per_second': 18.837, 'eval_steps_per_second': 2.422, 'epoch': 1.0}\n"
     ]
    },
    {
     "data": {
      "application/vnd.jupyter.widget-view+json": {
       "model_id": "e8ae010cac77411d9f886109820c62c8",
       "version_major": 2,
       "version_minor": 0
      },
      "text/plain": [
       "  0%|          | 0/9 [00:00<?, ?it/s]"
      ]
     },
     "metadata": {},
     "output_type": "display_data"
    },
    {
     "name": "stdout",
     "output_type": "stream",
     "text": [
      "{'eval_loss': 0.6919854879379272, 'eval_accuracy': 0.5714285714285714, 'eval_runtime': 5.2619, 'eval_samples_per_second': 13.303, 'eval_steps_per_second': 1.71, 'epoch': 2.0}\n"
     ]
    },
    {
     "data": {
      "application/vnd.jupyter.widget-view+json": {
       "model_id": "cf08bc7a46664928b015226a2f8cffc5",
       "version_major": 2,
       "version_minor": 0
      },
      "text/plain": [
       "  0%|          | 0/9 [00:00<?, ?it/s]"
      ]
     },
     "metadata": {},
     "output_type": "display_data"
    },
    {
     "name": "stdout",
     "output_type": "stream",
     "text": [
      "{'eval_loss': 0.6968165636062622, 'eval_accuracy': 0.5714285714285714, 'eval_runtime': 3.4097, 'eval_samples_per_second': 20.53, 'eval_steps_per_second': 2.64, 'epoch': 3.0}\n"
     ]
    },
    {
     "data": {
      "application/vnd.jupyter.widget-view+json": {
       "model_id": "1ccd64621853486ebf98ffa9eda41ac8",
       "version_major": 2,
       "version_minor": 0
      },
      "text/plain": [
       "  0%|          | 0/9 [00:00<?, ?it/s]"
      ]
     },
     "metadata": {},
     "output_type": "display_data"
    },
    {
     "name": "stdout",
     "output_type": "stream",
     "text": [
      "{'eval_loss': 0.7062683701515198, 'eval_accuracy': 0.4, 'eval_runtime': 3.3763, 'eval_samples_per_second': 20.733, 'eval_steps_per_second': 2.666, 'epoch': 4.0}\n"
     ]
    },
    {
     "data": {
      "application/vnd.jupyter.widget-view+json": {
       "model_id": "64671d22bfe347a39dcf6ff6af90e00c",
       "version_major": 2,
       "version_minor": 0
      },
      "text/plain": [
       "  0%|          | 0/9 [00:00<?, ?it/s]"
      ]
     },
     "metadata": {},
     "output_type": "display_data"
    },
    {
     "name": "stdout",
     "output_type": "stream",
     "text": [
      "{'eval_loss': 0.7035678625106812, 'eval_accuracy': 0.5714285714285714, 'eval_runtime': 3.1082, 'eval_samples_per_second': 22.521, 'eval_steps_per_second': 2.896, 'epoch': 5.0}\n",
      "{'train_runtime': 294.9783, 'train_samples_per_second': 4.712, 'train_steps_per_second': 0.593, 'train_loss': 0.6994365583147322, 'epoch': 5.0}\n"
     ]
    },
    {
     "data": {
      "application/vnd.jupyter.widget-view+json": {
       "model_id": "54042cc5736c45a3a5fb56a16345c6ae",
       "version_major": 2,
       "version_minor": 0
      },
      "text/plain": [
       "  0%|          | 0/9 [00:00<?, ?it/s]"
      ]
     },
     "metadata": {},
     "output_type": "display_data"
    },
    {
     "name": "stdout",
     "output_type": "stream",
     "text": [
      "{'eval_loss': 0.7035678625106812, 'eval_accuracy': 0.5714285714285714, 'eval_runtime': 3.2557, 'eval_samples_per_second': 21.501, 'eval_steps_per_second': 2.764, 'epoch': 5.0}\n"
     ]
    }
   ],
   "source": [
    "trainer.train()\n",
    "results = trainer.evaluate()\n",
    "print(results)"
   ]
  },
  {
   "cell_type": "markdown",
   "metadata": {},
   "source": [
    "# PLOTTING"
   ]
  },
  {
   "cell_type": "code",
   "execution_count": 461,
   "metadata": {},
   "outputs": [],
   "source": [
    "from transformers import TrainerCallback\n",
    "\n",
    "class CustomCallback(TrainerCallback):\n",
    "    def __init__(self):\n",
    "        super().__init__()\n",
    "        self.eval_losses = []\n",
    "        self.eval_accuracies = []\n",
    "\n",
    "    def on_epoch_end(self, args, state, control, **kwargs):\n",
    "\n",
    "        if 'trainer' in kwargs:\n",
    "            trainer = kwargs['trainer'] \n",
    "            eval_results = trainer.evaluate()  \n",
    "            print(\"Evaluation Results:\", eval_results)  \n",
    "            self.eval_losses.append(eval_results.get(\"eval_loss\", None))\n",
    "            self.eval_accuracies.append(eval_results.get(\"eval_accuracy\", None))  "
   ]
  },
  {
   "cell_type": "code",
   "execution_count": 462,
   "metadata": {},
   "outputs": [
    {
     "name": "stderr",
     "output_type": "stream",
     "text": [
      "/var/folders/g8/mq_cbywj17g7tbgmmcy_bxm40000gn/T/ipykernel_44453/4008845704.py:5: FutureWarning: `tokenizer` is deprecated and will be removed in version 5.0.0 for `Trainer.__init__`. Use `processing_class` instead.\n",
      "  trainer = Trainer(\n"
     ]
    },
    {
     "data": {
      "application/vnd.jupyter.widget-view+json": {
       "model_id": "253fc8026b4a4366aa132585eff00642",
       "version_major": 2,
       "version_minor": 0
      },
      "text/plain": [
       "  0%|          | 0/175 [00:00<?, ?it/s]"
      ]
     },
     "metadata": {},
     "output_type": "display_data"
    },
    {
     "data": {
      "application/vnd.jupyter.widget-view+json": {
       "model_id": "bc18f93229d44b7ab6b627fd715956a4",
       "version_major": 2,
       "version_minor": 0
      },
      "text/plain": [
       "  0%|          | 0/9 [00:00<?, ?it/s]"
      ]
     },
     "metadata": {},
     "output_type": "display_data"
    },
    {
     "name": "stdout",
     "output_type": "stream",
     "text": [
      "{'eval_loss': 0.7011894583702087, 'eval_accuracy': 0.5, 'eval_runtime': 3.4816, 'eval_samples_per_second': 20.105, 'eval_steps_per_second': 2.585, 'epoch': 1.0}\n"
     ]
    },
    {
     "data": {
      "application/vnd.jupyter.widget-view+json": {
       "model_id": "eedd31ed5c0645108faa0a2ec4c4144a",
       "version_major": 2,
       "version_minor": 0
      },
      "text/plain": [
       "  0%|          | 0/9 [00:00<?, ?it/s]"
      ]
     },
     "metadata": {},
     "output_type": "display_data"
    },
    {
     "name": "stdout",
     "output_type": "stream",
     "text": [
      "{'eval_loss': 0.6983897686004639, 'eval_accuracy': 0.5, 'eval_runtime': 3.2239, 'eval_samples_per_second': 21.713, 'eval_steps_per_second': 2.792, 'epoch': 2.0}\n"
     ]
    },
    {
     "data": {
      "application/vnd.jupyter.widget-view+json": {
       "model_id": "073bfe2b07094487b8ba9e96c2018327",
       "version_major": 2,
       "version_minor": 0
      },
      "text/plain": [
       "  0%|          | 0/9 [00:00<?, ?it/s]"
      ]
     },
     "metadata": {},
     "output_type": "display_data"
    },
    {
     "name": "stdout",
     "output_type": "stream",
     "text": [
      "{'eval_loss': 0.696561872959137, 'eval_accuracy': 0.5, 'eval_runtime': 3.4872, 'eval_samples_per_second': 20.073, 'eval_steps_per_second': 2.581, 'epoch': 3.0}\n"
     ]
    },
    {
     "data": {
      "application/vnd.jupyter.widget-view+json": {
       "model_id": "57b6358d34ba4659b8a24df7d0923358",
       "version_major": 2,
       "version_minor": 0
      },
      "text/plain": [
       "  0%|          | 0/9 [00:00<?, ?it/s]"
      ]
     },
     "metadata": {},
     "output_type": "display_data"
    },
    {
     "name": "stdout",
     "output_type": "stream",
     "text": [
      "{'eval_loss': 0.6955206990242004, 'eval_accuracy': 0.5, 'eval_runtime': 3.3794, 'eval_samples_per_second': 20.714, 'eval_steps_per_second': 2.663, 'epoch': 4.0}\n"
     ]
    },
    {
     "data": {
      "application/vnd.jupyter.widget-view+json": {
       "model_id": "36bfb37af9ab4c4e92413fc3b41d183f",
       "version_major": 2,
       "version_minor": 0
      },
      "text/plain": [
       "  0%|          | 0/9 [00:00<?, ?it/s]"
      ]
     },
     "metadata": {},
     "output_type": "display_data"
    },
    {
     "name": "stdout",
     "output_type": "stream",
     "text": [
      "{'eval_loss': 0.6953867077827454, 'eval_accuracy': 0.5, 'eval_runtime': 3.2767, 'eval_samples_per_second': 21.363, 'eval_steps_per_second': 2.747, 'epoch': 5.0}\n",
      "{'train_runtime': 258.0728, 'train_samples_per_second': 5.386, 'train_steps_per_second': 0.678, 'train_loss': 0.6951119123186384, 'epoch': 5.0}\n"
     ]
    },
    {
     "data": {
      "text/plain": [
       "TrainOutput(global_step=175, training_loss=0.6951119123186384, metrics={'train_runtime': 258.0728, 'train_samples_per_second': 5.386, 'train_steps_per_second': 0.678, 'total_flos': 95716924162800.0, 'train_loss': 0.6951119123186384, 'epoch': 5.0})"
      ]
     },
     "execution_count": 462,
     "metadata": {},
     "output_type": "execute_result"
    }
   ],
   "source": [
    "custom_callback = CustomCallback()\n",
    "\n",
    "trainer = Trainer(\n",
    "    model=model,\n",
    "    args=training_args,\n",
    "    train_dataset=train_dataset,\n",
    "    eval_dataset=eval_dataset,\n",
    "    tokenizer=hf_tokenizer,\n",
    "    compute_metrics=compute_metrics,\n",
    "    callbacks=[custom_callback]  \n",
    ")\n",
    "\n",
    "trainer.train()\n"
   ]
  },
  {
   "cell_type": "code",
   "execution_count": 463,
   "metadata": {},
   "outputs": [
    {
     "name": "stderr",
     "output_type": "stream",
     "text": [
      "/Users/davidsegura/miniconda3/envs/env_cage/lib/python3.9/site-packages/transformers/training_args.py:1568: FutureWarning: `evaluation_strategy` is deprecated and will be removed in version 4.46 of 🤗 Transformers. Use `eval_strategy` instead\n",
      "  warnings.warn(\n",
      "/var/folders/g8/mq_cbywj17g7tbgmmcy_bxm40000gn/T/ipykernel_44453/1855078275.py:38: FutureWarning: `tokenizer` is deprecated and will be removed in version 5.0.0 for `Trainer.__init__`. Use `processing_class` instead.\n",
      "  trainer = Trainer(\n"
     ]
    },
    {
     "name": "stdout",
     "output_type": "stream",
     "text": [
      "Starting run 1/3\n"
     ]
    },
    {
     "data": {
      "application/vnd.jupyter.widget-view+json": {
       "model_id": "137cc45afbe142d8a25edd8e2e57fa64",
       "version_major": 2,
       "version_minor": 0
      },
      "text/plain": [
       "  0%|          | 0/175 [00:00<?, ?it/s]"
      ]
     },
     "metadata": {},
     "output_type": "display_data"
    },
    {
     "data": {
      "application/vnd.jupyter.widget-view+json": {
       "model_id": "3bd2c9a1eb6d4158bd2b104dda26f939",
       "version_major": 2,
       "version_minor": 0
      },
      "text/plain": [
       "  0%|          | 0/9 [00:00<?, ?it/s]"
      ]
     },
     "metadata": {},
     "output_type": "display_data"
    },
    {
     "name": "stdout",
     "output_type": "stream",
     "text": [
      "{'eval_loss': 0.702090322971344, 'eval_accuracy': 0.5, 'eval_runtime': 3.443, 'eval_samples_per_second': 20.331, 'eval_steps_per_second': 2.614, 'epoch': 1.0}\n"
     ]
    },
    {
     "data": {
      "application/vnd.jupyter.widget-view+json": {
       "model_id": "8349374fd94f4ccc80e8b1538e59331c",
       "version_major": 2,
       "version_minor": 0
      },
      "text/plain": [
       "  0%|          | 0/9 [00:00<?, ?it/s]"
      ]
     },
     "metadata": {},
     "output_type": "display_data"
    },
    {
     "name": "stdout",
     "output_type": "stream",
     "text": [
      "{'eval_loss': 0.7054299116134644, 'eval_accuracy': 0.5, 'eval_runtime': 3.4253, 'eval_samples_per_second': 20.436, 'eval_steps_per_second': 2.627, 'epoch': 2.0}\n"
     ]
    },
    {
     "data": {
      "application/vnd.jupyter.widget-view+json": {
       "model_id": "a33a47dbb26247bc97674f3ddc54ca1a",
       "version_major": 2,
       "version_minor": 0
      },
      "text/plain": [
       "  0%|          | 0/9 [00:00<?, ?it/s]"
      ]
     },
     "metadata": {},
     "output_type": "display_data"
    },
    {
     "name": "stdout",
     "output_type": "stream",
     "text": [
      "{'eval_loss': 0.6998541951179504, 'eval_accuracy': 0.5, 'eval_runtime': 4.095, 'eval_samples_per_second': 17.094, 'eval_steps_per_second': 2.198, 'epoch': 3.0}\n"
     ]
    },
    {
     "data": {
      "application/vnd.jupyter.widget-view+json": {
       "model_id": "6089ae786c3a491a954b889a7984618f",
       "version_major": 2,
       "version_minor": 0
      },
      "text/plain": [
       "  0%|          | 0/9 [00:00<?, ?it/s]"
      ]
     },
     "metadata": {},
     "output_type": "display_data"
    },
    {
     "name": "stdout",
     "output_type": "stream",
     "text": [
      "{'eval_loss': 0.6979029774665833, 'eval_accuracy': 0.5, 'eval_runtime': 3.4529, 'eval_samples_per_second': 20.273, 'eval_steps_per_second': 2.606, 'epoch': 4.0}\n"
     ]
    },
    {
     "data": {
      "application/vnd.jupyter.widget-view+json": {
       "model_id": "5cf09d4d50374c5eb62d0abd8cb2cf1b",
       "version_major": 2,
       "version_minor": 0
      },
      "text/plain": [
       "  0%|          | 0/9 [00:00<?, ?it/s]"
      ]
     },
     "metadata": {},
     "output_type": "display_data"
    },
    {
     "name": "stdout",
     "output_type": "stream",
     "text": [
      "{'eval_loss': 0.6978318095207214, 'eval_accuracy': 0.5, 'eval_runtime': 3.2491, 'eval_samples_per_second': 21.545, 'eval_steps_per_second': 2.77, 'epoch': 5.0}\n",
      "{'train_runtime': 264.2194, 'train_samples_per_second': 5.261, 'train_steps_per_second': 0.662, 'train_loss': 0.6913826642717634, 'epoch': 5.0}\n",
      "Starting run 2/3\n"
     ]
    },
    {
     "name": "stderr",
     "output_type": "stream",
     "text": [
      "/var/folders/g8/mq_cbywj17g7tbgmmcy_bxm40000gn/T/ipykernel_44453/1855078275.py:38: FutureWarning: `tokenizer` is deprecated and will be removed in version 5.0.0 for `Trainer.__init__`. Use `processing_class` instead.\n",
      "  trainer = Trainer(\n"
     ]
    },
    {
     "data": {
      "application/vnd.jupyter.widget-view+json": {
       "model_id": "dee4692c5bc1406b9cd07b5a5584f6ed",
       "version_major": 2,
       "version_minor": 0
      },
      "text/plain": [
       "  0%|          | 0/175 [00:00<?, ?it/s]"
      ]
     },
     "metadata": {},
     "output_type": "display_data"
    },
    {
     "data": {
      "application/vnd.jupyter.widget-view+json": {
       "model_id": "b171a307de014c27bf34e7000efeaa5b",
       "version_major": 2,
       "version_minor": 0
      },
      "text/plain": [
       "  0%|          | 0/9 [00:00<?, ?it/s]"
      ]
     },
     "metadata": {},
     "output_type": "display_data"
    },
    {
     "name": "stdout",
     "output_type": "stream",
     "text": [
      "{'eval_loss': 0.7041563987731934, 'eval_accuracy': 0.5, 'eval_runtime': 3.4536, 'eval_samples_per_second': 20.268, 'eval_steps_per_second': 2.606, 'epoch': 1.0}\n"
     ]
    },
    {
     "data": {
      "application/vnd.jupyter.widget-view+json": {
       "model_id": "aa89c1e4caa14f2389f8fded38c48979",
       "version_major": 2,
       "version_minor": 0
      },
      "text/plain": [
       "  0%|          | 0/9 [00:00<?, ?it/s]"
      ]
     },
     "metadata": {},
     "output_type": "display_data"
    },
    {
     "name": "stdout",
     "output_type": "stream",
     "text": [
      "{'eval_loss': 0.7135424613952637, 'eval_accuracy': 0.5, 'eval_runtime': 3.4316, 'eval_samples_per_second': 20.399, 'eval_steps_per_second': 2.623, 'epoch': 2.0}\n"
     ]
    },
    {
     "data": {
      "application/vnd.jupyter.widget-view+json": {
       "model_id": "c299027b8da6444585bd4ffae8d8b223",
       "version_major": 2,
       "version_minor": 0
      },
      "text/plain": [
       "  0%|          | 0/9 [00:00<?, ?it/s]"
      ]
     },
     "metadata": {},
     "output_type": "display_data"
    },
    {
     "name": "stdout",
     "output_type": "stream",
     "text": [
      "{'eval_loss': 0.6993938088417053, 'eval_accuracy': 0.5, 'eval_runtime': 3.1397, 'eval_samples_per_second': 22.295, 'eval_steps_per_second': 2.866, 'epoch': 3.0}\n"
     ]
    },
    {
     "data": {
      "application/vnd.jupyter.widget-view+json": {
       "model_id": "b29553042c58481faa16be193dd8371d",
       "version_major": 2,
       "version_minor": 0
      },
      "text/plain": [
       "  0%|          | 0/9 [00:00<?, ?it/s]"
      ]
     },
     "metadata": {},
     "output_type": "display_data"
    },
    {
     "name": "stdout",
     "output_type": "stream",
     "text": [
      "{'eval_loss': 0.6961474418640137, 'eval_accuracy': 0.5, 'eval_runtime': 3.3697, 'eval_samples_per_second': 20.773, 'eval_steps_per_second': 2.671, 'epoch': 4.0}\n"
     ]
    },
    {
     "data": {
      "application/vnd.jupyter.widget-view+json": {
       "model_id": "cb30b4d745254253963e911d7e1fedc9",
       "version_major": 2,
       "version_minor": 0
      },
      "text/plain": [
       "  0%|          | 0/9 [00:00<?, ?it/s]"
      ]
     },
     "metadata": {},
     "output_type": "display_data"
    },
    {
     "name": "stdout",
     "output_type": "stream",
     "text": [
      "{'eval_loss': 0.6960355639457703, 'eval_accuracy': 0.5, 'eval_runtime': 3.2771, 'eval_samples_per_second': 21.36, 'eval_steps_per_second': 2.746, 'epoch': 5.0}\n",
      "{'train_runtime': 255.7488, 'train_samples_per_second': 5.435, 'train_steps_per_second': 0.684, 'train_loss': 0.6907188197544643, 'epoch': 5.0}\n",
      "Starting run 3/3\n"
     ]
    },
    {
     "name": "stderr",
     "output_type": "stream",
     "text": [
      "/var/folders/g8/mq_cbywj17g7tbgmmcy_bxm40000gn/T/ipykernel_44453/1855078275.py:38: FutureWarning: `tokenizer` is deprecated and will be removed in version 5.0.0 for `Trainer.__init__`. Use `processing_class` instead.\n",
      "  trainer = Trainer(\n"
     ]
    },
    {
     "data": {
      "application/vnd.jupyter.widget-view+json": {
       "model_id": "518620b9eb29446a92c56f4c1953f29e",
       "version_major": 2,
       "version_minor": 0
      },
      "text/plain": [
       "  0%|          | 0/175 [00:00<?, ?it/s]"
      ]
     },
     "metadata": {},
     "output_type": "display_data"
    },
    {
     "data": {
      "application/vnd.jupyter.widget-view+json": {
       "model_id": "f5de33d88da44ca5bd89ec93cdf0b37c",
       "version_major": 2,
       "version_minor": 0
      },
      "text/plain": [
       "  0%|          | 0/9 [00:00<?, ?it/s]"
      ]
     },
     "metadata": {},
     "output_type": "display_data"
    },
    {
     "name": "stdout",
     "output_type": "stream",
     "text": [
      "{'eval_loss': 0.7049792408943176, 'eval_accuracy': 0.5, 'eval_runtime': 4.1177, 'eval_samples_per_second': 17.0, 'eval_steps_per_second': 2.186, 'epoch': 1.0}\n"
     ]
    },
    {
     "data": {
      "application/vnd.jupyter.widget-view+json": {
       "model_id": "3cc11674ce134a06ba38e39049a2fcd3",
       "version_major": 2,
       "version_minor": 0
      },
      "text/plain": [
       "  0%|          | 0/9 [00:00<?, ?it/s]"
      ]
     },
     "metadata": {},
     "output_type": "display_data"
    },
    {
     "name": "stdout",
     "output_type": "stream",
     "text": [
      "{'eval_loss': 0.7161194086074829, 'eval_accuracy': 0.5, 'eval_runtime': 3.3775, 'eval_samples_per_second': 20.726, 'eval_steps_per_second': 2.665, 'epoch': 2.0}\n"
     ]
    },
    {
     "data": {
      "application/vnd.jupyter.widget-view+json": {
       "model_id": "2c73c502f23c420cbae53b44f5229a2a",
       "version_major": 2,
       "version_minor": 0
      },
      "text/plain": [
       "  0%|          | 0/9 [00:00<?, ?it/s]"
      ]
     },
     "metadata": {},
     "output_type": "display_data"
    },
    {
     "name": "stdout",
     "output_type": "stream",
     "text": [
      "{'eval_loss': 0.7017362117767334, 'eval_accuracy': 0.5, 'eval_runtime': 3.222, 'eval_samples_per_second': 21.726, 'eval_steps_per_second': 2.793, 'epoch': 3.0}\n"
     ]
    },
    {
     "data": {
      "application/vnd.jupyter.widget-view+json": {
       "model_id": "b10d89f663a04caa851f95cfa008aa34",
       "version_major": 2,
       "version_minor": 0
      },
      "text/plain": [
       "  0%|          | 0/9 [00:00<?, ?it/s]"
      ]
     },
     "metadata": {},
     "output_type": "display_data"
    },
    {
     "name": "stdout",
     "output_type": "stream",
     "text": [
      "{'eval_loss': 0.6982110142707825, 'eval_accuracy': 0.4857142857142857, 'eval_runtime': 3.5974, 'eval_samples_per_second': 19.458, 'eval_steps_per_second': 2.502, 'epoch': 4.0}\n"
     ]
    },
    {
     "data": {
      "application/vnd.jupyter.widget-view+json": {
       "model_id": "1323a187e2664e859b9305eb2ec30235",
       "version_major": 2,
       "version_minor": 0
      },
      "text/plain": [
       "  0%|          | 0/9 [00:00<?, ?it/s]"
      ]
     },
     "metadata": {},
     "output_type": "display_data"
    },
    {
     "name": "stdout",
     "output_type": "stream",
     "text": [
      "{'eval_loss': 0.6978790760040283, 'eval_accuracy': 0.4857142857142857, 'eval_runtime': 3.2508, 'eval_samples_per_second': 21.533, 'eval_steps_per_second': 2.769, 'epoch': 5.0}\n",
      "{'train_runtime': 254.5867, 'train_samples_per_second': 5.46, 'train_steps_per_second': 0.687, 'train_loss': 0.6844310215541295, 'epoch': 5.0}\n"
     ]
    },
    {
     "data": {
      "image/png": "[encoded data removed]",
      "text/plain": [
       "<Figure size 1200x500 with 2 Axes>"
      ]
     },
     "metadata": {},
     "output_type": "display_data"
    }
   ],
   "source": [
    "import evaluate\n",
    "import numpy as np\n",
    "import matplotlib.pyplot as plt\n",
    "from transformers import Trainer, TrainingArguments\n",
    "import transformers \n",
    "\n",
    "accuracy_metric = evaluate.load(\"accuracy\")\n",
    "\n",
    "def compute_metrics(eval_pred):\n",
    "    logits, labels = eval_pred\n",
    "    predictions = np.argmax(logits, axis=-1)\n",
    "    accuracy = accuracy_metric.compute(predictions=predictions, references=labels)\n",
    "    return {\"accuracy\": accuracy[\"accuracy\"]}\n",
    "\n",
    "training_args = TrainingArguments(\n",
    "    output_dir=\"./results\",\n",
    "    evaluation_strategy=\"epoch\",\n",
    "    learning_rate=1e-5,\n",
    "    per_device_train_batch_size=8,\n",
    "    per_device_eval_batch_size=8,\n",
    "    num_train_epochs=5,\n",
    "    weight_decay=0.01,\n",
    ")\n",
    "\n",
    "num_runs = 3\n",
    "all_eval_losses = []\n",
    "all_eval_accuracies = []\n",
    "\n",
    "for run in range(num_runs):\n",
    "    print(f\"Starting run {run + 1}/{num_runs}\")\n",
    "    \n",
    "    trainer = Trainer(\n",
    "        model=model,\n",
    "        args=training_args,\n",
    "        train_dataset=train_dataset,\n",
    "        eval_dataset=eval_dataset,\n",
    "        tokenizer=hf_tokenizer,\n",
    "        compute_metrics=compute_metrics\n",
    "    )\n",
    "\n",
    "    eval_losses = []\n",
    "    eval_accuracies = []\n",
    "\n",
    "    class CustomCallback(transformers.TrainerCallback):\n",
    "        def on_epoch_end(self, args, state, control, **kwargs):\n",
    "            eval_results = trainer.evaluate()\n",
    "            eval_losses.append(eval_results[\"eval_loss\"])\n",
    "            eval_accuracies.append(eval_results[\"eval_accuracy\"])\n",
    "\n",
    "    custom_callback = CustomCallback()\n",
    "    trainer.add_callback(custom_callback)\n",
    "\n",
    "    trainer.train()\n",
    "\n",
    "    all_eval_losses.append(eval_losses)\n",
    "    all_eval_accuracies.append(eval_accuracies)\n",
    "\n",
    "all_eval_losses = np.array(all_eval_losses)\n",
    "all_eval_accuracies = np.array(all_eval_accuracies)\n",
    "\n",
    "mean_losses = np.mean(all_eval_losses, axis=0)\n",
    "std_losses = np.std(all_eval_losses, axis=0)\n",
    "\n",
    "mean_accuracies = np.mean(all_eval_accuracies, axis=0)\n",
    "std_accuracies = np.std(all_eval_accuracies, axis=0)\n",
    "\n",
    "plt.figure(figsize=(12, 5))\n",
    "plt.subplot(1, 2, 1)\n",
    "plt.errorbar(range(1, training_args.num_train_epochs + 1), mean_losses, yerr=std_losses, marker='o', label='Validation Loss', capsize=5)\n",
    "plt.title('Validation Loss vs Epochs')\n",
    "plt.xlabel('Epochs')\n",
    "plt.ylabel('Loss')\n",
    "plt.xticks(range(1, training_args.num_train_epochs + 1))\n",
    "plt.legend()\n",
    "\n",
    "plt.subplot(1, 2, 2)\n",
    "plt.errorbar(range(1, training_args.num_train_epochs + 1), mean_accuracies, yerr=std_accuracies, marker='o', label='Validation Accuracy', color='orange', capsize=5)\n",
    "plt.title('Validation Accuracy vs Epochs')\n",
    "plt.xlabel('Epochs')\n",
    "plt.ylabel('Accuracy')\n",
    "plt.xticks(range(1, training_args.num_train_epochs + 1))\n",
    "plt.legend()\n",
    "\n",
    "plt.tight_layout()\n",
    "plt.show()\n"
   ]
  },
  {
   "cell_type": "markdown",
   "metadata": {},
   "source": [
    "# Plot the red attention map"
   ]
  },
  {
   "cell_type": "code",
   "execution_count": null,
   "metadata": {},
   "outputs": [],
   "source": [
    "from transformers import AutoTokenizer, AutoModel\n",
    "\n",
    "fine_tuned_model_path = \"./fine_tuned_model\"\n",
    "tokenizer = AutoTokenizer.from_pretrained(fine_tuned_model_path)\n",
    "model = AutoModel.from_pretrained(fine_tuned_model_path, output_attentions=True)\n"
   ]
  },
  {
   "cell_type": "code",
   "execution_count": null,
   "metadata": {},
   "outputs": [],
   "source": [
    "model.save_pretrained(\"./fine_tuned_model\") \n",
    "tokenizer.save(\"/Users/davidsegura/git/Leveraging_LLMs_causality/cage_SAD_llm/word_level_tokenizer.json\")  "
   ]
  },
  {
   "cell_type": "code",
   "execution_count": 397,
   "metadata": {},
   "outputs": [],
   "source": [
    "\n",
    "input_ids = test_dataset['input_ids'][0]\n"
   ]
  },
  {
   "cell_type": "code",
   "execution_count": 399,
   "metadata": {},
   "outputs": [],
   "source": [
    "input_ids = train_dataset['input_ids'][0]"
   ]
  },
  {
   "cell_type": "code",
   "execution_count": 419,
   "metadata": {},
   "outputs": [
    {
     "data": {
      "text/plain": [
       "tensor([ 18,  13,  31,  23,  11, 135,   8,  14, 124,  40,  33,  25,  19,  13,\n",
       "         27,  36,  29,  11,   8,  14,  32,  37,   5,   6,   7,   9,  28,  44,\n",
       "         49,   5,   6,   7,  12,  10,  21,  15,  51,   5,   6,   7,  12,  10,\n",
       "         26,  15,  42,   5,  30,  16,  34,  24,  58,  65,   5,  20,  17,  35,\n",
       "         39,  22,  41, 111,   6,   7,   9,  38,  41, 110])"
      ]
     },
     "execution_count": 419,
     "metadata": {},
     "output_type": "execute_result"
    }
   ],
   "source": [
    "eval_dataset['input_ids'][0]"
   ]
  },
  {
   "cell_type": "code",
   "execution_count": 426,
   "metadata": {},
   "outputs": [
    {
     "name": "stdout",
     "output_type": "stream",
     "text": [
      "Input IDs: tensor([ 18,  13,  31,  23,  11, 136,   8,  14, 117,  40,  33,  25,  19,  13,\n",
      "         27,  36,  29,  11,   8,  14,  32,  37,   5,   6,   7,   9,  28,  50,\n",
      "         46,   5,   6,   7,  12,  10,  21,  45,  42,   5,   6,   7,  12,  10,\n",
      "         26,  15,  43,   5,  30,  16,  34,  24,  68, 116,   5,  20,  17,  35,\n",
      "         39,  22,  55,  48,   6,   7,   9,  38,  55,  47]), Type: <class 'torch.Tensor'>\n",
      "Attention Mask: tensor([1, 1, 1, 1, 1, 1, 1, 1, 1, 1, 1, 1, 1, 1, 1, 1, 1, 1, 1, 1, 1, 1, 1, 1,\n",
      "        1, 1, 1, 1, 1, 1, 1, 1, 1, 1, 1, 1, 1, 1, 1, 1, 1, 1, 1, 1, 1, 1, 1, 1,\n",
      "        1, 1, 1, 1, 1, 1, 1, 1, 1, 1, 1, 1, 1, 1, 1, 1, 1, 1]), Type: <class 'torch.Tensor'>\n"
     ]
    },
    {
     "name": "stderr",
     "output_type": "stream",
     "text": [
      "/var/folders/g8/mq_cbywj17g7tbgmmcy_bxm40000gn/T/ipykernel_44453/636517878.py:42: MatplotlibDeprecationWarning: The get_cmap function was deprecated in Matplotlib 3.7 and will be removed in 3.11. Use ``matplotlib.colormaps[name]`` or ``matplotlib.colormaps.get_cmap()`` or ``pyplot.get_cmap()`` instead.\n",
      "  cmap = matplotlib.cm.get_cmap(\"Reds\")\n"
     ]
    },
    {
     "data": {
      "text/html": [
       "<div style='font-size: 16px; line-height: 1.6;'><span style='background-color: #67000d; padding:2px; border-radius: 3px; margin: 1px;'>Is</span> <span style='background-color: #fb694a; padding:2px; border-radius: 3px; margin: 1px;'>the</span> <span style='background-color: #67000d; padding:2px; border-radius: 3px; margin: 1px;'>mixture</span> <span style='background-color: #67000d; padding:2px; border-radius: 3px; margin: 1px;'>between</span> <span style='background-color: #fb694a; padding:2px; border-radius: 3px; margin: 1px;'>ditopic</span> <span style='background-color: #fb694a; padding:2px; border-radius: 3px; margin: 1px;'>NCC1=CC(CN)=CC=C1</span> <span style='background-color: #fb694a; padding:2px; border-radius: 3px; margin: 1px;'>and</span> <span style='background-color: #fb694a; padding:2px; border-radius: 3px; margin: 1px;'>tritopic</span> <span style='background-color: #fff5f0; padding:2px; border-radius: 3px; margin: 1px;'>O=Cc1ccc(OCc2cc(COc3ccc(C=O)cc3)cc(COc3ccc(C=O)cc3)c2)cc1</span> <span style='background-color: #fb694a; padding:2px; border-radius: 3px; margin: 1px;'>turbid</span> <span style='background-color: #fb694a; padding:2px; border-radius: 3px; margin: 1px;'>or</span> <span style='background-color: #fb694a; padding:2px; border-radius: 3px; margin: 1px;'>dissolved?</span> <span style='background-color: #fb694a; padding:2px; border-radius: 3px; margin: 1px;'>Knowing</span> <span style='background-color: #fb694a; padding:2px; border-radius: 3px; margin: 1px;'>the</span> <span style='background-color: #fb694a; padding:2px; border-radius: 3px; margin: 1px;'>following</span> <span style='background-color: #fb694a; padding:2px; border-radius: 3px; margin: 1px;'>properties</span> <span style='background-color: #fb694a; padding:2px; border-radius: 3px; margin: 1px;'>in</span> <span style='background-color: #67000d; padding:2px; border-radius: 3px; margin: 1px;'>ditopic</span> <span style='background-color: #fff5f0; padding:2px; border-radius: 3px; margin: 1px;'>and</span> <span style='background-color: #fb694a; padding:2px; border-radius: 3px; margin: 1px;'>tritopic</span> <span style='background-color: #fb694a; padding:2px; border-radius: 3px; margin: 1px;'>molecules</span> <span style='background-color: #fb694a; padding:2px; border-radius: 3px; margin: 1px;'>respectively:</span> <span style='background-color: #fb694a; padding:2px; border-radius: 3px; margin: 1px;'>The</span> <span style='background-color: #fb694a; padding:2px; border-radius: 3px; margin: 1px;'>number</span> <span style='background-color: #fb694a; padding:2px; border-radius: 3px; margin: 1px;'>of</span> <span style='background-color: #fb694a; padding:2px; border-radius: 3px; margin: 1px;'>aromatic</span> <span style='background-color: #fb694a; padding:2px; border-radius: 3px; margin: 1px;'>groups:</span> <span style='background-color: #fb694a; padding:2px; border-radius: 3px; margin: 1px;'>1,</span> <span style='background-color: #fb694a; padding:2px; border-radius: 3px; margin: 1px;'>4.</span> <span style='background-color: #fff5f0; padding:2px; border-radius: 3px; margin: 1px;'>The</span> <span style='background-color: #fff5f0; padding:2px; border-radius: 3px; margin: 1px;'>number</span> <span style='background-color: #fb694a; padding:2px; border-radius: 3px; margin: 1px;'>of</span> <span style='background-color: #fb694a; padding:2px; border-radius: 3px; margin: 1px;'>hydrogen</span> <span style='background-color: #fff5f0; padding:2px; border-radius: 3px; margin: 1px;'>bond</span> <span style='background-color: #fb694a; padding:2px; border-radius: 3px; margin: 1px;'>acceptors:</span> <span style='background-color: #fff5f0; padding:2px; border-radius: 3px; margin: 1px;'>2.0,</span> <span style='background-color: #fff5f0; padding:2px; border-radius: 3px; margin: 1px;'>6.0.</span> <span style='background-color: #67000d; padding:2px; border-radius: 3px; margin: 1px;'>The</span> <span style='background-color: #fff5f0; padding:2px; border-radius: 3px; margin: 1px;'>number</span> <span style='background-color: #67000d; padding:2px; border-radius: 3px; margin: 1px;'>of</span> <span style='background-color: #fb694a; padding:2px; border-radius: 3px; margin: 1px;'>hydrogen</span> <span style='background-color: #fb694a; padding:2px; border-radius: 3px; margin: 1px;'>bond</span> <span style='background-color: #fb694a; padding:2px; border-radius: 3px; margin: 1px;'>donors:</span> <span style='background-color: #fb694a; padding:2px; border-radius: 3px; margin: 1px;'>2.0,</span> <span style='background-color: #fff5f0; padding:2px; border-radius: 3px; margin: 1px;'>0.0.</span> <span style='background-color: #fb694a; padding:2px; border-radius: 3px; margin: 1px;'>The</span> <span style='background-color: #fb694a; padding:2px; border-radius: 3px; margin: 1px;'>logP</span> <span style='background-color: #fb694a; padding:2px; border-radius: 3px; margin: 1px;'>(octanol/water</span> <span style='background-color: #fb694a; padding:2px; border-radius: 3px; margin: 1px;'>partition</span> <span style='background-color: #fff5f0; padding:2px; border-radius: 3px; margin: 1px;'>coefficient):</span> <span style='background-color: #fff5f0; padding:2px; border-radius: 3px; margin: 1px;'>-0.3,</span> <span style='background-color: #fff5f0; padding:2px; border-radius: 3px; margin: 1px;'>4.7.</span> <span style='background-color: #fb694a; padding:2px; border-radius: 3px; margin: 1px;'>The</span> <span style='background-color: #fb694a; padding:2px; border-radius: 3px; margin: 1px;'>TPSA</span> <span style='background-color: #fb694a; padding:2px; border-radius: 3px; margin: 1px;'>(topological</span> <span style='background-color: #fb694a; padding:2px; border-radius: 3px; margin: 1px;'>polar</span> <span style='background-color: #fb694a; padding:2px; border-radius: 3px; margin: 1px;'>surface</span> <span style='background-color: #fff5f0; padding:2px; border-radius: 3px; margin: 1px;'>area):</span> <span style='background-color: #fb694a; padding:2px; border-radius: 3px; margin: 1px;'>52.0,</span> <span style='background-color: #fb694a; padding:2px; border-radius: 3px; margin: 1px;'>78.9.The</span> <span style='background-color: #fb694a; padding:2px; border-radius: 3px; margin: 1px;'>number</span> <span style='background-color: #fb694a; padding:2px; border-radius: 3px; margin: 1px;'>of</span> <span style='background-color: #fb694a; padding:2px; border-radius: 3px; margin: 1px;'>aromatic</span> <span style='background-color: #fb694a; padding:2px; border-radius: 3px; margin: 1px;'>rings:</span> <span style='background-color: #fb694a; padding:2px; border-radius: 3px; margin: 1px;'>52.0,</span> <span style='background-color: #fb694a; padding:2px; border-radius: 3px; margin: 1px;'>78.9.</span> </div>"
      ],
      "text/plain": [
       "<IPython.core.display.HTML object>"
      ]
     },
     "metadata": {},
     "output_type": "display_data"
    }
   ],
   "source": [
    "import torch\n",
    "from transformers import AutoModel, PreTrainedTokenizerFast\n",
    "from IPython.display import display, HTML\n",
    "import matplotlib\n",
    "\n",
    "fine_tuned_model_path = \"/Users/davidsegura/git/Leveraging_LLMs_causality/cage_SAD_llm/fine_tuned_model\" \n",
    "tokenizer_path = \"/Users/davidsegura/git/Leveraging_LLMs_causality/cage_SAD_llm/word_level_tokenizer.json\"  \n",
    "\n",
    "model = AutoModel.from_pretrained(fine_tuned_model_path, output_attentions=True) \n",
    "\n",
    "tokenizer = PreTrainedTokenizerFast(tokenizer_file=tokenizer_path) \n",
    "\n",
    "input_ids = eval_dataset['input_ids'][2]  \n",
    "attention_mask = eval_dataset['attention_mask'][2]  \n",
    "\n",
    "\n",
    "print(f\"Input IDs: {input_ids}, Type: {type(input_ids)}\")\n",
    "print(f\"Attention Mask: {attention_mask}, Type: {type(attention_mask)}\")\n",
    "\n",
    "inputs = {\n",
    "    'input_ids': input_ids.unsqueeze(0),  \n",
    "    'attention_mask': attention_mask.unsqueeze(0)  \n",
    "}\n",
    "\n",
    "outputs = model(**inputs) \n",
    "\n",
    "mean_attention_per_token = attention.mean(dim=1)  \n",
    "\n",
    "mean_attention_per_token = mean_attention_per_token.squeeze(0) \n",
    "\n",
    "cls_attention = mean_attention_per_token[1:].tolist()\n",
    "\n",
    "\n",
    "max_attention = max(cls_attention)\n",
    "min_attention = min(cls_attention)\n",
    "normalized_attention = [(score - min_attention) / (max_attention - min_attention) for score in cls_attention]\n",
    "\n",
    "def attention_to_color(attention_score):\n",
    "    \"\"\"Convert attention score to a red color intensity\"\"\"\n",
    "    cmap = matplotlib.cm.get_cmap(\"Reds\")\n",
    "    rgba = cmap(attention_score)\n",
    "    return matplotlib.colors.rgb2hex(rgba)\n",
    "\n",
    "html_content = \"<div style='font-size: 16px; line-height: 1.6;'>\"\n",
    "for word, score in zip(words, normalized_attention):\n",
    "    color = attention_to_color(score)\n",
    "    html_content += f\"<span style='background-color: {color}; padding:2px; border-radius: 3px; margin: 1px;'>{word}</span> \"\n",
    "html_content += \"</div>\"\n",
    "\n",
    "\n",
    "display(HTML(html_content))\n",
    "\n",
    "html_filename = \"attention_heatmap.html\"\n",
    "\n",
    "\n",
    "with open(html_filename, \"w\") as f:\n",
    "    f.write(html_content)\n"
   ]
  },
  {
   "cell_type": "markdown",
   "metadata": {},
   "source": [
    "## Changing the prompt"
   ]
  },
  {
   "cell_type": "markdown",
   "metadata": {},
   "source": [
    "### The idea is now that we see where the attention is put, will be to try to change different prompts and plot everything together"
   ]
  },
  {
   "cell_type": "code",
   "execution_count": 2,
   "metadata": {},
   "outputs": [],
   "source": [
    "from transformers import BertTokenizerFast\n",
    "import re\n",
    "import sqlite3\n"
   ]
  },
  {
   "cell_type": "code",
   "execution_count": 3,
   "metadata": {},
   "outputs": [
    {
     "ename": "NameError",
     "evalue": "name 'pd' is not defined",
     "output_type": "error",
     "traceback": [
      "\u001b[0;31m---------------------------------------------------------------------------\u001b[0m",
      "\u001b[0;31mNameError\u001b[0m                                 Traceback (most recent call last)",
      "Cell \u001b[0;32mIn[3], line 1\u001b[0m\n\u001b[0;32m----> 1\u001b[0m data_reduced_prompt \u001b[38;5;241m=\u001b[39m \u001b[43mpd\u001b[49m\u001b[38;5;241m.\u001b[39mread_csv(\u001b[38;5;124m'\u001b[39m\u001b[38;5;124m/Users/davidsegura/git/Leveraging_LLMs_causality/cage_SAD_llm/data/reduced_prompt_data.csv\u001b[39m\u001b[38;5;124m'\u001b[39m)\n",
      "\u001b[0;31mNameError\u001b[0m: name 'pd' is not defined"
     ]
    }
   ],
   "source": [
    "data_reduced_prompt = pd.read_csv('/Users/davidsegura/git/Leveraging_LLMs_causality/cage_SAD_llm/data/reduced_prompt_data.csv')"
   ]
  },
  {
   "cell_type": "code",
   "execution_count": 22,
   "metadata": {},
   "outputs": [
    {
     "data": {
      "text/plain": [
       "(348, 3)"
      ]
     },
     "execution_count": 22,
     "metadata": {},
     "output_type": "execute_result"
    }
   ],
   "source": [
    "data_reduced_prompt.shape"
   ]
  },
  {
   "cell_type": "markdown",
   "metadata": {},
   "source": [
    "For the tokenization, let's tokenize the SMILES independently"
   ]
  },
  {
   "cell_type": "code",
   "execution_count": 28,
   "metadata": {},
   "outputs": [
    {
     "name": "stdout",
     "output_type": "stream",
     "text": [
      "Tables in the database: [('precursors',), ('reactions',), ('nmr_spectra',), ('nmr_aldehyde_peaks',), ('nmr_imine_peaks',), ('mass_spectra',), ('mass_spectrum_peaks',), ('mass_spectrum_topology_assignments',), ('turbidity_dissolved_references',), ('turbidity_measurements',), ('turbidities',)]\n"
     ]
    }
   ],
   "source": [
    "conn = sqlite3.connect('cagey.db') \n",
    "\n",
    "cursor = conn.cursor() \n",
    "\n",
    "cursor.execute(\"SELECT name FROM sqlite_master WHERE type='table';\")\n",
    "tables = cursor.fetchall()\n",
    "\n",
    "print(\"Tables in the database:\", tables)\n",
    "\n",
    "conn.close()"
   ]
  },
  {
   "cell_type": "code",
   "execution_count": 29,
   "metadata": {},
   "outputs": [
    {
     "name": "stdout",
     "output_type": "stream",
     "text": [
      "Table precursors loaded successfully with 55 rows.\n",
      "Table reactions loaded successfully with 450 rows.\n",
      "Table nmr_spectra loaded successfully with 449 rows.\n",
      "Table nmr_aldehyde_peaks loaded successfully with 751 rows.\n",
      "Table nmr_imine_peaks loaded successfully with 8897 rows.\n",
      "Table mass_spectra loaded successfully with 401 rows.\n",
      "Table mass_spectrum_peaks loaded successfully with 710 rows.\n",
      "Table mass_spectrum_topology_assignments loaded successfully with 541 rows.\n",
      "Table turbidity_dissolved_references loaded successfully with 402 rows.\n",
      "Table turbidity_measurements loaded successfully with 6824 rows.\n",
      "Table turbidities loaded successfully with 402 rows.\n"
     ]
    }
   ],
   "source": [
    "conn = sqlite3.connect('cagey.db')\n",
    "\n",
    "tables_query = \"SELECT name FROM sqlite_master WHERE type='table';\"\n",
    "tables_df = pd.read_sql(tables_query, conn)\n",
    "table_names = tables_df['name'].tolist()\n",
    "\n",
    "tables_dataframes = {}\n",
    "\n",
    "for table in table_names:\n",
    "    query = f\"SELECT * FROM {table}\"\n",
    "    df = pd.read_sql(query, conn)   \n",
    "    tables_dataframes[table] = df   \n",
    "    print(f\"Table {table} loaded successfully with {len(df)} rows.\")\n",
    "\n",
    "conn.close()\n"
   ]
  },
  {
   "cell_type": "code",
   "execution_count": 30,
   "metadata": {},
   "outputs": [
    {
     "name": "stdout",
     "output_type": "stream",
     "text": [
      "Table: precursors, Type: <class 'pandas.core.frame.DataFrame'>\n",
      "First value in first row: Di1, Type: <class 'str'>\n",
      "Table: reactions, Type: <class 'pandas.core.frame.DataFrame'>\n",
      "First value in first row: 1, Type: <class 'numpy.int64'>\n",
      "Table: nmr_spectra, Type: <class 'pandas.core.frame.DataFrame'>\n",
      "First value in first row: 1, Type: <class 'numpy.int64'>\n",
      "Table: nmr_aldehyde_peaks, Type: <class 'pandas.core.frame.DataFrame'>\n",
      "First value in first row: 1, Type: <class 'numpy.int64'>\n",
      "Table: nmr_imine_peaks, Type: <class 'pandas.core.frame.DataFrame'>\n",
      "First value in first row: 1, Type: <class 'numpy.int64'>\n",
      "Table: mass_spectra, Type: <class 'pandas.core.frame.DataFrame'>\n",
      "First value in first row: 1, Type: <class 'numpy.int64'>\n",
      "Table: mass_spectrum_peaks, Type: <class 'pandas.core.frame.DataFrame'>\n",
      "First value in first row: 1, Type: <class 'numpy.int64'>\n",
      "Table: mass_spectrum_topology_assignments, Type: <class 'pandas.core.frame.DataFrame'>\n",
      "First value in first row: 1, Type: <class 'numpy.int64'>\n",
      "Table: turbidity_dissolved_references, Type: <class 'pandas.core.frame.DataFrame'>\n",
      "First value in first row: 1, Type: <class 'numpy.int64'>\n",
      "Table: turbidity_measurements, Type: <class 'pandas.core.frame.DataFrame'>\n",
      "First value in first row: 1, Type: <class 'numpy.int64'>\n",
      "Table: turbidities, Type: <class 'pandas.core.frame.DataFrame'>\n",
      "First value in first row: 1, Type: <class 'numpy.int64'>\n"
     ]
    }
   ],
   "source": [
    "for table_name, df in tables_dataframes.items():\n",
    "    print(f\"Table: {table_name}, Type: {type(df)}\")\n",
    "    print(f\"First value in first row: {df.iloc[0, 0]}, Type: {type(df.iloc[0, 0])}\")"
   ]
  },
  {
   "cell_type": "code",
   "execution_count": 151,
   "metadata": {},
   "outputs": [],
   "source": [
    "smiles_list = tables_dataframes['precursors']['smiles'].tolist()"
   ]
  },
  {
   "cell_type": "code",
   "execution_count": 152,
   "metadata": {},
   "outputs": [],
   "source": [
    "smiles_list.append('C1=CC(=CC=C1/C=C/C2=CC(=CC(=C2)/C=C/C3=CC=C(C=C3)C=O)/C=C/C4=CC=C(C=C4)C=O)C=O')"
   ]
  },
  {
   "cell_type": "code",
   "execution_count": 153,
   "metadata": {},
   "outputs": [],
   "source": [
    "target_smiles = 'NCCN(CCN)CCN'\n",
    "if target_smiles in smiles_list:\n",
    "    smiles_list.insert(0, smiles_list.pop(smiles_list.index(target_smiles)))"
   ]
  },
  {
   "cell_type": "code",
   "execution_count": 150,
   "metadata": {},
   "outputs": [],
   "source": [
    "smiles_tokenizer = AutoTokenizer.from_pretrained(\"seyonec/ChemBERTa-zinc-base-v1\")\n",
    "text_tokenizer = BertTokenizerFast.from_pretrained(\"bert-base-uncased\")\n"
   ]
  },
  {
   "cell_type": "code",
   "execution_count": null,
   "metadata": {},
   "outputs": [],
   "source": [
    "smiles_list"
   ]
  },
  {
   "cell_type": "code",
   "execution_count": 155,
   "metadata": {},
   "outputs": [
    {
     "data": {
      "text/plain": [
       "56"
      ]
     },
     "execution_count": 155,
     "metadata": {},
     "output_type": "execute_result"
    }
   ],
   "source": [
    "text_tokenizer.add_tokens(smiles_list) # we need to add the smiles into the vocab "
   ]
  },
  {
   "cell_type": "code",
   "execution_count": 167,
   "metadata": {},
   "outputs": [
    {
     "data": {
      "text/plain": [
       "0"
      ]
     },
     "execution_count": 167,
     "metadata": {},
     "output_type": "execute_result"
    }
   ],
   "source": [
    "text_tokenizer.add_tokens([\"NCCN(CCN)CCN\"])"
   ]
  },
  {
   "cell_type": "code",
   "execution_count": 170,
   "metadata": {},
   "outputs": [
    {
     "name": "stdout",
     "output_type": "stream",
     "text": [
      "Token IDs: [30522]\n",
      "Tokenized SMILES: ['NCCN(CCN)CCN']\n"
     ]
    }
   ],
   "source": [
    "smiles_tokens = text_tokenizer(\"NCCN(CCN)CCN\", add_special_tokens=False)[\"input_ids\"]\n",
    "\n",
    "print(\"Token IDs:\", smiles_tokens)\n",
    "print(\"Tokenized SMILES:\", text_tokenizer.convert_ids_to_tokens(smiles_tokens))\n"
   ]
  },
  {
   "cell_type": "code",
   "execution_count": 172,
   "metadata": {},
   "outputs": [
    {
     "name": "stdout",
     "output_type": "stream",
     "text": [
      "[30522]\n",
      "[30539, 7328, 2007, 30522, 3252]\n"
     ]
    }
   ],
   "source": [
    "\n",
    "test_text_1 = \"NCCN(CCN)CCN\"\n",
    "test_text_2 = \"NCCN compound with NCCN(CCN)CCN structure\"\n",
    "print(text_tokenizer(test_text_1, add_special_tokens=False)[\"input_ids\"])\n",
    "print(text_tokenizer(test_text_2, add_special_tokens=False)[\"input_ids\"])\n"
   ]
  },
  {
   "cell_type": "code",
   "execution_count": 156,
   "metadata": {},
   "outputs": [
    {
     "name": "stdout",
     "output_type": "stream",
     "text": [
      "Tokenizer vocabulary size after adding SMILES tokens: 30578\n"
     ]
    }
   ],
   "source": [
    "print(f\"Tokenizer vocabulary size after adding SMILES tokens: {len(text_tokenizer)}\")"
   ]
  },
  {
   "cell_type": "code",
   "execution_count": 222,
   "metadata": {},
   "outputs": [],
   "source": [
    "def replace_smiles_with_placeholder(prompt, smiles_list):\n",
    "\n",
    "    sorted_smiles_list = sorted(smiles_list, key=len, reverse=True)\n",
    "    smiles_in_prompt = []\n",
    "    for smiles in sorted_smiles_list:\n",
    "        if smiles in prompt:\n",
    "            if smiles not in smiles_in_prompt:  \n",
    "                smiles_in_prompt.append(smiles)\n",
    "            prompt = prompt.replace(smiles, \"[SMILES]\", 1)  \n",
    "    return prompt, smiles_in_prompt\n"
   ]
  },
  {
   "cell_type": "markdown",
   "metadata": {},
   "source": [
    "Working version but not for 1 smiles"
   ]
  },
  {
   "cell_type": "code",
   "execution_count": 158,
   "metadata": {},
   "outputs": [],
   "source": [
    "def tokenize_prompt(prompt):\n",
    "    \n",
    "    text_with_placeholders, smiles_in_prompt = replace_smiles_with_placeholder(prompt, smiles_list)\n",
    "    \n",
    "\n",
    "    smiles_tokens = [text_tokenizer(smiles, add_special_tokens=False)[\"input_ids\"] for smiles in smiles_in_prompt]\n",
    "    \n",
    "\n",
    "    text_tokens = text_tokenizer(text_with_placeholders, add_special_tokens=True, padding=\"max_length\", truncation=True, max_length=512)\n",
    "    \n",
    "    combined_input_ids = []\n",
    "    smiles_idx = 0\n",
    "    for token_id in text_tokens[\"input_ids\"]:\n",
    "        if token_id == text_tokenizer(\"[SMILES]\")[\"input_ids\"][1]:  \n",
    "            if smiles_idx < len(smiles_tokens):\n",
    "                combined_input_ids.extend(smiles_tokens[smiles_idx])\n",
    "                smiles_idx += 1\n",
    "        else:\n",
    "            combined_input_ids.append(token_id)\n",
    "    \n",
    "    combined_attention_mask = [1] * len(combined_input_ids)\n",
    "    combined_attention_mask += [0] * (512 - len(combined_attention_mask))  \n",
    "    combined_input_ids += [text_tokenizer.pad_token_id] * (512 - len(combined_input_ids))  \n",
    "\n",
    "    return {\n",
    "        \"input_ids\": combined_input_ids,\n",
    "        \"attention_mask\": combined_attention_mask\n",
    "    }\n"
   ]
  },
  {
   "cell_type": "markdown",
   "metadata": {},
   "source": [
    "Unique placeholder"
   ]
  },
  {
   "cell_type": "code",
   "execution_count": 159,
   "metadata": {},
   "outputs": [],
   "source": [
    "def tokenize_prompt(prompt, smiles_list):\n",
    "    \n",
    "    text_with_placeholders, smiles_in_prompt = replace_smiles_with_placeholder(prompt, smiles_list)\n",
    "    \n",
    "    smiles_tokens = [text_tokenizer(smiles, add_special_tokens=False)[\"input_ids\"] for smiles in smiles_in_prompt]\n",
    "   \n",
    "    text_tokens = text_tokenizer(text_with_placeholders, add_special_tokens=True, padding=\"max_length\", truncation=True, max_length=512)\n",
    "    \n",
    "    combined_input_ids = []\n",
    "    smiles_idx = 0\n",
    "    \n",
    "    placeholder_token_id = text_tokenizer(\"[SMILES]\")[\"input_ids\"][1]\n",
    "\n",
    "    for token_id in text_tokens[\"input_ids\"]:\n",
    "        if token_id == placeholder_token_id:  \n",
    "            if smiles_idx < len(smiles_tokens):\n",
    "                combined_input_ids.extend(smiles_tokens[smiles_idx])\n",
    "                smiles_idx += 1  \n",
    "            else:\n",
    "                combined_input_ids.append(token_id)\n",
    "        else:\n",
    "            combined_input_ids.append(token_id)\n",
    "    \n",
    "    combined_attention_mask = [1] * len(combined_input_ids)\n",
    "    combined_attention_mask += [0] * (512 - len(combined_attention_mask)) \n",
    "    combined_input_ids += [text_tokenizer.pad_token_id] * (512 - len(combined_input_ids))  \n",
    "\n",
    "    return {\n",
    "        \"input_ids\": combined_input_ids,\n",
    "        \"attention_mask\": combined_attention_mask\n",
    "    }\n"
   ]
  },
  {
   "cell_type": "markdown",
   "metadata": {},
   "source": [
    "unique placeholder with special placeholder"
   ]
  },
  {
   "cell_type": "code",
   "execution_count": 223,
   "metadata": {},
   "outputs": [],
   "source": [
    "def tokenize_prompt(prompt, smiles_list):\n",
    "    special_smiles_token = \"NCCN(CCN)CCN\"\n",
    "    special_smiles_token_id = 30522  \n",
    "\n",
    "    text_with_placeholders, smiles_in_prompt = replace_smiles_with_placeholder(prompt, smiles_list)\n",
    "\n",
    "    smiles_tokens = []\n",
    "    \n",
    "    for smiles in smiles_in_prompt:\n",
    "        if smiles == special_smiles_token:\n",
    "            smiles_tokens.append([special_smiles_token_id])\n",
    "        else:\n",
    "            smiles_tokens.append(text_tokenizer(smiles, add_special_tokens=False)[\"input_ids\"])\n",
    "\n",
    "    text_tokens = text_tokenizer(\n",
    "        text_with_placeholders, add_special_tokens=True, padding=\"max_length\", truncation=True, max_length=512\n",
    "    )\n",
    "\n",
    "    placeholder_token_id = text_tokenizer(\"[SMILES]\")[\"input_ids\"][1]\n",
    "    smiles_token_id = text_tokenizer(\"smiles\")[\"input_ids\"][0]  \n",
    "    bracket_token_id = text_tokenizer(\"]\")[\"input_ids\"][0]      \n",
    "\n",
    "    combined_input_ids = []\n",
    "    smiles_idx = 0\n",
    "\n",
    "    skip_next_two_tokens = False\n",
    "    for i, token_id in enumerate(text_tokens[\"input_ids\"]):\n",
    "        if skip_next_two_tokens:\n",
    "            skip_next_two_tokens = False\n",
    "            continue \n",
    "\n",
    "        if token_id == placeholder_token_id and smiles_idx < len(smiles_tokens):\n",
    "    \n",
    "            combined_input_ids.extend(smiles_tokens[smiles_idx])\n",
    "            smiles_idx += 1\n",
    "        \n",
    "            if (i + 1 < len(text_tokens[\"input_ids\"]) and text_tokens[\"input_ids\"][i + 1] == smiles_token_id and\n",
    "                i + 2 < len(text_tokens[\"input_ids\"]) and text_tokens[\"input_ids\"][i + 2] == bracket_token_id):\n",
    "                skip_next_two_tokens = True\n",
    "        else:\n",
    "            combined_input_ids.append(token_id)\n",
    "\n",
    "    combined_attention_mask = [1] * len(combined_input_ids)\n",
    "    combined_attention_mask += [0] * (512 - len(combined_attention_mask))  \n",
    "    combined_input_ids += [text_tokenizer.pad_token_id] * (512 - len(combined_input_ids))  \n",
    "\n",
    "    return {\n",
    "        \"input_ids\": combined_input_ids,\n",
    "        \"attention_mask\": combined_attention_mask\n",
    "    }\n"
   ]
  },
  {
   "cell_type": "markdown",
   "metadata": {},
   "source": [
    "Version with ChemBERTa tokenizer"
   ]
  },
  {
   "cell_type": "code",
   "execution_count": 119,
   "metadata": {},
   "outputs": [],
   "source": [
    "def tokenize_prompt(prompt):\n",
    "\n",
    "    text_with_placeholders, smiles_in_prompt = replace_smiles_with_placeholder(prompt, smiles_list)\n",
    "    \n",
    "    smiles_tokens = [smiles_tokenizer(smiles, add_special_tokens=False)[\"input_ids\"] for smiles in smiles_in_prompt]\n",
    "    \n",
    "    text_tokens = text_tokenizer(text_with_placeholders, add_special_tokens=True, padding=\"max_length\", truncation=True, max_length=512)\n",
    "    \n",
    "    placeholder_id = text_tokenizer(\"[SMILES]\")[\"input_ids\"][1]  \n",
    "    print(f\"Identified Placeholder ID: {placeholder_id}\")\n",
    "    \n",
    "    combined_input_ids = []\n",
    "    smiles_idx = 0\n",
    "\n",
    "    for token_id in text_tokens[\"input_ids\"]:\n",
    "        if token_id == placeholder_id:\n",
    "          \n",
    "            if smiles_idx < len(smiles_tokens):\n",
    "                combined_input_ids.extend(smiles_tokens[smiles_idx]) \n",
    "                print(f\"Inserted SMILES tokens for placeholder at index {smiles_idx}: {smiles_tokens[smiles_idx]}\")\n",
    "                smiles_idx += 1\n",
    "            else:\n",
    "                combined_input_ids.append(token_id)\n",
    "        else:\n",
    "            combined_input_ids.append(token_id)\n",
    "\n",
    "    combined_input_ids = combined_input_ids[:512]\n",
    "    combined_attention_mask = [1] * len(combined_input_ids)\n",
    "    \n",
    "    combined_input_ids += [text_tokenizer.pad_token_id] * (512 - len(combined_input_ids))\n",
    "    combined_attention_mask += [0] * (512 - len(combined_attention_mask))\n",
    "\n",
    "    return {\n",
    "        \"input_ids\": combined_input_ids,\n",
    "        \"attention_mask\": combined_attention_mask\n",
    "    }\n"
   ]
  },
  {
   "cell_type": "code",
   "execution_count": 224,
   "metadata": {},
   "outputs": [
    {
     "name": "stdout",
     "output_type": "stream",
     "text": [
      "                                             Prompts  \\\n",
      "0  Would the mixture involving the ditopic O=Cc1c...   \n",
      "1  Would the mixture involving the ditopic CC(C)(...   \n",
      "2  Would the mixture involving the ditopic O=Cc1c...   \n",
      "3  Would the mixture involving the ditopic O=Cc1c...   \n",
      "4  Would the mixture involving the ditopic O=Cc1c...   \n",
      "\n",
      "                                           tokenized  \n",
      "0  {'input_ids': [101, 2052, 1996, 8150, 5994, 19...  \n",
      "1  {'input_ids': [101, 2052, 1996, 8150, 5994, 19...  \n",
      "2  {'input_ids': [101, 2052, 1996, 8150, 5994, 19...  \n",
      "3  {'input_ids': [101, 2052, 1996, 8150, 5994, 19...  \n",
      "4  {'input_ids': [101, 2052, 1996, 8150, 5994, 19...  \n"
     ]
    }
   ],
   "source": [
    "data_reduced_prompt[\"tokenized\"] = data_reduced_prompt[\"Prompts\"].apply(lambda prompt: tokenize_prompt(prompt, smiles_list))\n",
    "\n",
    "print(data_reduced_prompt[[\"Prompts\", \"tokenized\"]].head())\n"
   ]
  },
  {
   "cell_type": "code",
   "execution_count": null,
   "metadata": {},
   "outputs": [],
   "source": [
    "data_reduced_prompt[\"tokenized\"] = data_reduced_prompt[\"Prompts\"].apply(tokenize_prompt)\n",
    "\n",
    "print(data_reduced_prompt[[\"Prompts\", \"tokenized\"]].head())"
   ]
  },
  {
   "cell_type": "code",
   "execution_count": 225,
   "metadata": {},
   "outputs": [
    {
     "name": "stdout",
     "output_type": "stream",
     "text": [
      "{'input_ids': [101, 2052, 1996, 8150, 5994, 1996, 4487, 14399, 2594, 30538, 8451, 1033, 1998, 13012, 14399, 2594, 30560, 8451, 1033, 2311, 5991, 2022, 10722, 15185, 3593, 2030, 8314, 1029, 4209, 1996, 2206, 17678, 13465, 3111, 2055, 2068, 1024, 1996, 2193, 1997, 25496, 2967, 1999, 1996, 4487, 14399, 2594, 28699, 2666, 2003, 1015, 1998, 1997, 1996, 13012, 14399, 2594, 28699, 2666, 2003, 1014, 1012, 1996, 2193, 1997, 9732, 5416, 5138, 5668, 1999, 1996, 4487, 14399, 2594, 28699, 2666, 2003, 1018, 1998, 1997, 1996, 13012, 14399, 2594, 28699, 2666, 2003, 1018, 1012, 1014, 1012, 1996, 2193, 1997, 9732, 5416, 2123, 12131, 1999, 1996, 4487, 14399, 2594, 28699, 2666, 2003, 1014, 1998, 1997, 1996, 13012, 14399, 2594, 28699, 2666, 2003, 1017, 1012, 1014, 1012, 1996, 2193, 1997, 3082, 13353, 1999, 1996, 4487, 14399, 2594, 28699, 2666, 2003, 2538, 1998, 1997, 1996, 13012, 14399, 2594, 28699, 2666, 2003, 2410, 1012, 1014, 1012, 1996, 8833, 2361, 1006, 13323, 6761, 2140, 1013, 2300, 13571, 19064, 1007, 1997, 1996, 4487, 14399, 2594, 28699, 2666, 2003, 1017, 1012, 1023, 1998, 1997, 1996, 13012, 14399, 2594, 28699, 2666, 2003, 1011, 1015, 1012, 1019, 1012, 1996, 1056, 4523, 2050, 1006, 24309, 11508, 3302, 2181, 1007, 1997, 1996, 4487, 14399, 2594, 28699, 2666, 2003, 4720, 1012, 1020, 1998, 1997, 1996, 13012, 14399, 2594, 28699, 2666, 2003, 6282, 1012, 1017, 1012, 102, 0, 0, 0, 0, 0, 0, 0, 0, 0, 0, 0, 0, 0, 0, 0, 0, 0, 0, 0, 0, 0, 0, 0, 0, 0, 0, 0, 0, 0, 0, 0, 0, 0, 0, 0, 0, 0, 0, 0, 0, 0, 0, 0, 0, 0, 0, 0, 0, 0, 0, 0, 0, 0, 0, 0, 0, 0, 0, 0, 0, 0, 0, 0, 0, 0, 0, 0, 0, 0, 0, 0, 0, 0, 0, 0, 0, 0, 0, 0, 0, 0, 0, 0, 0, 0, 0, 0, 0, 0, 0, 0, 0, 0, 0, 0, 0, 0, 0, 0, 0, 0, 0, 0, 0, 0, 0, 0, 0, 0, 0, 0, 0, 0, 0, 0, 0, 0, 0, 0, 0, 0, 0, 0, 0, 0, 0, 0, 0, 0, 0, 0, 0, 0, 0, 0, 0, 0, 0, 0, 0, 0, 0, 0, 0, 0, 0, 0, 0, 0, 0, 0, 0, 0, 0, 0, 0, 0, 0, 0, 0, 0, 0, 0, 0, 0, 0, 0, 0, 0, 0, 0, 0, 0, 0, 0, 0, 0, 0, 0, 0, 0, 0, 0, 0, 0, 0, 0, 0, 0, 0, 0, 0, 0, 0, 0, 0, 0, 0, 0, 0, 0, 0, 0, 0, 0, 0, 0, 0, 0, 0, 0, 0, 0, 0, 0, 0, 0, 0, 0, 0, 0, 0, 0, 0, 0, 0, 0, 0, 0, 0, 0, 0, 0, 0, 0, 0, 0, 0, 0, 0, 0, 0, 0, 0, 0, 0, 0, 0, 0, 0, 0, 0, 0, 0, 0, 0, 0, 0, 0, 0, 0, 0, 0, 0, 0, 0, 0, 0, 0, 0, 0, 0, 0, 0, 0, 0, 0, 0, 0, 0, 0, 0, 0, 0, 0, 0, 0, 0, 0, 0, 0, 0, 0], 'attention_mask': [1, 1, 1, 1, 1, 1, 1, 1, 1, 1, 1, 1, 1, 1, 1, 1, 1, 1, 1, 1, 1, 1, 1, 1, 1, 1, 1, 1, 1, 1, 1, 1, 1, 1, 1, 1, 1, 1, 1, 1, 1, 1, 1, 1, 1, 1, 1, 1, 1, 1, 1, 1, 1, 1, 1, 1, 1, 1, 1, 1, 1, 1, 1, 1, 1, 1, 1, 1, 1, 1, 1, 1, 1, 1, 1, 1, 1, 1, 1, 1, 1, 1, 1, 1, 1, 1, 1, 1, 1, 1, 1, 1, 1, 1, 1, 1, 1, 1, 1, 1, 1, 1, 1, 1, 1, 1, 1, 1, 1, 1, 1, 1, 1, 1, 1, 1, 1, 1, 1, 1, 1, 1, 1, 1, 1, 1, 1, 1, 1, 1, 1, 1, 1, 1, 1, 1, 1, 1, 1, 1, 1, 1, 1, 1, 1, 1, 1, 1, 1, 1, 1, 1, 1, 1, 1, 1, 1, 1, 1, 1, 1, 1, 1, 1, 1, 1, 1, 1, 1, 1, 1, 1, 1, 1, 1, 1, 1, 1, 1, 1, 1, 1, 1, 1, 1, 1, 1, 1, 1, 1, 1, 1, 1, 1, 1, 1, 1, 1, 1, 1, 1, 1, 1, 1, 1, 1, 1, 1, 1, 1, 1, 1, 1, 1, 1, 1, 1, 1, 1, 1, 1, 1, 1, 1, 1, 1, 1, 1, 1, 1, 1, 1, 1, 1, 1, 1, 1, 1, 1, 1, 1, 1, 1, 1, 1, 1, 1, 1, 1, 1, 1, 1, 1, 1, 1, 1, 1, 1, 1, 1, 1, 1, 1, 1, 1, 1, 1, 1, 1, 1, 1, 1, 1, 1, 1, 1, 1, 1, 1, 1, 1, 1, 1, 1, 1, 1, 1, 1, 1, 1, 1, 1, 1, 1, 1, 1, 1, 1, 1, 1, 1, 1, 1, 1, 1, 1, 1, 1, 1, 1, 1, 1, 1, 1, 1, 1, 1, 1, 1, 1, 1, 1, 1, 1, 1, 1, 1, 1, 1, 1, 1, 1, 1, 1, 1, 1, 1, 1, 1, 1, 1, 1, 1, 1, 1, 1, 1, 1, 1, 1, 1, 1, 1, 1, 1, 1, 1, 1, 1, 1, 1, 1, 1, 1, 1, 1, 1, 1, 1, 1, 1, 1, 1, 1, 1, 1, 1, 1, 1, 1, 1, 1, 1, 1, 1, 1, 1, 1, 1, 1, 1, 1, 1, 1, 1, 1, 1, 1, 1, 1, 1, 1, 1, 1, 1, 1, 1, 1, 1, 1, 1, 1, 1, 1, 1, 1, 1, 1, 1, 1, 1, 1, 1, 1, 1, 1, 1, 1, 1, 1, 1, 1, 1, 1, 1, 1, 1, 1, 1, 1, 1, 1, 1, 1, 1, 1, 1, 1, 1, 1, 1, 1, 1, 1, 1, 1, 1, 1, 1, 1, 1, 1, 1, 1, 1, 1, 1, 1, 1, 1, 1, 1, 1, 1, 1, 1, 1, 1, 1, 1, 1, 1, 1, 1, 1, 1, 1, 1, 1, 1, 1, 1, 1, 1, 1, 1, 1, 1, 1, 1, 1, 1, 1, 1, 1, 1, 1, 1, 1, 1, 1, 1]}\n"
     ]
    }
   ],
   "source": [
    "print(data_reduced_prompt[\"tokenized\"].iloc[79])\n"
   ]
  },
  {
   "cell_type": "code",
   "execution_count": 226,
   "metadata": {},
   "outputs": [
    {
     "name": "stdout",
     "output_type": "stream",
     "text": [
      "['[CLS]', 'would', 'the', 'mixture', 'involving', 'the', 'di', '##top', '##ic', 'CCCCC(CC)COc1cc(C=O)c(OC)cc1C=O', 'smiles', ']', 'and', 'tri', '##top', '##ic', 'NCCCN(CCCN)CCCN', 'smiles', ']', 'building', 'blocks', 'be', 'tu', '##rb', '##id', 'or', 'dissolved', '?', 'knowing', 'the', 'following', 'prop', '##ret', '##ies', 'about', 'them', ':', 'the', 'number', 'of', 'aromatic', 'groups', 'in', 'the', 'di', '##top', '##ic', 'spec', '##ie', 'is', '1', 'and', 'of', 'the', 'tri', '##top', '##ic', 'spec', '##ie', 'is', '0', '.', 'the', 'number', 'of', 'hydrogen', 'bond', 'accept', '##ors', 'in', 'the', 'di', '##top', '##ic', 'spec', '##ie', 'is', '4', 'and', 'of', 'the', 'tri', '##top', '##ic', 'spec', '##ie', 'is', '4', '.', '0', '.', 'the', 'number', 'of', 'hydrogen', 'bond', 'don', '##nor', 'in', 'the', 'di', '##top', '##ic', 'spec', '##ie', 'is', '0', 'and', 'of', 'the', 'tri', '##top', '##ic', 'spec', '##ie', 'is', '3', '.', '0', '.', 'the', 'number', 'of', 'heavy', 'atoms', 'in', 'the', 'di', '##top', '##ic', 'spec', '##ie', 'is', '21', 'and', 'of', 'the', 'tri', '##top', '##ic', 'spec', '##ie', 'is', '13', '.', '0', '.', 'the', 'log', '##p', '(', 'oct', '##ano', '##l', '/', 'water', 'partition', 'coefficient', ')', 'of', 'the', 'di', '##top', '##ic', 'spec', '##ie', 'is', '3', '.', '9', 'and', 'of', 'the', 'tri', '##top', '##ic', 'spec', '##ie', 'is', '-', '1', '.', '5', '.', 'the', 't', '##ps', '##a', '(', 'topological', 'polar', 'surface', 'area', ')', 'of', 'the', 'di', '##top', '##ic', 'spec', '##ie', 'is', '52', '.', '6', 'and', 'of', 'the', 'tri', '##top', '##ic', 'spec', '##ie', 'is', '81', '.', '3', '.', '[SEP]', '[PAD]', '[PAD]', '[PAD]', '[PAD]', '[PAD]', '[PAD]', '[PAD]', '[PAD]', '[PAD]', '[PAD]', '[PAD]', '[PAD]', '[PAD]', '[PAD]', '[PAD]', '[PAD]', '[PAD]', '[PAD]', '[PAD]', '[PAD]', '[PAD]', '[PAD]', '[PAD]', '[PAD]', '[PAD]', '[PAD]', '[PAD]', '[PAD]', '[PAD]', '[PAD]', '[PAD]', '[PAD]', '[PAD]', '[PAD]', '[PAD]', '[PAD]', '[PAD]', '[PAD]', '[PAD]', '[PAD]', '[PAD]', '[PAD]', '[PAD]', '[PAD]', '[PAD]', '[PAD]', '[PAD]', '[PAD]', '[PAD]', '[PAD]', '[PAD]', '[PAD]', '[PAD]', '[PAD]', '[PAD]', '[PAD]', '[PAD]', '[PAD]', '[PAD]', '[PAD]', '[PAD]', '[PAD]', '[PAD]', '[PAD]', '[PAD]', '[PAD]', '[PAD]', '[PAD]', '[PAD]', '[PAD]', '[PAD]', '[PAD]', '[PAD]', '[PAD]', '[PAD]', '[PAD]', '[PAD]', '[PAD]', '[PAD]', '[PAD]', '[PAD]', '[PAD]', '[PAD]', '[PAD]', '[PAD]', '[PAD]', '[PAD]', '[PAD]', '[PAD]', '[PAD]', '[PAD]', '[PAD]', '[PAD]', '[PAD]', '[PAD]', '[PAD]', '[PAD]', '[PAD]', '[PAD]', '[PAD]', '[PAD]', '[PAD]', '[PAD]', '[PAD]', '[PAD]', '[PAD]', '[PAD]', '[PAD]', '[PAD]', '[PAD]', '[PAD]', '[PAD]', '[PAD]', '[PAD]', '[PAD]', '[PAD]', '[PAD]', '[PAD]', '[PAD]', '[PAD]', '[PAD]', '[PAD]', '[PAD]', '[PAD]', '[PAD]', '[PAD]', '[PAD]', '[PAD]', '[PAD]', '[PAD]', '[PAD]', '[PAD]', '[PAD]', '[PAD]', '[PAD]', '[PAD]', '[PAD]', '[PAD]', '[PAD]', '[PAD]', '[PAD]', '[PAD]', '[PAD]', '[PAD]', '[PAD]', '[PAD]', '[PAD]', '[PAD]', '[PAD]', '[PAD]', '[PAD]', '[PAD]', '[PAD]', '[PAD]', '[PAD]', '[PAD]', '[PAD]', '[PAD]', '[PAD]', '[PAD]', '[PAD]', '[PAD]', '[PAD]', '[PAD]', '[PAD]', '[PAD]', '[PAD]', '[PAD]', '[PAD]', '[PAD]', '[PAD]', '[PAD]', '[PAD]', '[PAD]', '[PAD]', '[PAD]', '[PAD]', '[PAD]', '[PAD]', '[PAD]', '[PAD]', '[PAD]', '[PAD]', '[PAD]', '[PAD]', '[PAD]', '[PAD]', '[PAD]', '[PAD]', '[PAD]', '[PAD]', '[PAD]', '[PAD]', '[PAD]', '[PAD]', '[PAD]', '[PAD]', '[PAD]', '[PAD]', '[PAD]', '[PAD]', '[PAD]', '[PAD]', '[PAD]', '[PAD]', '[PAD]', '[PAD]', '[PAD]', '[PAD]', '[PAD]', '[PAD]', '[PAD]', '[PAD]', '[PAD]', '[PAD]', '[PAD]', '[PAD]', '[PAD]', '[PAD]', '[PAD]', '[PAD]', '[PAD]', '[PAD]', '[PAD]', '[PAD]', '[PAD]', '[PAD]', '[PAD]', '[PAD]', '[PAD]', '[PAD]', '[PAD]', '[PAD]', '[PAD]', '[PAD]', '[PAD]', '[PAD]', '[PAD]', '[PAD]', '[PAD]', '[PAD]', '[PAD]', '[PAD]', '[PAD]', '[PAD]', '[PAD]', '[PAD]', '[PAD]', '[PAD]', '[PAD]', '[PAD]', '[PAD]', '[PAD]', '[PAD]', '[PAD]', '[PAD]', '[PAD]', '[PAD]', '[PAD]', '[PAD]', '[PAD]', '[PAD]', '[PAD]', '[PAD]', '[PAD]', '[PAD]', '[PAD]', '[PAD]', '[PAD]', '[PAD]', '[PAD]', '[PAD]', '[PAD]', '[PAD]', '[PAD]', '[PAD]', '[PAD]', '[PAD]', '[PAD]', '[PAD]', '[PAD]', '[PAD]', '[PAD]', '[PAD]', '[PAD]', '[PAD]', '[PAD]', '[PAD]', '[PAD]', '[PAD]', '[PAD]', '[PAD]', '[PAD]']\n"
     ]
    }
   ],
   "source": [
    "first_input_ids = data_reduced_prompt[\"tokenized\"].iloc[79][\"input_ids\"]\n",
    "decoded_tokens = text_tokenizer.convert_ids_to_tokens(first_input_ids)\n",
    "print(decoded_tokens)"
   ]
  },
  {
   "cell_type": "code",
   "execution_count": 227,
   "metadata": {},
   "outputs": [],
   "source": [
    "def decode_input_ids(row):\n",
    "    input_ids = row[\"tokenized\"][\"input_ids\"]\n",
    "    decoded_tokens = text_tokenizer.convert_ids_to_tokens(input_ids)\n",
    "    return decoded_tokens\n",
    "\n",
    "data_reduced_prompt[\"decoded_tokens\"] = data_reduced_prompt.apply(decode_input_ids, axis=1)\n"
   ]
  },
  {
   "cell_type": "code",
   "execution_count": 228,
   "metadata": {},
   "outputs": [],
   "source": [
    "data_reduced_prompt.to_csv('/Users/davidsegura/Desktop/controlling_tokenization.csv')"
   ]
  },
  {
   "cell_type": "markdown",
   "metadata": {},
   "source": [
    "### Training BERT model"
   ]
  },
  {
   "cell_type": "code",
   "execution_count": 7,
   "metadata": {},
   "outputs": [],
   "source": [
    "from transformers import AutoTokenizer, AutoModelForSequenceClassification, Trainer, TrainingArguments\n",
    "from datasets import Dataset\n",
    "import torch"
   ]
  },
  {
   "cell_type": "code",
   "execution_count": 278,
   "metadata": {},
   "outputs": [
    {
     "name": "stderr",
     "output_type": "stream",
     "text": [
      "Some weights of BertForSequenceClassification were not initialized from the model checkpoint at bert-base-uncased and are newly initialized: ['classifier.bias', 'classifier.weight']\n",
      "You should probably TRAIN this model on a down-stream task to be able to use it for predictions and inference.\n"
     ]
    }
   ],
   "source": [
    "#model_name = \"seyonec/ChemBERTa_zinc250k_v2_40k\"\n",
    "model_name = \"bert-base-uncased\"\n",
    "tokenizer = AutoTokenizer.from_pretrained(model_name)\n",
    "model = AutoModelForSequenceClassification.from_pretrained(model_name, num_labels=2)  "
   ]
  },
  {
   "cell_type": "code",
   "execution_count": 279,
   "metadata": {},
   "outputs": [
    {
     "data": {
      "text/html": [
       "<div>\n",
       "<style scoped>\n",
       "    .dataframe tbody tr th:only-of-type {\n",
       "        vertical-align: middle;\n",
       "    }\n",
       "\n",
       "    .dataframe tbody tr th {\n",
       "        vertical-align: top;\n",
       "    }\n",
       "\n",
       "    .dataframe thead th {\n",
       "        text-align: right;\n",
       "    }\n",
       "</style>\n",
       "<table border=\"1\" class=\"dataframe\">\n",
       "  <thead>\n",
       "    <tr style=\"text-align: right;\">\n",
       "      <th></th>\n",
       "      <th>Unnamed: 0</th>\n",
       "      <th>Prompts</th>\n",
       "      <th>turbidity</th>\n",
       "      <th>tokenized</th>\n",
       "      <th>decoded_tokens</th>\n",
       "      <th>input_ids</th>\n",
       "      <th>attention_mask</th>\n",
       "      <th>labels</th>\n",
       "    </tr>\n",
       "  </thead>\n",
       "  <tbody>\n",
       "    <tr>\n",
       "      <th>0</th>\n",
       "      <td>0</td>\n",
       "      <td>Would the mixture involving the ditopic O=Cc1c...</td>\n",
       "      <td>0</td>\n",
       "      <td>{'input_ids': [101, 2052, 1996, 8150, 5994, 19...</td>\n",
       "      <td>[[CLS], would, the, mixture, involving, the, d...</td>\n",
       "      <td>[101, 2052, 1996, 8150, 5994, 1996, 4487, 1439...</td>\n",
       "      <td>[1, 1, 1, 1, 1, 1, 1, 1, 1, 1, 1, 1, 1, 1, 1, ...</td>\n",
       "      <td>0</td>\n",
       "    </tr>\n",
       "    <tr>\n",
       "      <th>1</th>\n",
       "      <td>1</td>\n",
       "      <td>Would the mixture involving the ditopic CC(C)(...</td>\n",
       "      <td>0</td>\n",
       "      <td>{'input_ids': [101, 2052, 1996, 8150, 5994, 19...</td>\n",
       "      <td>[[CLS], would, the, mixture, involving, the, d...</td>\n",
       "      <td>[101, 2052, 1996, 8150, 5994, 1996, 4487, 1439...</td>\n",
       "      <td>[1, 1, 1, 1, 1, 1, 1, 1, 1, 1, 1, 1, 1, 1, 1, ...</td>\n",
       "      <td>0</td>\n",
       "    </tr>\n",
       "    <tr>\n",
       "      <th>2</th>\n",
       "      <td>2</td>\n",
       "      <td>Would the mixture involving the ditopic O=Cc1c...</td>\n",
       "      <td>0</td>\n",
       "      <td>{'input_ids': [101, 2052, 1996, 8150, 5994, 19...</td>\n",
       "      <td>[[CLS], would, the, mixture, involving, the, d...</td>\n",
       "      <td>[101, 2052, 1996, 8150, 5994, 1996, 4487, 1439...</td>\n",
       "      <td>[1, 1, 1, 1, 1, 1, 1, 1, 1, 1, 1, 1, 1, 1, 1, ...</td>\n",
       "      <td>0</td>\n",
       "    </tr>\n",
       "    <tr>\n",
       "      <th>3</th>\n",
       "      <td>3</td>\n",
       "      <td>Would the mixture involving the ditopic O=Cc1c...</td>\n",
       "      <td>0</td>\n",
       "      <td>{'input_ids': [101, 2052, 1996, 8150, 5994, 19...</td>\n",
       "      <td>[[CLS], would, the, mixture, involving, the, d...</td>\n",
       "      <td>[101, 2052, 1996, 8150, 5994, 1996, 4487, 1439...</td>\n",
       "      <td>[1, 1, 1, 1, 1, 1, 1, 1, 1, 1, 1, 1, 1, 1, 1, ...</td>\n",
       "      <td>0</td>\n",
       "    </tr>\n",
       "    <tr>\n",
       "      <th>4</th>\n",
       "      <td>4</td>\n",
       "      <td>Would the mixture involving the ditopic O=Cc1c...</td>\n",
       "      <td>0</td>\n",
       "      <td>{'input_ids': [101, 2052, 1996, 8150, 5994, 19...</td>\n",
       "      <td>[[CLS], would, the, mixture, involving, the, d...</td>\n",
       "      <td>[101, 2052, 1996, 8150, 5994, 1996, 4487, 1439...</td>\n",
       "      <td>[1, 1, 1, 1, 1, 1, 1, 1, 1, 1, 1, 1, 1, 1, 1, ...</td>\n",
       "      <td>0</td>\n",
       "    </tr>\n",
       "    <tr>\n",
       "      <th>...</th>\n",
       "      <td>...</td>\n",
       "      <td>...</td>\n",
       "      <td>...</td>\n",
       "      <td>...</td>\n",
       "      <td>...</td>\n",
       "      <td>...</td>\n",
       "      <td>...</td>\n",
       "      <td>...</td>\n",
       "    </tr>\n",
       "    <tr>\n",
       "      <th>343</th>\n",
       "      <td>343</td>\n",
       "      <td>Would the mixture involving the ditopic NCCOCC...</td>\n",
       "      <td>1</td>\n",
       "      <td>{'input_ids': [101, 2052, 1996, 8150, 5994, 19...</td>\n",
       "      <td>[[CLS], would, the, mixture, involving, the, d...</td>\n",
       "      <td>[101, 2052, 1996, 8150, 5994, 1996, 4487, 1439...</td>\n",
       "      <td>[1, 1, 1, 1, 1, 1, 1, 1, 1, 1, 1, 1, 1, 1, 1, ...</td>\n",
       "      <td>1</td>\n",
       "    </tr>\n",
       "    <tr>\n",
       "      <th>344</th>\n",
       "      <td>344</td>\n",
       "      <td>Would the mixture involving the ditopic NCC1=C...</td>\n",
       "      <td>1</td>\n",
       "      <td>{'input_ids': [101, 2052, 1996, 8150, 5994, 19...</td>\n",
       "      <td>[[CLS], would, the, mixture, involving, the, d...</td>\n",
       "      <td>[101, 2052, 1996, 8150, 5994, 1996, 4487, 1439...</td>\n",
       "      <td>[1, 1, 1, 1, 1, 1, 1, 1, 1, 1, 1, 1, 1, 1, 1, ...</td>\n",
       "      <td>1</td>\n",
       "    </tr>\n",
       "    <tr>\n",
       "      <th>345</th>\n",
       "      <td>345</td>\n",
       "      <td>Would the mixture involving the ditopic NCC(CN...</td>\n",
       "      <td>1</td>\n",
       "      <td>{'input_ids': [101, 2052, 1996, 8150, 5994, 19...</td>\n",
       "      <td>[[CLS], would, the, mixture, involving, the, d...</td>\n",
       "      <td>[101, 2052, 1996, 8150, 5994, 1996, 4487, 1439...</td>\n",
       "      <td>[1, 1, 1, 1, 1, 1, 1, 1, 1, 1, 1, 1, 1, 1, 1, ...</td>\n",
       "      <td>1</td>\n",
       "    </tr>\n",
       "    <tr>\n",
       "      <th>346</th>\n",
       "      <td>346</td>\n",
       "      <td>Would the mixture involving the ditopic NCCCC[...</td>\n",
       "      <td>1</td>\n",
       "      <td>{'input_ids': [101, 2052, 1996, 8150, 5994, 19...</td>\n",
       "      <td>[[CLS], would, the, mixture, involving, the, d...</td>\n",
       "      <td>[101, 2052, 1996, 8150, 5994, 1996, 4487, 1439...</td>\n",
       "      <td>[1, 1, 1, 1, 1, 1, 1, 1, 1, 1, 1, 1, 1, 1, 1, ...</td>\n",
       "      <td>1</td>\n",
       "    </tr>\n",
       "    <tr>\n",
       "      <th>347</th>\n",
       "      <td>347</td>\n",
       "      <td>Would the mixture involving the ditopic N[C@H]...</td>\n",
       "      <td>1</td>\n",
       "      <td>{'input_ids': [101, 2052, 1996, 8150, 5994, 19...</td>\n",
       "      <td>[[CLS], would, the, mixture, involving, the, d...</td>\n",
       "      <td>[101, 2052, 1996, 8150, 5994, 1996, 4487, 1439...</td>\n",
       "      <td>[1, 1, 1, 1, 1, 1, 1, 1, 1, 1, 1, 1, 1, 1, 1, ...</td>\n",
       "      <td>1</td>\n",
       "    </tr>\n",
       "  </tbody>\n",
       "</table>\n",
       "<p>348 rows × 8 columns</p>\n",
       "</div>"
      ],
      "text/plain": [
       "     Unnamed: 0                                            Prompts  turbidity  \\\n",
       "0             0  Would the mixture involving the ditopic O=Cc1c...          0   \n",
       "1             1  Would the mixture involving the ditopic CC(C)(...          0   \n",
       "2             2  Would the mixture involving the ditopic O=Cc1c...          0   \n",
       "3             3  Would the mixture involving the ditopic O=Cc1c...          0   \n",
       "4             4  Would the mixture involving the ditopic O=Cc1c...          0   \n",
       "..          ...                                                ...        ...   \n",
       "343         343  Would the mixture involving the ditopic NCCOCC...          1   \n",
       "344         344  Would the mixture involving the ditopic NCC1=C...          1   \n",
       "345         345  Would the mixture involving the ditopic NCC(CN...          1   \n",
       "346         346  Would the mixture involving the ditopic NCCCC[...          1   \n",
       "347         347  Would the mixture involving the ditopic N[C@H]...          1   \n",
       "\n",
       "                                             tokenized  \\\n",
       "0    {'input_ids': [101, 2052, 1996, 8150, 5994, 19...   \n",
       "1    {'input_ids': [101, 2052, 1996, 8150, 5994, 19...   \n",
       "2    {'input_ids': [101, 2052, 1996, 8150, 5994, 19...   \n",
       "3    {'input_ids': [101, 2052, 1996, 8150, 5994, 19...   \n",
       "4    {'input_ids': [101, 2052, 1996, 8150, 5994, 19...   \n",
       "..                                                 ...   \n",
       "343  {'input_ids': [101, 2052, 1996, 8150, 5994, 19...   \n",
       "344  {'input_ids': [101, 2052, 1996, 8150, 5994, 19...   \n",
       "345  {'input_ids': [101, 2052, 1996, 8150, 5994, 19...   \n",
       "346  {'input_ids': [101, 2052, 1996, 8150, 5994, 19...   \n",
       "347  {'input_ids': [101, 2052, 1996, 8150, 5994, 19...   \n",
       "\n",
       "                                        decoded_tokens  \\\n",
       "0    [[CLS], would, the, mixture, involving, the, d...   \n",
       "1    [[CLS], would, the, mixture, involving, the, d...   \n",
       "2    [[CLS], would, the, mixture, involving, the, d...   \n",
       "3    [[CLS], would, the, mixture, involving, the, d...   \n",
       "4    [[CLS], would, the, mixture, involving, the, d...   \n",
       "..                                                 ...   \n",
       "343  [[CLS], would, the, mixture, involving, the, d...   \n",
       "344  [[CLS], would, the, mixture, involving, the, d...   \n",
       "345  [[CLS], would, the, mixture, involving, the, d...   \n",
       "346  [[CLS], would, the, mixture, involving, the, d...   \n",
       "347  [[CLS], would, the, mixture, involving, the, d...   \n",
       "\n",
       "                                             input_ids  \\\n",
       "0    [101, 2052, 1996, 8150, 5994, 1996, 4487, 1439...   \n",
       "1    [101, 2052, 1996, 8150, 5994, 1996, 4487, 1439...   \n",
       "2    [101, 2052, 1996, 8150, 5994, 1996, 4487, 1439...   \n",
       "3    [101, 2052, 1996, 8150, 5994, 1996, 4487, 1439...   \n",
       "4    [101, 2052, 1996, 8150, 5994, 1996, 4487, 1439...   \n",
       "..                                                 ...   \n",
       "343  [101, 2052, 1996, 8150, 5994, 1996, 4487, 1439...   \n",
       "344  [101, 2052, 1996, 8150, 5994, 1996, 4487, 1439...   \n",
       "345  [101, 2052, 1996, 8150, 5994, 1996, 4487, 1439...   \n",
       "346  [101, 2052, 1996, 8150, 5994, 1996, 4487, 1439...   \n",
       "347  [101, 2052, 1996, 8150, 5994, 1996, 4487, 1439...   \n",
       "\n",
       "                                        attention_mask  labels  \n",
       "0    [1, 1, 1, 1, 1, 1, 1, 1, 1, 1, 1, 1, 1, 1, 1, ...       0  \n",
       "1    [1, 1, 1, 1, 1, 1, 1, 1, 1, 1, 1, 1, 1, 1, 1, ...       0  \n",
       "2    [1, 1, 1, 1, 1, 1, 1, 1, 1, 1, 1, 1, 1, 1, 1, ...       0  \n",
       "3    [1, 1, 1, 1, 1, 1, 1, 1, 1, 1, 1, 1, 1, 1, 1, ...       0  \n",
       "4    [1, 1, 1, 1, 1, 1, 1, 1, 1, 1, 1, 1, 1, 1, 1, ...       0  \n",
       "..                                                 ...     ...  \n",
       "343  [1, 1, 1, 1, 1, 1, 1, 1, 1, 1, 1, 1, 1, 1, 1, ...       1  \n",
       "344  [1, 1, 1, 1, 1, 1, 1, 1, 1, 1, 1, 1, 1, 1, 1, ...       1  \n",
       "345  [1, 1, 1, 1, 1, 1, 1, 1, 1, 1, 1, 1, 1, 1, 1, ...       1  \n",
       "346  [1, 1, 1, 1, 1, 1, 1, 1, 1, 1, 1, 1, 1, 1, 1, ...       1  \n",
       "347  [1, 1, 1, 1, 1, 1, 1, 1, 1, 1, 1, 1, 1, 1, 1, ...       1  \n",
       "\n",
       "[348 rows x 8 columns]"
      ]
     },
     "execution_count": 279,
     "metadata": {},
     "output_type": "execute_result"
    }
   ],
   "source": [
    "data_reduced_prompt"
   ]
  },
  {
   "cell_type": "code",
   "execution_count": 281,
   "metadata": {},
   "outputs": [
    {
     "name": "stderr",
     "output_type": "stream",
     "text": [
      "/Users/davidsegura/miniconda3/envs/env_cage/lib/python3.9/site-packages/transformers/training_args.py:1568: FutureWarning: `evaluation_strategy` is deprecated and will be removed in version 4.46 of 🤗 Transformers. Use `eval_strategy` instead\n",
      "  warnings.warn(\n"
     ]
    }
   ],
   "source": [
    "data_reduced_prompt[\"input_ids\"] = data_reduced_prompt[\"tokenized\"].apply(lambda x: x[\"input_ids\"])\n",
    "data_reduced_prompt[\"attention_mask\"] = data_reduced_prompt[\"tokenized\"].apply(lambda x: x[\"attention_mask\"])\n",
    "data_reduced_prompt[\"labels\"] = data_reduced_prompt[\"turbidity\"] \n",
    "\n",
    "dataset = Dataset.from_pandas(data_reduced_prompt[[\"input_ids\", \"attention_mask\", \"labels\"]])\n",
    "\n",
    "train_test_split = dataset.train_test_split(test_size=0.2)\n",
    "train_dataset = train_test_split[\"train\"]\n",
    "eval_dataset = train_test_split[\"test\"]\n",
    "\n",
    "training_args = TrainingArguments(\n",
    "    output_dir=\"./results\",\n",
    "    evaluation_strategy=\"epoch\",\n",
    "    per_device_train_batch_size=4,\n",
    "    per_device_eval_batch_size=4,\n",
    "    num_train_epochs=5,\n",
    "    learning_rate=5e-5,\n",
    "    save_steps=10_000,\n",
    "    save_total_limit=2,\n",
    "    logging_steps=50 \n",
    ")\n",
    "\n",
    "trainer = Trainer(\n",
    "    model=model,\n",
    "    args=training_args,\n",
    "    train_dataset=train_dataset,\n",
    "    eval_dataset=eval_dataset,\n",
    "    compute_metrics=compute_metrics,  \n",
    ")\n",
    "\n"
   ]
  },
  {
   "cell_type": "code",
   "execution_count": 282,
   "metadata": {},
   "outputs": [
    {
     "data": {
      "application/vnd.jupyter.widget-view+json": {
       "model_id": "17e8181636784e41b2c5d2f59b7d439e",
       "version_major": 2,
       "version_minor": 0
      },
      "text/plain": [
       "  0%|          | 0/350 [00:00<?, ?it/s]"
      ]
     },
     "metadata": {},
     "output_type": "display_data"
    },
    {
     "name": "stdout",
     "output_type": "stream",
     "text": [
      "{'loss': 0.7278, 'grad_norm': 8.420694351196289, 'learning_rate': 4.2857142857142856e-05, 'epoch': 0.71}\n"
     ]
    },
    {
     "data": {
      "application/vnd.jupyter.widget-view+json": {
       "model_id": "fa3c774f3e0041c7a3d7d10ee6502e63",
       "version_major": 2,
       "version_minor": 0
      },
      "text/plain": [
       "  0%|          | 0/18 [00:00<?, ?it/s]"
      ]
     },
     "metadata": {},
     "output_type": "display_data"
    },
    {
     "name": "stdout",
     "output_type": "stream",
     "text": [
      "{'eval_loss': 0.7066532373428345, 'eval_accuracy': 0.5142857142857142, 'eval_runtime': 15.9122, 'eval_samples_per_second': 4.399, 'eval_steps_per_second': 1.131, 'epoch': 1.0}\n",
      "{'loss': 0.7075, 'grad_norm': 9.770400047302246, 'learning_rate': 3.571428571428572e-05, 'epoch': 1.43}\n"
     ]
    },
    {
     "data": {
      "application/vnd.jupyter.widget-view+json": {
       "model_id": "7d2d011ba64544fba91751aa09f77caf",
       "version_major": 2,
       "version_minor": 0
      },
      "text/plain": [
       "  0%|          | 0/18 [00:00<?, ?it/s]"
      ]
     },
     "metadata": {},
     "output_type": "display_data"
    },
    {
     "name": "stdout",
     "output_type": "stream",
     "text": [
      "{'eval_loss': 0.7180407047271729, 'eval_accuracy': 0.5142857142857142, 'eval_runtime': 16.5737, 'eval_samples_per_second': 4.224, 'eval_steps_per_second': 1.086, 'epoch': 2.0}\n",
      "{'loss': 0.7033, 'grad_norm': 5.198792457580566, 'learning_rate': 2.857142857142857e-05, 'epoch': 2.14}\n",
      "{'loss': 0.7183, 'grad_norm': 3.5309085845947266, 'learning_rate': 2.1428571428571428e-05, 'epoch': 2.86}\n"
     ]
    },
    {
     "data": {
      "application/vnd.jupyter.widget-view+json": {
       "model_id": "f04a634b9a1549909765154576ce4501",
       "version_major": 2,
       "version_minor": 0
      },
      "text/plain": [
       "  0%|          | 0/18 [00:00<?, ?it/s]"
      ]
     },
     "metadata": {},
     "output_type": "display_data"
    },
    {
     "name": "stdout",
     "output_type": "stream",
     "text": [
      "{'eval_loss': 0.6927423477172852, 'eval_accuracy': 0.5142857142857142, 'eval_runtime': 15.5781, 'eval_samples_per_second': 4.493, 'eval_steps_per_second': 1.155, 'epoch': 3.0}\n",
      "{'loss': 0.6919, 'grad_norm': 9.438436508178711, 'learning_rate': 1.4285714285714285e-05, 'epoch': 3.57}\n"
     ]
    },
    {
     "data": {
      "application/vnd.jupyter.widget-view+json": {
       "model_id": "c8a035b378474898ab66016d19f50065",
       "version_major": 2,
       "version_minor": 0
      },
      "text/plain": [
       "  0%|          | 0/18 [00:00<?, ?it/s]"
      ]
     },
     "metadata": {},
     "output_type": "display_data"
    },
    {
     "name": "stdout",
     "output_type": "stream",
     "text": [
      "{'eval_loss': 0.6940053701400757, 'eval_accuracy': 0.4857142857142857, 'eval_runtime': 15.8381, 'eval_samples_per_second': 4.42, 'eval_steps_per_second': 1.137, 'epoch': 4.0}\n",
      "{'loss': 0.7003, 'grad_norm': 2.5781233310699463, 'learning_rate': 7.142857142857143e-06, 'epoch': 4.29}\n",
      "{'loss': 0.6868, 'grad_norm': 16.79537010192871, 'learning_rate': 0.0, 'epoch': 5.0}\n"
     ]
    },
    {
     "data": {
      "application/vnd.jupyter.widget-view+json": {
       "model_id": "bb7f6d02886f42ada1fa95e1b5d45550",
       "version_major": 2,
       "version_minor": 0
      },
      "text/plain": [
       "  0%|          | 0/18 [00:00<?, ?it/s]"
      ]
     },
     "metadata": {},
     "output_type": "display_data"
    },
    {
     "name": "stdout",
     "output_type": "stream",
     "text": [
      "{'eval_loss': 0.6927961111068726, 'eval_accuracy': 0.5142857142857142, 'eval_runtime': 16.7298, 'eval_samples_per_second': 4.184, 'eval_steps_per_second': 1.076, 'epoch': 5.0}\n",
      "{'train_runtime': 1141.0199, 'train_samples_per_second': 1.218, 'train_steps_per_second': 0.307, 'train_loss': 0.7051299285888671, 'epoch': 5.0}\n"
     ]
    },
    {
     "data": {
      "application/vnd.jupyter.widget-view+json": {
       "model_id": "357b818db7e943938e86153b0bfa8bfb",
       "version_major": 2,
       "version_minor": 0
      },
      "text/plain": [
       "  0%|          | 0/18 [00:00<?, ?it/s]"
      ]
     },
     "metadata": {},
     "output_type": "display_data"
    },
    {
     "name": "stdout",
     "output_type": "stream",
     "text": [
      "Evaluation Results: {'eval_loss': 0.6927961111068726, 'eval_accuracy': 0.5142857142857142, 'eval_runtime': 24.9222, 'eval_samples_per_second': 2.809, 'eval_steps_per_second': 0.722, 'epoch': 5.0}\n"
     ]
    }
   ],
   "source": [
    "trainer.train()\n",
    "\n",
    "eval_results = trainer.evaluate()\n",
    "print(f\"Evaluation Results: {eval_results}\")\n",
    "\n"
   ]
  },
  {
   "cell_type": "code",
   "execution_count": 240,
   "metadata": {},
   "outputs": [
    {
     "data": {
      "text/plain": [
       "('./turbidity_model/tokenizer_config.json',\n",
       " './turbidity_model/special_tokens_map.json',\n",
       " './turbidity_model/vocab.json',\n",
       " './turbidity_model/merges.txt',\n",
       " './turbidity_model/added_tokens.json',\n",
       " './turbidity_model/tokenizer.json')"
      ]
     },
     "execution_count": 240,
     "metadata": {},
     "output_type": "execute_result"
    }
   ],
   "source": [
    "#model.save_pretrained(\"./turbidity_model\")\n",
    "#tokenizer.save_pretrained(\"./turbidity_model\")\n"
   ]
  },
  {
   "cell_type": "code",
   "execution_count": 283,
   "metadata": {},
   "outputs": [
    {
     "data": {
      "application/vnd.jupyter.widget-view+json": {
       "model_id": "6e52f86bfc944acda446a35c0045212b",
       "version_major": 2,
       "version_minor": 0
      },
      "text/plain": [
       "  0%|          | 0/18 [00:00<?, ?it/s]"
      ]
     },
     "metadata": {},
     "output_type": "display_data"
    }
   ],
   "source": [
    "predictions = trainer.predict(eval_dataset)  \n",
    "\n",
    "preds = np.argmax(predictions.predictions, axis=1)\n",
    "true_labels = predictions.label_ids"
   ]
  },
  {
   "cell_type": "code",
   "execution_count": 284,
   "metadata": {},
   "outputs": [
    {
     "data": {
      "text/plain": [
       "array([1, 1, 1, 1, 1, 1, 1, 1, 1, 1, 1, 1, 1, 1, 1, 1, 1, 1, 1, 1, 1, 1,\n",
       "       1, 1, 1, 1, 1, 1, 1, 1, 1, 1, 1, 1, 1, 1, 1, 1, 1, 1, 1, 1, 1, 1,\n",
       "       1, 1, 1, 1, 1, 1, 1, 1, 1, 1, 1, 1, 1, 1, 1, 1, 1, 1, 1, 1, 1, 1,\n",
       "       1, 1, 1, 1])"
      ]
     },
     "execution_count": 284,
     "metadata": {},
     "output_type": "execute_result"
    }
   ],
   "source": [
    "preds"
   ]
  },
  {
   "cell_type": "code",
   "execution_count": 245,
   "metadata": {},
   "outputs": [],
   "source": [
    "from sklearn.metrics import confusion_matrix, classification_report, roc_auc_score, roc_curve, precision_recall_curve"
   ]
  },
  {
   "cell_type": "code",
   "execution_count": 247,
   "metadata": {},
   "outputs": [],
   "source": [
    "import matplotlib.pyplot as plt"
   ]
  },
  {
   "cell_type": "code",
   "execution_count": 252,
   "metadata": {},
   "outputs": [
    {
     "data": {
      "image/png": "[encoded data removed]",
      "text/plain": [
       "<Figure size 600x600 with 1 Axes>"
      ]
     },
     "metadata": {},
     "output_type": "display_data"
    }
   ],
   "source": [
    "cm = confusion_matrix(true_labels, preds)\n",
    "\n",
    "plt.figure(figsize=(6, 6))\n",
    "plt.matshow(cm, cmap='Blues', fignum=1)\n",
    "\n",
    "plt.title('Confusion Matrix', pad=20)\n",
    "plt.xlabel('Predicted Labels')\n",
    "plt.ylabel('True Labels')\n",
    "\n",
    "for i in range(2):\n",
    "    for j in range(2):\n",
    "        plt.text(j, i, f'{cm[i, j]:d}', ha='center', va='center', color='black', fontsize=12)\n",
    "\n",
    "plt.xticks([0, 1], ['0', '1'], fontsize=12)\n",
    "plt.yticks([0, 1], ['0', '1'], fontsize=12)\n",
    "\n",
    "plt.show()\n"
   ]
  },
  {
   "cell_type": "markdown",
   "metadata": {},
   "source": [
    "# New approach with ChemBERTa\n"
   ]
  },
  {
   "cell_type": "markdown",
   "metadata": {},
   "source": [
    "Let's try only with the SMILES"
   ]
  },
  {
   "cell_type": "code",
   "execution_count": 8,
   "metadata": {},
   "outputs": [],
   "source": [
    "from sklearn.model_selection import train_test_split"
   ]
  },
  {
   "cell_type": "code",
   "execution_count": 9,
   "metadata": {},
   "outputs": [],
   "source": [
    "data_reduced_chemberta = pd.read_csv('/Users/davidsegura/git/Leveraging_LLMs_causality/cage_SAD_llm/data/reduced_dataset_turbidity.csv')"
   ]
  },
  {
   "cell_type": "code",
   "execution_count": 10,
   "metadata": {},
   "outputs": [],
   "source": [
    "data_reduced_chemberta = data_reduced_chemberta[['di_smiles', 'tri_smiles', 'turbidity_binary']]"
   ]
  },
  {
   "cell_type": "code",
   "execution_count": 11,
   "metadata": {},
   "outputs": [],
   "source": [
    "data_reduced_chemberta[\"combined_smiles\"] = data_reduced_chemberta[\"di_smiles\"] + \" [SEP] \" + data_reduced_chemberta[\"tri_smiles\"]\n"
   ]
  },
  {
   "cell_type": "code",
   "execution_count": 40,
   "metadata": {},
   "outputs": [
    {
     "data": {
      "text/html": [
       "<div>\n",
       "<style scoped>\n",
       "    .dataframe tbody tr th:only-of-type {\n",
       "        vertical-align: middle;\n",
       "    }\n",
       "\n",
       "    .dataframe tbody tr th {\n",
       "        vertical-align: top;\n",
       "    }\n",
       "\n",
       "    .dataframe thead th {\n",
       "        text-align: right;\n",
       "    }\n",
       "</style>\n",
       "<table border=\"1\" class=\"dataframe\">\n",
       "  <thead>\n",
       "    <tr style=\"text-align: right;\">\n",
       "      <th></th>\n",
       "      <th>di_smiles</th>\n",
       "      <th>tri_smiles</th>\n",
       "      <th>turbidity_binary</th>\n",
       "      <th>combined_smiles</th>\n",
       "    </tr>\n",
       "  </thead>\n",
       "  <tbody>\n",
       "  </tbody>\n",
       "</table>\n",
       "</div>"
      ],
      "text/plain": [
       "Empty DataFrame\n",
       "Columns: [di_smiles, tri_smiles, turbidity_binary, combined_smiles]\n",
       "Index: []"
      ]
     },
     "execution_count": 40,
     "metadata": {},
     "output_type": "execute_result"
    }
   ],
   "source": [
    "repeated_smiles = data_reduced_chemberta[data_reduced_chemberta.duplicated(subset=\"combined_smiles\", keep=False)]\n",
    "repeated_smiles"
   ]
  },
  {
   "cell_type": "code",
   "execution_count": 12,
   "metadata": {},
   "outputs": [],
   "source": [
    "train_texts, val_texts, train_labels, val_labels = train_test_split(\n",
    "    data_reduced_chemberta[\"combined_smiles\"].tolist(), data_reduced_chemberta[\"turbidity_binary\"].tolist(), test_size=0.2, random_state=42\n",
    ")"
   ]
  },
  {
   "cell_type": "code",
   "execution_count": 13,
   "metadata": {},
   "outputs": [
    {
     "name": "stderr",
     "output_type": "stream",
     "text": [
      "Some weights of RobertaForSequenceClassification were not initialized from the model checkpoint at seyonec/ChemBERTa_zinc250k_v2_40k and are newly initialized: ['classifier.dense.bias', 'classifier.dense.weight', 'classifier.out_proj.bias', 'classifier.out_proj.weight']\n",
      "You should probably TRAIN this model on a down-stream task to be able to use it for predictions and inference.\n"
     ]
    }
   ],
   "source": [
    "model_name = \"seyonec/ChemBERTa_zinc250k_v2_40k\"\n",
    "tokenizer = AutoTokenizer.from_pretrained(model_name)\n",
    "model = AutoModelForSequenceClassification.from_pretrained(model_name, num_labels=2)"
   ]
  },
  {
   "cell_type": "code",
   "execution_count": 14,
   "metadata": {},
   "outputs": [
    {
     "name": "stderr",
     "output_type": "stream",
     "text": [
      "Asking to truncate to max_length but no maximum length is provided and the model has no predefined maximum length. Default to no truncation.\n",
      "/Users/davidsegura/miniconda3/envs/env_cage/lib/python3.9/site-packages/transformers/training_args.py:1568: FutureWarning: `evaluation_strategy` is deprecated and will be removed in version 4.46 of 🤗 Transformers. Use `eval_strategy` instead\n",
      "  warnings.warn(\n",
      "huggingface/tokenizers: The current process just got forked, after parallelism has already been used. Disabling parallelism to avoid deadlocks...\n",
      "To disable this warning, you can either:\n",
      "\t- Avoid using `tokenizers` before the fork if possible\n",
      "\t- Explicitly set the environment variable TOKENIZERS_PARALLELISM=(true | false)\n"
     ]
    },
    {
     "data": {
      "application/vnd.jupyter.widget-view+json": {
       "model_id": "47656d8df8bb4c3cb2a6fcc2fd8f3892",
       "version_major": 2,
       "version_minor": 0
      },
      "text/plain": [
       "  0%|          | 0/105 [00:00<?, ?it/s]"
      ]
     },
     "metadata": {},
     "output_type": "display_data"
    },
    {
     "name": "stdout",
     "output_type": "stream",
     "text": [
      "{'loss': 0.7179, 'grad_norm': 7.24699068069458, 'learning_rate': 4.523809523809524e-05, 'epoch': 0.29}\n",
      "{'loss': 0.5862, 'grad_norm': 9.065000534057617, 'learning_rate': 4.047619047619048e-05, 'epoch': 0.57}\n",
      "{'loss': 0.6183, 'grad_norm': 9.539673805236816, 'learning_rate': 3.571428571428572e-05, 'epoch': 0.86}\n"
     ]
    },
    {
     "data": {
      "application/vnd.jupyter.widget-view+json": {
       "model_id": "a1522eb4e0614613a7b6a9ee3f7558ec",
       "version_major": 2,
       "version_minor": 0
      },
      "text/plain": [
       "  0%|          | 0/9 [00:00<?, ?it/s]"
      ]
     },
     "metadata": {},
     "output_type": "display_data"
    },
    {
     "name": "stdout",
     "output_type": "stream",
     "text": [
      "{'eval_loss': 0.5933039784431458, 'eval_runtime': 2.8721, 'eval_samples_per_second': 24.373, 'eval_steps_per_second': 3.134, 'epoch': 1.0}\n",
      "{'loss': 0.4832, 'grad_norm': 4.772195816040039, 'learning_rate': 3.095238095238095e-05, 'epoch': 1.14}\n",
      "{'loss': 0.4544, 'grad_norm': 9.763381004333496, 'learning_rate': 2.6190476190476192e-05, 'epoch': 1.43}\n",
      "{'loss': 0.4057, 'grad_norm': 6.581486225128174, 'learning_rate': 2.1428571428571428e-05, 'epoch': 1.71}\n",
      "{'loss': 0.4814, 'grad_norm': 5.549365520477295, 'learning_rate': 1.6666666666666667e-05, 'epoch': 2.0}\n"
     ]
    },
    {
     "data": {
      "application/vnd.jupyter.widget-view+json": {
       "model_id": "0a3c457aaf684617bf2ccf1164507303",
       "version_major": 2,
       "version_minor": 0
      },
      "text/plain": [
       "  0%|          | 0/9 [00:00<?, ?it/s]"
      ]
     },
     "metadata": {},
     "output_type": "display_data"
    },
    {
     "name": "stdout",
     "output_type": "stream",
     "text": [
      "{'eval_loss': 0.5766083598136902, 'eval_runtime': 0.9574, 'eval_samples_per_second': 73.111, 'eval_steps_per_second': 9.4, 'epoch': 2.0}\n",
      "{'loss': 0.2525, 'grad_norm': 3.5218069553375244, 'learning_rate': 1.1904761904761905e-05, 'epoch': 2.29}\n",
      "{'loss': 0.3286, 'grad_norm': 2.909175395965576, 'learning_rate': 7.142857142857143e-06, 'epoch': 2.57}\n",
      "{'loss': 0.3092, 'grad_norm': 4.805489540100098, 'learning_rate': 2.3809523809523808e-06, 'epoch': 2.86}\n"
     ]
    },
    {
     "data": {
      "application/vnd.jupyter.widget-view+json": {
       "model_id": "73f440a220d544f2b5159d4a21fd7340",
       "version_major": 2,
       "version_minor": 0
      },
      "text/plain": [
       "  0%|          | 0/9 [00:00<?, ?it/s]"
      ]
     },
     "metadata": {},
     "output_type": "display_data"
    },
    {
     "name": "stdout",
     "output_type": "stream",
     "text": [
      "{'eval_loss': 0.5697126388549805, 'eval_runtime': 0.7734, 'eval_samples_per_second': 90.513, 'eval_steps_per_second': 11.637, 'epoch': 3.0}\n",
      "{'train_runtime': 83.4817, 'train_samples_per_second': 9.99, 'train_steps_per_second': 1.258, 'train_loss': 0.45580055373055595, 'epoch': 3.0}\n"
     ]
    },
    {
     "data": {
      "text/plain": [
       "TrainOutput(global_step=105, training_loss=0.45580055373055595, metrics={'train_runtime': 83.4817, 'train_samples_per_second': 9.99, 'train_steps_per_second': 1.258, 'total_flos': 23088136174344.0, 'train_loss': 0.45580055373055595, 'epoch': 3.0})"
      ]
     },
     "execution_count": 14,
     "metadata": {},
     "output_type": "execute_result"
    }
   ],
   "source": [
    "train_encodings = tokenizer(train_texts, truncation=True, padding=True, return_tensors=\"pt\")\n",
    "val_encodings = tokenizer(val_texts, truncation=True, padding=True, return_tensors=\"pt\")\n",
    "\n",
    "train_labels = torch.tensor(train_labels)\n",
    "val_labels = torch.tensor(val_labels)\n",
    "\n",
    "class SmilesDataset(torch.utils.data.Dataset):\n",
    "    def __init__(self, encodings, labels):\n",
    "        self.encodings = encodings\n",
    "        self.labels = labels\n",
    "\n",
    "    def __getitem__(self, idx):\n",
    "        item = {key: val[idx] for key, val in self.encodings.items()}\n",
    "        item[\"labels\"] = self.labels[idx]\n",
    "        return item\n",
    "\n",
    "    def __len__(self):\n",
    "        return len(self.labels)\n",
    "\n",
    "train_dataset = SmilesDataset(train_encodings, train_labels)\n",
    "val_dataset = SmilesDataset(val_encodings, val_labels)\n",
    "\n",
    "training_args = TrainingArguments(\n",
    "    output_dir=\"./results\",\n",
    "    evaluation_strategy=\"epoch\",\n",
    "    per_device_train_batch_size=8,\n",
    "    per_device_eval_batch_size=8,\n",
    "    num_train_epochs=3,\n",
    "    weight_decay=0.01,\n",
    "    logging_dir='./logs',  \n",
    "    logging_steps=10,\n",
    ")\n",
    "\n",
    "trainer = Trainer(\n",
    "    model=model,\n",
    "    args=training_args,\n",
    "    train_dataset=train_dataset,\n",
    "    eval_dataset=val_dataset,\n",
    ")\n",
    "\n",
    "trainer.train()\n"
   ]
  },
  {
   "cell_type": "code",
   "execution_count": 15,
   "metadata": {},
   "outputs": [
    {
     "data": {
      "application/vnd.jupyter.widget-view+json": {
       "model_id": "dc969aa36194478fae29ad66fd465fb9",
       "version_major": 2,
       "version_minor": 0
      },
      "text/plain": [
       "  0%|          | 0/9 [00:00<?, ?it/s]"
      ]
     },
     "metadata": {},
     "output_type": "display_data"
    },
    {
     "name": "stdout",
     "output_type": "stream",
     "text": [
      "{'eval_loss': 0.5697126388549805, 'eval_runtime': 0.538, 'eval_samples_per_second': 130.101, 'eval_steps_per_second': 16.727, 'epoch': 3.0}\n"
     ]
    }
   ],
   "source": [
    "eval_results = trainer.evaluate(val_dataset)\n",
    "print(eval_results) "
   ]
  },
  {
   "cell_type": "code",
   "execution_count": 16,
   "metadata": {},
   "outputs": [
    {
     "data": {
      "application/vnd.jupyter.widget-view+json": {
       "model_id": "0df6d62118934b47a4ebf3b61d7eb265",
       "version_major": 2,
       "version_minor": 0
      },
      "text/plain": [
       "  0%|          | 0/9 [00:00<?, ?it/s]"
      ]
     },
     "metadata": {},
     "output_type": "display_data"
    }
   ],
   "source": [
    "predictions_output = trainer.predict(val_dataset)"
   ]
  },
  {
   "cell_type": "code",
   "execution_count": 17,
   "metadata": {},
   "outputs": [],
   "source": [
    "pred_labels = torch.argmax(torch.tensor(predictions_output.predictions), axis=1).numpy()\n",
    "\n",
    "true_labels = predictions_output.label_ids"
   ]
  },
  {
   "cell_type": "code",
   "execution_count": 18,
   "metadata": {},
   "outputs": [
    {
     "name": "stdout",
     "output_type": "stream",
     "text": [
      "Test Accuracy: 0.81\n"
     ]
    }
   ],
   "source": [
    "accuracy = accuracy_score(true_labels, pred_labels)\n",
    "print(f\"Test Accuracy: {accuracy:.2f}\")"
   ]
  },
  {
   "cell_type": "markdown",
   "metadata": {},
   "source": [
    "## Testing on the test set directly"
   ]
  },
  {
   "cell_type": "code",
   "execution_count": 21,
   "metadata": {},
   "outputs": [
    {
     "name": "stderr",
     "output_type": "stream",
     "text": [
      "/Users/davidsegura/miniconda3/envs/env_cage/lib/python3.9/site-packages/transformers/training_args.py:1568: FutureWarning: `evaluation_strategy` is deprecated and will be removed in version 4.46 of 🤗 Transformers. Use `eval_strategy` instead\n",
      "  warnings.warn(\n"
     ]
    },
    {
     "data": {
      "application/vnd.jupyter.widget-view+json": {
       "model_id": "d7017214ac334a359500e61eda01eac6",
       "version_major": 2,
       "version_minor": 0
      },
      "text/plain": [
       "  0%|          | 0/105 [00:00<?, ?it/s]"
      ]
     },
     "metadata": {},
     "output_type": "display_data"
    },
    {
     "name": "stdout",
     "output_type": "stream",
     "text": [
      "{'loss': 0.0295, 'grad_norm': 0.13865633308887482, 'learning_rate': 4.523809523809524e-05, 'epoch': 0.29}\n",
      "{'loss': 0.3617, 'grad_norm': 11.982073783874512, 'learning_rate': 4.047619047619048e-05, 'epoch': 0.57}\n",
      "{'loss': 0.2045, 'grad_norm': 25.152088165283203, 'learning_rate': 3.571428571428572e-05, 'epoch': 0.86}\n",
      "{'loss': 0.0923, 'grad_norm': 1.7653474807739258, 'learning_rate': 3.095238095238095e-05, 'epoch': 1.14}\n",
      "{'loss': 0.2117, 'grad_norm': 18.127443313598633, 'learning_rate': 2.6190476190476192e-05, 'epoch': 1.43}\n",
      "{'loss': 0.1183, 'grad_norm': 0.41930922865867615, 'learning_rate': 2.1428571428571428e-05, 'epoch': 1.71}\n",
      "{'loss': 0.0983, 'grad_norm': 0.4719413220882416, 'learning_rate': 1.6666666666666667e-05, 'epoch': 2.0}\n",
      "{'loss': 0.204, 'grad_norm': 2.3866264820098877, 'learning_rate': 1.1904761904761905e-05, 'epoch': 2.29}\n",
      "{'loss': 0.2081, 'grad_norm': 0.18496838212013245, 'learning_rate': 7.142857142857143e-06, 'epoch': 2.57}\n",
      "{'loss': 0.1187, 'grad_norm': 0.6120941042900085, 'learning_rate': 2.3809523809523808e-06, 'epoch': 2.86}\n",
      "{'train_runtime': 55.399, 'train_samples_per_second': 15.054, 'train_steps_per_second': 1.895, 'train_loss': 0.15938511065074376, 'epoch': 3.0}\n"
     ]
    },
    {
     "data": {
      "application/vnd.jupyter.widget-view+json": {
       "model_id": "e2ac69eabfc64457bed6eee50a6b8177",
       "version_major": 2,
       "version_minor": 0
      },
      "text/plain": [
       "  0%|          | 0/9 [00:00<?, ?it/s]"
      ]
     },
     "metadata": {},
     "output_type": "display_data"
    },
    {
     "name": "stdout",
     "output_type": "stream",
     "text": [
      "Test Results: {'eval_loss': 1.0084301233291626, 'eval_accuracy': 0.8285714285714286, 'eval_runtime': 0.7248, 'eval_samples_per_second': 96.578, 'eval_steps_per_second': 12.417, 'epoch': 3.0}\n"
     ]
    }
   ],
   "source": [
    "from transformers import Trainer, TrainingArguments\n",
    "\n",
    "train_texts, test_texts, train_labels, test_labels = train_test_split(\n",
    "    data_reduced_chemberta[\"combined_smiles\"].tolist(),\n",
    "    data_reduced_chemberta[\"turbidity_binary\"].tolist(),\n",
    "    test_size=0.2,  \n",
    "    random_state=42\n",
    ")\n",
    "\n",
    "train_encodings = tokenizer(train_texts, truncation=True, padding=True, return_tensors=\"pt\")\n",
    "test_encodings = tokenizer(test_texts, truncation=True, padding=True, return_tensors=\"pt\")\n",
    "\n",
    "train_labels = torch.tensor(train_labels)\n",
    "test_labels = torch.tensor(test_labels)\n",
    "\n",
    "class SmilesDataset(torch.utils.data.Dataset):\n",
    "    def __init__(self, encodings, labels):\n",
    "        self.encodings = encodings\n",
    "        self.labels = labels\n",
    "\n",
    "    def __getitem__(self, idx):\n",
    "        item = {key: val[idx] for key, val in self.encodings.items()}\n",
    "        item[\"labels\"] = self.labels[idx]\n",
    "        return item\n",
    "\n",
    "    def __len__(self):\n",
    "        return len(self.labels)\n",
    "\n",
    "train_dataset = SmilesDataset(train_encodings, train_labels)\n",
    "test_dataset = SmilesDataset(test_encodings, test_labels)\n",
    "\n",
    "training_args = TrainingArguments(\n",
    "    output_dir=\"./results\",      \n",
    "    evaluation_strategy=\"no\",   \n",
    "    per_device_train_batch_size=8,  \n",
    "    num_train_epochs=3,           \n",
    "    weight_decay=0.01,            \n",
    "    logging_dir='./logs',        \n",
    "    logging_steps=10,             \n",
    ")\n",
    "\n",
    "from sklearn.metrics import accuracy_score\n",
    "from transformers import Trainer, TrainingArguments\n",
    "\n",
    "def compute_metrics(eval_pred):\n",
    "    logits, labels = eval_pred\n",
    "    predictions = logits.argmax(axis=-1)  \n",
    "    accuracy = accuracy_score(labels, predictions)\n",
    "    return {\"accuracy\": accuracy}\n",
    "\n",
    "\n",
    "trainer = Trainer(\n",
    "    model=model,\n",
    "    args=training_args,\n",
    "    train_dataset=train_dataset,\n",
    "    compute_metrics=compute_metrics, \n",
    ")\n",
    "\n",
    "trainer.train()\n",
    "\n",
    "test_results = trainer.evaluate(test_dataset)\n",
    "print(f\"Test Results: {test_results}\")\n",
    "\n"
   ]
  },
  {
   "cell_type": "markdown",
   "metadata": {},
   "source": [
    "## Testing to plot over multiple epochs"
   ]
  },
  {
   "cell_type": "code",
   "execution_count": 38,
   "metadata": {},
   "outputs": [
    {
     "name": "stdout",
     "output_type": "stream",
     "text": [
      "\n",
      "Run 1/3\n",
      "\n",
      "Training for 1 epoch(s)...\n"
     ]
    },
    {
     "data": {
      "application/vnd.jupyter.widget-view+json": {
       "model_id": "659bde81da53470eb35dacfa589cf018",
       "version_major": 2,
       "version_minor": 0
      },
      "text/plain": [
       "  0%|          | 0/35 [00:00<?, ?it/s]"
      ]
     },
     "metadata": {},
     "output_type": "display_data"
    },
    {
     "name": "stdout",
     "output_type": "stream",
     "text": [
      "{'loss': 0.7121, 'grad_norm': 7.369133472442627, 'learning_rate': 3.571428571428572e-05, 'epoch': 0.29}\n",
      "{'loss': 0.6236, 'grad_norm': 10.151750564575195, 'learning_rate': 2.1428571428571428e-05, 'epoch': 0.57}\n",
      "{'loss': 0.6038, 'grad_norm': 5.403231143951416, 'learning_rate': 7.142857142857143e-06, 'epoch': 0.86}\n",
      "{'train_runtime': 21.2771, 'train_samples_per_second': 13.066, 'train_steps_per_second': 1.645, 'train_loss': 0.6361634867531912, 'epoch': 1.0}\n",
      "Test Accuracy after training for 1 epoch(s): 0.6571\n",
      "\n",
      "Training for 2 epoch(s)...\n"
     ]
    },
    {
     "data": {
      "application/vnd.jupyter.widget-view+json": {
       "model_id": "58fe6e56f349426785e9947b0a04bd75",
       "version_major": 2,
       "version_minor": 0
      },
      "text/plain": [
       "  0%|          | 0/70 [00:00<?, ?it/s]"
      ]
     },
     "metadata": {},
     "output_type": "display_data"
    },
    {
     "name": "stdout",
     "output_type": "stream",
     "text": [
      "{'loss': 0.509, 'grad_norm': 6.80057954788208, 'learning_rate': 4.2857142857142856e-05, 'epoch': 0.29}\n",
      "{'loss': 0.4803, 'grad_norm': 9.533134460449219, 'learning_rate': 3.571428571428572e-05, 'epoch': 0.57}\n",
      "{'loss': 0.4494, 'grad_norm': 10.334773063659668, 'learning_rate': 2.857142857142857e-05, 'epoch': 0.86}\n",
      "{'loss': 0.3483, 'grad_norm': 5.141994953155518, 'learning_rate': 2.1428571428571428e-05, 'epoch': 1.14}\n",
      "{'loss': 0.4823, 'grad_norm': 13.047527313232422, 'learning_rate': 1.4285714285714285e-05, 'epoch': 1.43}\n",
      "{'loss': 0.3098, 'grad_norm': 4.476320266723633, 'learning_rate': 7.142857142857143e-06, 'epoch': 1.71}\n",
      "{'loss': 0.3161, 'grad_norm': 4.203855991363525, 'learning_rate': 0.0, 'epoch': 2.0}\n",
      "{'train_runtime': 37.9585, 'train_samples_per_second': 14.648, 'train_steps_per_second': 1.844, 'train_loss': 0.41359308787754606, 'epoch': 2.0}\n",
      "Test Accuracy after training for 2 epoch(s): 0.7857\n",
      "\n",
      "Training for 3 epoch(s)...\n"
     ]
    },
    {
     "data": {
      "application/vnd.jupyter.widget-view+json": {
       "model_id": "7c8b6335b97d448f98a5ecafe2e26479",
       "version_major": 2,
       "version_minor": 0
      },
      "text/plain": [
       "  0%|          | 0/105 [00:00<?, ?it/s]"
      ]
     },
     "metadata": {},
     "output_type": "display_data"
    },
    {
     "name": "stdout",
     "output_type": "stream",
     "text": [
      "{'loss': 0.2906, 'grad_norm': 4.267680644989014, 'learning_rate': 4.523809523809524e-05, 'epoch': 0.29}\n",
      "{'loss': 0.4323, 'grad_norm': 5.743842124938965, 'learning_rate': 4.047619047619048e-05, 'epoch': 0.57}\n",
      "{'loss': 0.4256, 'grad_norm': 10.88731861114502, 'learning_rate': 3.571428571428572e-05, 'epoch': 0.86}\n",
      "{'loss': 0.2114, 'grad_norm': 6.414273738861084, 'learning_rate': 3.095238095238095e-05, 'epoch': 1.14}\n",
      "{'loss': 0.341, 'grad_norm': 14.826025009155273, 'learning_rate': 2.6190476190476192e-05, 'epoch': 1.43}\n",
      "{'loss': 0.2707, 'grad_norm': 3.969646692276001, 'learning_rate': 2.1428571428571428e-05, 'epoch': 1.71}\n",
      "{'loss': 0.1972, 'grad_norm': 5.136298179626465, 'learning_rate': 1.6666666666666667e-05, 'epoch': 2.0}\n",
      "{'loss': 0.1597, 'grad_norm': 1.5423660278320312, 'learning_rate': 1.1904761904761905e-05, 'epoch': 2.29}\n",
      "{'loss': 0.1595, 'grad_norm': 1.7918949127197266, 'learning_rate': 7.142857142857143e-06, 'epoch': 2.57}\n",
      "{'loss': 0.1665, 'grad_norm': 7.418068885803223, 'learning_rate': 2.3809523809523808e-06, 'epoch': 2.86}\n",
      "{'train_runtime': 54.1444, 'train_samples_per_second': 15.403, 'train_steps_per_second': 1.939, 'train_loss': 0.2577433449881417, 'epoch': 3.0}\n",
      "Test Accuracy after training for 3 epoch(s): 0.8429\n",
      "\n",
      "Training for 4 epoch(s)...\n"
     ]
    },
    {
     "data": {
      "application/vnd.jupyter.widget-view+json": {
       "model_id": "bd04670dde2145a38752df05813dbf92",
       "version_major": 2,
       "version_minor": 0
      },
      "text/plain": [
       "  0%|          | 0/140 [00:00<?, ?it/s]"
      ]
     },
     "metadata": {},
     "output_type": "display_data"
    },
    {
     "name": "stdout",
     "output_type": "stream",
     "text": [
      "{'loss': 0.0814, 'grad_norm': 6.829556941986084, 'learning_rate': 4.642857142857143e-05, 'epoch': 0.29}\n",
      "{'loss': 0.4381, 'grad_norm': 0.18082696199417114, 'learning_rate': 4.2857142857142856e-05, 'epoch': 0.57}\n",
      "{'loss': 0.3762, 'grad_norm': 9.677021980285645, 'learning_rate': 3.928571428571429e-05, 'epoch': 0.86}\n",
      "{'loss': 0.1871, 'grad_norm': 3.48280668258667, 'learning_rate': 3.571428571428572e-05, 'epoch': 1.14}\n",
      "{'loss': 0.2107, 'grad_norm': 19.36344337463379, 'learning_rate': 3.2142857142857144e-05, 'epoch': 1.43}\n",
      "{'loss': 0.3137, 'grad_norm': 24.07204246520996, 'learning_rate': 2.857142857142857e-05, 'epoch': 1.71}\n",
      "{'loss': 0.1646, 'grad_norm': 4.306484699249268, 'learning_rate': 2.5e-05, 'epoch': 2.0}\n",
      "{'loss': 0.1757, 'grad_norm': 0.5810405015945435, 'learning_rate': 2.1428571428571428e-05, 'epoch': 2.29}\n",
      "{'loss': 0.0923, 'grad_norm': 0.3181250989437103, 'learning_rate': 1.785714285714286e-05, 'epoch': 2.57}\n",
      "{'loss': 0.1655, 'grad_norm': 4.544318199157715, 'learning_rate': 1.4285714285714285e-05, 'epoch': 2.86}\n",
      "{'loss': 0.0676, 'grad_norm': 12.039877891540527, 'learning_rate': 1.0714285714285714e-05, 'epoch': 3.14}\n",
      "{'loss': 0.0329, 'grad_norm': 0.5354558229446411, 'learning_rate': 7.142857142857143e-06, 'epoch': 3.43}\n",
      "{'loss': 0.0235, 'grad_norm': 0.8490939140319824, 'learning_rate': 3.5714285714285714e-06, 'epoch': 3.71}\n",
      "{'loss': 0.1168, 'grad_norm': 0.10304270684719086, 'learning_rate': 0.0, 'epoch': 4.0}\n",
      "{'train_runtime': 70.0821, 'train_samples_per_second': 15.867, 'train_steps_per_second': 1.998, 'train_loss': 0.17472372842686518, 'epoch': 4.0}\n",
      "Test Accuracy after training for 4 epoch(s): 0.8000\n",
      "\n",
      "Training for 5 epoch(s)...\n"
     ]
    },
    {
     "data": {
      "application/vnd.jupyter.widget-view+json": {
       "model_id": "bfcaab0401d04d80a7189cb555d1cac3",
       "version_major": 2,
       "version_minor": 0
      },
      "text/plain": [
       "  0%|          | 0/175 [00:00<?, ?it/s]"
      ]
     },
     "metadata": {},
     "output_type": "display_data"
    },
    {
     "name": "stdout",
     "output_type": "stream",
     "text": [
      "{'loss': 0.0121, 'grad_norm': 1.0574665069580078, 'learning_rate': 4.714285714285714e-05, 'epoch': 0.29}\n",
      "{'loss': 0.3014, 'grad_norm': 4.383674621582031, 'learning_rate': 4.428571428571428e-05, 'epoch': 0.57}\n",
      "{'loss': 0.2116, 'grad_norm': 15.841099739074707, 'learning_rate': 4.1428571428571437e-05, 'epoch': 0.86}\n",
      "{'loss': 0.0909, 'grad_norm': 0.16751305758953094, 'learning_rate': 3.857142857142858e-05, 'epoch': 1.14}\n",
      "{'loss': 0.163, 'grad_norm': 17.553388595581055, 'learning_rate': 3.571428571428572e-05, 'epoch': 1.43}\n",
      "{'loss': 0.1553, 'grad_norm': 0.2640017569065094, 'learning_rate': 3.285714285714286e-05, 'epoch': 1.71}\n",
      "{'loss': 0.0406, 'grad_norm': 23.017484664916992, 'learning_rate': 3e-05, 'epoch': 2.0}\n",
      "{'loss': 0.1495, 'grad_norm': 0.018257202580571175, 'learning_rate': 2.714285714285714e-05, 'epoch': 2.29}\n",
      "{'loss': 0.0102, 'grad_norm': 0.04051189869642258, 'learning_rate': 2.4285714285714288e-05, 'epoch': 2.57}\n",
      "{'loss': 0.0331, 'grad_norm': 0.058483950793743134, 'learning_rate': 2.1428571428571428e-05, 'epoch': 2.86}\n",
      "{'loss': 0.099, 'grad_norm': 0.016535328701138496, 'learning_rate': 1.8571428571428572e-05, 'epoch': 3.14}\n",
      "{'loss': 0.0661, 'grad_norm': 20.481090545654297, 'learning_rate': 1.5714285714285715e-05, 'epoch': 3.43}\n",
      "{'loss': 0.0361, 'grad_norm': 0.04853116348385811, 'learning_rate': 1.2857142857142857e-05, 'epoch': 3.71}\n",
      "{'loss': 0.048, 'grad_norm': 0.0063218167051672935, 'learning_rate': 1e-05, 'epoch': 4.0}\n",
      "{'loss': 0.0193, 'grad_norm': 0.02779884822666645, 'learning_rate': 7.142857142857143e-06, 'epoch': 4.29}\n",
      "{'loss': 0.0184, 'grad_norm': 19.195507049560547, 'learning_rate': 4.285714285714286e-06, 'epoch': 4.57}\n",
      "{'loss': 0.0033, 'grad_norm': 0.020485367625951767, 'learning_rate': 1.4285714285714286e-06, 'epoch': 4.86}\n",
      "{'train_runtime': 88.9789, 'train_samples_per_second': 15.622, 'train_steps_per_second': 1.967, 'train_loss': 0.08333070720678994, 'epoch': 5.0}\n",
      "Test Accuracy after training for 5 epoch(s): 0.7857\n",
      "\n",
      "Run 2/3\n",
      "\n",
      "Training for 1 epoch(s)...\n"
     ]
    },
    {
     "data": {
      "application/vnd.jupyter.widget-view+json": {
       "model_id": "6c702c5c343d4a5e8ae62690d5db59f4",
       "version_major": 2,
       "version_minor": 0
      },
      "text/plain": [
       "  0%|          | 0/35 [00:00<?, ?it/s]"
      ]
     },
     "metadata": {},
     "output_type": "display_data"
    },
    {
     "name": "stdout",
     "output_type": "stream",
     "text": [
      "{'loss': 0.0105, 'grad_norm': 0.005073431879281998, 'learning_rate': 3.571428571428572e-05, 'epoch': 0.29}\n",
      "{'loss': 0.1172, 'grad_norm': 0.6023678779602051, 'learning_rate': 2.1428571428571428e-05, 'epoch': 0.57}\n",
      "{'loss': 0.1441, 'grad_norm': 0.12563183903694153, 'learning_rate': 7.142857142857143e-06, 'epoch': 0.86}\n",
      "{'train_runtime': 17.5632, 'train_samples_per_second': 15.829, 'train_steps_per_second': 1.993, 'train_loss': 0.12258148831980568, 'epoch': 1.0}\n",
      "Test Accuracy after training for 1 epoch(s): 0.8143\n",
      "\n",
      "Training for 2 epoch(s)...\n"
     ]
    },
    {
     "data": {
      "application/vnd.jupyter.widget-view+json": {
       "model_id": "d8b49ccfeb384bea97d2f1e61682ec79",
       "version_major": 2,
       "version_minor": 0
      },
      "text/plain": [
       "  0%|          | 0/70 [00:00<?, ?it/s]"
      ]
     },
     "metadata": {},
     "output_type": "display_data"
    },
    {
     "name": "stdout",
     "output_type": "stream",
     "text": [
      "{'loss': 0.0651, 'grad_norm': 55.97486114501953, 'learning_rate': 4.2857142857142856e-05, 'epoch': 0.29}\n",
      "{'loss': 0.0779, 'grad_norm': 0.00594830047339201, 'learning_rate': 3.571428571428572e-05, 'epoch': 0.57}\n",
      "{'loss': 0.1284, 'grad_norm': 0.0031827169004827738, 'learning_rate': 2.857142857142857e-05, 'epoch': 0.86}\n",
      "{'loss': 0.0414, 'grad_norm': 0.6342776417732239, 'learning_rate': 2.1428571428571428e-05, 'epoch': 1.14}\n",
      "{'loss': 0.0117, 'grad_norm': 14.657037734985352, 'learning_rate': 1.4285714285714285e-05, 'epoch': 1.43}\n",
      "{'loss': 0.1294, 'grad_norm': 0.01062250416725874, 'learning_rate': 7.142857142857143e-06, 'epoch': 1.71}\n",
      "{'loss': 0.0025, 'grad_norm': 0.005605084355920553, 'learning_rate': 0.0, 'epoch': 2.0}\n",
      "{'train_runtime': 35.4298, 'train_samples_per_second': 15.693, 'train_steps_per_second': 1.976, 'train_loss': 0.06518567757947104, 'epoch': 2.0}\n",
      "Test Accuracy after training for 2 epoch(s): 0.8429\n",
      "\n",
      "Training for 3 epoch(s)...\n"
     ]
    },
    {
     "data": {
      "application/vnd.jupyter.widget-view+json": {
       "model_id": "236c67456b294d7a8145a5dc6c051857",
       "version_major": 2,
       "version_minor": 0
      },
      "text/plain": [
       "  0%|          | 0/105 [00:00<?, ?it/s]"
      ]
     },
     "metadata": {},
     "output_type": "display_data"
    },
    {
     "name": "stdout",
     "output_type": "stream",
     "text": [
      "{'loss': 0.0006, 'grad_norm': 0.024675415828824043, 'learning_rate': 4.523809523809524e-05, 'epoch': 0.29}\n",
      "{'loss': 0.0186, 'grad_norm': 0.0009520270978100598, 'learning_rate': 4.047619047619048e-05, 'epoch': 0.57}\n",
      "{'loss': 0.002, 'grad_norm': 1.133359432220459, 'learning_rate': 3.571428571428572e-05, 'epoch': 0.86}\n",
      "{'loss': 0.0181, 'grad_norm': 35.404998779296875, 'learning_rate': 3.095238095238095e-05, 'epoch': 1.14}\n",
      "{'loss': 0.2581, 'grad_norm': 24.26204490661621, 'learning_rate': 2.6190476190476192e-05, 'epoch': 1.43}\n",
      "{'loss': 0.071, 'grad_norm': 0.0006763080018572509, 'learning_rate': 2.1428571428571428e-05, 'epoch': 1.71}\n",
      "{'loss': 0.0561, 'grad_norm': 0.0026681963354349136, 'learning_rate': 1.6666666666666667e-05, 'epoch': 2.0}\n",
      "{'loss': 0.0121, 'grad_norm': 0.011632813140749931, 'learning_rate': 1.1904761904761905e-05, 'epoch': 2.29}\n",
      "{'loss': 0.0004, 'grad_norm': 0.003909499384462833, 'learning_rate': 7.142857142857143e-06, 'epoch': 2.57}\n",
      "{'loss': 0.0001, 'grad_norm': 0.007024399004876614, 'learning_rate': 2.3809523809523808e-06, 'epoch': 2.86}\n",
      "{'train_runtime': 52.6526, 'train_samples_per_second': 15.84, 'train_steps_per_second': 1.994, 'train_loss': 0.04161839590358016, 'epoch': 3.0}\n",
      "Test Accuracy after training for 3 epoch(s): 0.8286\n",
      "\n",
      "Training for 4 epoch(s)...\n"
     ]
    },
    {
     "data": {
      "application/vnd.jupyter.widget-view+json": {
       "model_id": "88e8cf42bddc4521a1b04063f282d4ac",
       "version_major": 2,
       "version_minor": 0
      },
      "text/plain": [
       "  0%|          | 0/140 [00:00<?, ?it/s]"
      ]
     },
     "metadata": {},
     "output_type": "display_data"
    },
    {
     "name": "stdout",
     "output_type": "stream",
     "text": [
      "{'loss': 0.0001, 'grad_norm': 0.001383423455990851, 'learning_rate': 4.642857142857143e-05, 'epoch': 0.29}\n",
      "{'loss': 0.0002, 'grad_norm': 0.0006374146323651075, 'learning_rate': 4.2857142857142856e-05, 'epoch': 0.57}\n",
      "{'loss': 0.0002, 'grad_norm': 0.00046867268974892795, 'learning_rate': 3.928571428571429e-05, 'epoch': 0.86}\n",
      "{'loss': 0.0004, 'grad_norm': 0.00029488318250514567, 'learning_rate': 3.571428571428572e-05, 'epoch': 1.14}\n",
      "{'loss': 0.0001, 'grad_norm': 0.10666494816541672, 'learning_rate': 3.2142857142857144e-05, 'epoch': 1.43}\n",
      "{'loss': 0.0797, 'grad_norm': 0.016283927485346794, 'learning_rate': 2.857142857142857e-05, 'epoch': 1.71}\n",
      "{'loss': 0.0001, 'grad_norm': 0.011774781160056591, 'learning_rate': 2.5e-05, 'epoch': 2.0}\n",
      "{'loss': 0.0007, 'grad_norm': 0.01206905860453844, 'learning_rate': 2.1428571428571428e-05, 'epoch': 2.29}\n",
      "{'loss': 0.0001, 'grad_norm': 0.018093476071953773, 'learning_rate': 1.785714285714286e-05, 'epoch': 2.57}\n",
      "{'loss': 0.0004, 'grad_norm': 0.0011536317178979516, 'learning_rate': 1.4285714285714285e-05, 'epoch': 2.86}\n",
      "{'loss': 0.0, 'grad_norm': 0.015488993376493454, 'learning_rate': 1.0714285714285714e-05, 'epoch': 3.14}\n",
      "{'loss': 0.0255, 'grad_norm': 0.00039483807631768286, 'learning_rate': 7.142857142857143e-06, 'epoch': 3.43}\n",
      "{'loss': 0.0004, 'grad_norm': 0.00048421387327834964, 'learning_rate': 3.5714285714285714e-06, 'epoch': 3.71}\n",
      "{'loss': 0.0, 'grad_norm': 0.0005659611197188497, 'learning_rate': 0.0, 'epoch': 4.0}\n",
      "{'train_runtime': 71.7512, 'train_samples_per_second': 15.498, 'train_steps_per_second': 1.951, 'train_loss': 0.007711017038881047, 'epoch': 4.0}\n",
      "Test Accuracy after training for 4 epoch(s): 0.8143\n",
      "\n",
      "Training for 5 epoch(s)...\n"
     ]
    },
    {
     "data": {
      "application/vnd.jupyter.widget-view+json": {
       "model_id": "9144212244db44879ac4be43fd9d3924",
       "version_major": 2,
       "version_minor": 0
      },
      "text/plain": [
       "  0%|          | 0/175 [00:00<?, ?it/s]"
      ]
     },
     "metadata": {},
     "output_type": "display_data"
    },
    {
     "name": "stdout",
     "output_type": "stream",
     "text": [
      "{'loss': 0.0003, 'grad_norm': 0.0002907076559495181, 'learning_rate': 4.714285714285714e-05, 'epoch': 0.29}\n",
      "{'loss': 0.0003, 'grad_norm': 0.00020666232740040869, 'learning_rate': 4.428571428571428e-05, 'epoch': 0.57}\n",
      "{'loss': 0.2098, 'grad_norm': 0.003146644216030836, 'learning_rate': 4.1428571428571437e-05, 'epoch': 0.86}\n",
      "{'loss': 0.0794, 'grad_norm': 0.35038653016090393, 'learning_rate': 3.857142857142858e-05, 'epoch': 1.14}\n",
      "{'loss': 0.237, 'grad_norm': 0.8492893576622009, 'learning_rate': 3.571428571428572e-05, 'epoch': 1.43}\n",
      "{'loss': 0.0607, 'grad_norm': 40.387577056884766, 'learning_rate': 3.285714285714286e-05, 'epoch': 1.71}\n",
      "{'loss': 0.0557, 'grad_norm': 0.10104157775640488, 'learning_rate': 3e-05, 'epoch': 2.0}\n",
      "{'loss': 0.0775, 'grad_norm': 0.007288145367056131, 'learning_rate': 2.714285714285714e-05, 'epoch': 2.29}\n",
      "{'loss': 0.0093, 'grad_norm': 19.677143096923828, 'learning_rate': 2.4285714285714288e-05, 'epoch': 2.57}\n",
      "{'loss': 0.0025, 'grad_norm': 0.005521073006093502, 'learning_rate': 2.1428571428571428e-05, 'epoch': 2.86}\n",
      "{'loss': 0.0016, 'grad_norm': 2.0979881286621094, 'learning_rate': 1.8571428571428572e-05, 'epoch': 3.14}\n",
      "{'loss': 0.0003, 'grad_norm': 0.008390937000513077, 'learning_rate': 1.5714285714285715e-05, 'epoch': 3.43}\n",
      "{'loss': 0.0001, 'grad_norm': 0.0066209835931658745, 'learning_rate': 1.2857142857142857e-05, 'epoch': 3.71}\n",
      "{'loss': 0.0, 'grad_norm': 0.010017288848757744, 'learning_rate': 1e-05, 'epoch': 4.0}\n",
      "{'loss': 0.0, 'grad_norm': 0.0009066601633094251, 'learning_rate': 7.142857142857143e-06, 'epoch': 4.29}\n",
      "{'loss': 0.0009, 'grad_norm': 1.5547417402267456, 'learning_rate': 4.285714285714286e-06, 'epoch': 4.57}\n",
      "{'loss': 0.0007, 'grad_norm': 0.0015926860505715013, 'learning_rate': 1.4285714285714286e-06, 'epoch': 4.86}\n",
      "{'train_runtime': 87.631, 'train_samples_per_second': 15.862, 'train_steps_per_second': 1.997, 'train_loss': 0.04206966728371169, 'epoch': 5.0}\n",
      "Test Accuracy after training for 5 epoch(s): 0.8429\n",
      "\n",
      "Run 3/3\n",
      "\n",
      "Training for 1 epoch(s)...\n"
     ]
    },
    {
     "data": {
      "application/vnd.jupyter.widget-view+json": {
       "model_id": "343a2022b12a4fe3a2ca5d3d1210f9d1",
       "version_major": 2,
       "version_minor": 0
      },
      "text/plain": [
       "  0%|          | 0/35 [00:00<?, ?it/s]"
      ]
     },
     "metadata": {},
     "output_type": "display_data"
    },
    {
     "name": "stdout",
     "output_type": "stream",
     "text": [
      "{'loss': 0.0, 'grad_norm': 3.898846989613958e-05, 'learning_rate': 3.571428571428572e-05, 'epoch': 0.29}\n",
      "{'loss': 0.1302, 'grad_norm': 2.4590945031377487e-05, 'learning_rate': 2.1428571428571428e-05, 'epoch': 0.57}\n",
      "{'loss': 0.0293, 'grad_norm': 8.932725177146494e-05, 'learning_rate': 7.142857142857143e-06, 'epoch': 0.86}\n",
      "{'train_runtime': 17.7162, 'train_samples_per_second': 15.692, 'train_steps_per_second': 1.976, 'train_loss': 0.062326590493674824, 'epoch': 1.0}\n",
      "Test Accuracy after training for 1 epoch(s): 0.8143\n",
      "\n",
      "Training for 2 epoch(s)...\n"
     ]
    },
    {
     "data": {
      "application/vnd.jupyter.widget-view+json": {
       "model_id": "10adccc50a404481b949925ce75de83c",
       "version_major": 2,
       "version_minor": 0
      },
      "text/plain": [
       "  0%|          | 0/70 [00:00<?, ?it/s]"
      ]
     },
     "metadata": {},
     "output_type": "display_data"
    },
    {
     "name": "stdout",
     "output_type": "stream",
     "text": [
      "{'loss': 0.0003, 'grad_norm': 2.5122621082118712e-05, 'learning_rate': 4.2857142857142856e-05, 'epoch': 0.29}\n",
      "{'loss': 0.164, 'grad_norm': 0.15091410279273987, 'learning_rate': 3.571428571428572e-05, 'epoch': 0.57}\n",
      "{'loss': 0.1945, 'grad_norm': 0.00018003133300226182, 'learning_rate': 2.857142857142857e-05, 'epoch': 0.86}\n",
      "{'loss': 0.0823, 'grad_norm': 7.644577272003517e-05, 'learning_rate': 2.1428571428571428e-05, 'epoch': 1.14}\n",
      "{'loss': 0.0114, 'grad_norm': 35.302215576171875, 'learning_rate': 1.4285714285714285e-05, 'epoch': 1.43}\n",
      "{'loss': 0.0873, 'grad_norm': 0.5108574032783508, 'learning_rate': 7.142857142857143e-06, 'epoch': 1.71}\n",
      "{'loss': 0.0657, 'grad_norm': 8.099638944258913e-05, 'learning_rate': 0.0, 'epoch': 2.0}\n",
      "{'train_runtime': 35.3146, 'train_samples_per_second': 15.744, 'train_steps_per_second': 1.982, 'train_loss': 0.08648975047815059, 'epoch': 2.0}\n",
      "Test Accuracy after training for 2 epoch(s): 0.8143\n",
      "\n",
      "Training for 3 epoch(s)...\n"
     ]
    },
    {
     "data": {
      "application/vnd.jupyter.widget-view+json": {
       "model_id": "2a0f1438201e4cbba71cc603b4e33d99",
       "version_major": 2,
       "version_minor": 0
      },
      "text/plain": [
       "  0%|          | 0/105 [00:00<?, ?it/s]"
      ]
     },
     "metadata": {},
     "output_type": "display_data"
    },
    {
     "name": "stdout",
     "output_type": "stream",
     "text": [
      "{'loss': 0.0052, 'grad_norm': 0.001067570992745459, 'learning_rate': 4.523809523809524e-05, 'epoch': 0.29}\n",
      "{'loss': 0.0001, 'grad_norm': 0.0002446887083351612, 'learning_rate': 4.047619047619048e-05, 'epoch': 0.57}\n",
      "{'loss': 0.0, 'grad_norm': 0.00018670374993234873, 'learning_rate': 3.571428571428572e-05, 'epoch': 0.86}\n",
      "{'loss': 0.0, 'grad_norm': 0.0313526913523674, 'learning_rate': 3.095238095238095e-05, 'epoch': 1.14}\n",
      "{'loss': 0.0001, 'grad_norm': 0.049708351492881775, 'learning_rate': 2.6190476190476192e-05, 'epoch': 1.43}\n",
      "{'loss': 0.0, 'grad_norm': 0.0012953110272064805, 'learning_rate': 2.1428571428571428e-05, 'epoch': 1.71}\n",
      "{'loss': 0.0, 'grad_norm': 0.00010316803673049435, 'learning_rate': 1.6666666666666667e-05, 'epoch': 2.0}\n",
      "{'loss': 0.0, 'grad_norm': 0.0017769482219591737, 'learning_rate': 1.1904761904761905e-05, 'epoch': 2.29}\n",
      "{'loss': 0.0, 'grad_norm': 9.460236469749361e-05, 'learning_rate': 7.142857142857143e-06, 'epoch': 2.57}\n",
      "{'loss': 0.0, 'grad_norm': 0.0027865625452250242, 'learning_rate': 2.3809523809523808e-06, 'epoch': 2.86}\n",
      "{'train_runtime': 54.5176, 'train_samples_per_second': 15.298, 'train_steps_per_second': 1.926, 'train_loss': 0.0005287050526194868, 'epoch': 3.0}\n",
      "Test Accuracy after training for 3 epoch(s): 0.8286\n",
      "\n",
      "Training for 4 epoch(s)...\n"
     ]
    },
    {
     "data": {
      "application/vnd.jupyter.widget-view+json": {
       "model_id": "a2727d3d9d6844e18c1f5d60be316676",
       "version_major": 2,
       "version_minor": 0
      },
      "text/plain": [
       "  0%|          | 0/140 [00:00<?, ?it/s]"
      ]
     },
     "metadata": {},
     "output_type": "display_data"
    },
    {
     "name": "stdout",
     "output_type": "stream",
     "text": [
      "{'loss': 0.0, 'grad_norm': 0.00011413684114813805, 'learning_rate': 4.642857142857143e-05, 'epoch': 0.29}\n",
      "{'loss': 0.0, 'grad_norm': 9.753982885740697e-05, 'learning_rate': 4.2857142857142856e-05, 'epoch': 0.57}\n",
      "{'loss': 0.0, 'grad_norm': 9.529903763905168e-05, 'learning_rate': 3.928571428571429e-05, 'epoch': 0.86}\n",
      "{'loss': 0.0, 'grad_norm': 6.109768582973629e-05, 'learning_rate': 3.571428571428572e-05, 'epoch': 1.14}\n",
      "{'loss': 0.0, 'grad_norm': 0.0027038571424782276, 'learning_rate': 3.2142857142857144e-05, 'epoch': 1.43}\n",
      "{'loss': 0.0, 'grad_norm': 0.002158466260880232, 'learning_rate': 2.857142857142857e-05, 'epoch': 1.71}\n",
      "{'loss': 0.0, 'grad_norm': 0.00018690408614929765, 'learning_rate': 2.5e-05, 'epoch': 2.0}\n",
      "{'loss': 0.0, 'grad_norm': 0.00032395950984209776, 'learning_rate': 2.1428571428571428e-05, 'epoch': 2.29}\n",
      "{'loss': 0.0, 'grad_norm': 0.0006689006695523858, 'learning_rate': 1.785714285714286e-05, 'epoch': 2.57}\n",
      "{'loss': 0.0, 'grad_norm': 0.0039035282097756863, 'learning_rate': 1.4285714285714285e-05, 'epoch': 2.86}\n",
      "{'loss': 0.0, 'grad_norm': 0.00015131532563827932, 'learning_rate': 1.0714285714285714e-05, 'epoch': 3.14}\n",
      "{'loss': 0.0, 'grad_norm': 6.586106610484421e-05, 'learning_rate': 7.142857142857143e-06, 'epoch': 3.43}\n",
      "{'loss': 0.0, 'grad_norm': 0.0004114910261705518, 'learning_rate': 3.5714285714285714e-06, 'epoch': 3.71}\n",
      "{'loss': 0.0, 'grad_norm': 7.384911441477016e-05, 'learning_rate': 0.0, 'epoch': 4.0}\n",
      "{'train_runtime': 74.5943, 'train_samples_per_second': 14.907, 'train_steps_per_second': 1.877, 'train_loss': 7.734428462364511e-06, 'epoch': 4.0}\n",
      "Test Accuracy after training for 4 epoch(s): 0.8286\n",
      "\n",
      "Training for 5 epoch(s)...\n"
     ]
    },
    {
     "data": {
      "application/vnd.jupyter.widget-view+json": {
       "model_id": "8119a2ec55f142d59c66daa51184842e",
       "version_major": 2,
       "version_minor": 0
      },
      "text/plain": [
       "  0%|          | 0/175 [00:00<?, ?it/s]"
      ]
     },
     "metadata": {},
     "output_type": "display_data"
    },
    {
     "name": "stdout",
     "output_type": "stream",
     "text": [
      "{'loss': 0.0, 'grad_norm': 5.6179589591920376e-05, 'learning_rate': 4.714285714285714e-05, 'epoch': 0.29}\n",
      "{'loss': 0.0151, 'grad_norm': 0.00019481555500533432, 'learning_rate': 4.428571428571428e-05, 'epoch': 0.57}\n",
      "{'loss': 0.1832, 'grad_norm': 0.00017834494065027684, 'learning_rate': 4.1428571428571437e-05, 'epoch': 0.86}\n",
      "{'loss': 0.128, 'grad_norm': 0.03142617642879486, 'learning_rate': 3.857142857142858e-05, 'epoch': 1.14}\n",
      "{'loss': 0.2771, 'grad_norm': 8.815767288208008, 'learning_rate': 3.571428571428572e-05, 'epoch': 1.43}\n",
      "{'loss': 0.0987, 'grad_norm': 35.525474548339844, 'learning_rate': 3.285714285714286e-05, 'epoch': 1.71}\n",
      "{'loss': 0.1749, 'grad_norm': 55.20458984375, 'learning_rate': 3e-05, 'epoch': 2.0}\n",
      "{'loss': 0.1652, 'grad_norm': 0.028690040111541748, 'learning_rate': 2.714285714285714e-05, 'epoch': 2.29}\n",
      "{'loss': 0.237, 'grad_norm': 8.058327674865723, 'learning_rate': 2.4285714285714288e-05, 'epoch': 2.57}\n",
      "{'loss': 0.1519, 'grad_norm': 32.75044250488281, 'learning_rate': 2.1428571428571428e-05, 'epoch': 2.86}\n",
      "{'loss': 0.0032, 'grad_norm': 0.17506887018680573, 'learning_rate': 1.8571428571428572e-05, 'epoch': 3.14}\n",
      "{'loss': 0.1459, 'grad_norm': 49.01509094238281, 'learning_rate': 1.5714285714285715e-05, 'epoch': 3.43}\n",
      "{'loss': 0.0032, 'grad_norm': 0.0028765369206666946, 'learning_rate': 1.2857142857142857e-05, 'epoch': 3.71}\n",
      "{'loss': 0.0855, 'grad_norm': 0.04237106069922447, 'learning_rate': 1e-05, 'epoch': 4.0}\n",
      "{'loss': 0.0117, 'grad_norm': 0.004395493771880865, 'learning_rate': 7.142857142857143e-06, 'epoch': 4.29}\n",
      "{'loss': 0.0035, 'grad_norm': 4.069157600402832, 'learning_rate': 4.285714285714286e-06, 'epoch': 4.57}\n",
      "{'loss': 0.0006, 'grad_norm': 0.04913109168410301, 'learning_rate': 1.4285714285714286e-06, 'epoch': 4.86}\n",
      "{'train_runtime': 91.3331, 'train_samples_per_second': 15.219, 'train_steps_per_second': 1.916, 'train_loss': 0.0962700111816022, 'epoch': 5.0}\n",
      "Test Accuracy after training for 5 epoch(s): 0.8000\n"
     ]
    },
    {
     "data": {
      "image/png": "[encoded data removed]",
      "text/plain": [
       "<Figure size 1000x600 with 1 Axes>"
      ]
     },
     "metadata": {},
     "output_type": "display_data"
    },
    {
     "name": "stdout",
     "output_type": "stream",
     "text": [
      "Epoch 1: Mean Accuracy = 0.7619, Std Dev = 0.0741\n",
      "Epoch 2: Mean Accuracy = 0.8143, Std Dev = 0.0233\n",
      "Epoch 3: Mean Accuracy = 0.8333, Std Dev = 0.0067\n",
      "Epoch 4: Mean Accuracy = 0.8143, Std Dev = 0.0117\n",
      "Epoch 5: Mean Accuracy = 0.8095, Std Dev = 0.0243\n"
     ]
    }
   ],
   "source": [
    "from sklearn.metrics import accuracy_score\n",
    "from transformers import Trainer, TrainingArguments\n",
    "import numpy as np\n",
    "import torch\n",
    "from tqdm import tqdm\n",
    "\n",
    "\n",
    "def evaluate_on_test_set(model, test_dataset):\n",
    "    model.eval()\n",
    "    all_predictions = []\n",
    "    all_labels = []\n",
    "    dataloader = torch.utils.data.DataLoader(test_dataset, batch_size=8, shuffle=False)\n",
    "    with torch.no_grad():\n",
    "        for batch in dataloader:\n",
    "            input_ids = batch[\"input_ids\"].to(model.device)\n",
    "            attention_mask = batch[\"attention_mask\"].to(model.device)\n",
    "            labels = batch[\"labels\"].to(model.device)\n",
    "            outputs = model(input_ids=input_ids, attention_mask=attention_mask)\n",
    "            predictions = torch.argmax(outputs.logits, dim=-1)\n",
    "            all_predictions.extend(predictions.cpu().numpy())\n",
    "            all_labels.extend(labels.cpu().numpy())\n",
    "    accuracy = accuracy_score(all_labels, all_predictions)\n",
    "    return accuracy\n",
    "\n",
    "training_args = TrainingArguments(\n",
    "    output_dir=\"./results\",          \n",
    "    per_device_train_batch_size=8,   \n",
    "    weight_decay=0.01,              \n",
    "    logging_dir=\"./logs\",           \n",
    "    logging_steps=10,               \n",
    "    save_strategy=\"no\",        \n",
    "    seed=42,                  \n",
    ")\n",
    "\n",
    "num_runs = 3\n",
    "max_epochs = 5\n",
    "test_accuracies_all_runs = []\n",
    "\n",
    "for run in range(num_runs):\n",
    "    print(f\"\\nRun {run + 1}/{num_runs}\")\n",
    "    \n",
    "    torch.manual_seed(42)\n",
    "    \n",
    "    trainer = Trainer(\n",
    "        model=model,\n",
    "        args=training_args,\n",
    "        train_dataset=train_dataset,\n",
    "    )\n",
    "    \n",
    "    run_accuracies = []\n",
    "    for epochs in range(1, max_epochs + 1):\n",
    "        print(f\"\\nTraining for {epochs} epoch(s)...\")\n",
    "        \n",
    "        trainer.args.num_train_epochs = epochs\n",
    "        \n",
    "        trainer.train()\n",
    "        \n",
    "        test_accuracy = evaluate_on_test_set(model, test_dataset)\n",
    "        run_accuracies.append(test_accuracy)\n",
    "        print(f\"Test Accuracy after training for {epochs} epoch(s): {test_accuracy:.4f}\")\n",
    "    \n",
    "    test_accuracies_all_runs.append(run_accuracies)\n",
    "\n",
    "test_accuracies_all_runs = np.array(test_accuracies_all_runs)\n",
    "\n",
    "mean_accuracies = np.mean(test_accuracies_all_runs, axis=0)\n",
    "std_accuracies = np.std(test_accuracies_all_runs, axis=0)\n",
    "\n",
    "import matplotlib.pyplot as plt\n",
    "\n",
    "plt.figure(figsize=(10, 6))\n",
    "plt.errorbar(range(1, max_epochs + 1), mean_accuracies, yerr=std_accuracies, fmt='-o', capsize=5)\n",
    "plt.title(\"Test Accuracy Across Epochs and Runs\", fontsize=16)\n",
    "plt.xlabel(\"Epoch\", fontsize=14)\n",
    "plt.ylabel(\"Test Accuracy\", fontsize=14)\n",
    "plt.xticks(range(1, max_epochs + 1))  \n",
    "plt.grid(False)\n",
    "plt.show()\n",
    "\n",
    "\n",
    "for epoch in range(1, max_epochs + 1):\n",
    "    print(f\"Epoch {epoch}: Mean Accuracy = {mean_accuracies[epoch-1]:.4f}, Std Dev = {std_accuracies[epoch-1]:.4f}\")\n"
   ]
  },
  {
   "cell_type": "markdown",
   "metadata": {},
   "source": [
    "# Some plotting"
   ]
  },
  {
   "cell_type": "code",
   "execution_count": 19,
   "metadata": {},
   "outputs": [
    {
     "data": {
      "image/png": "[encoded data removed]",
      "text/plain": [
       "<Figure size 600x600 with 1 Axes>"
      ]
     },
     "metadata": {},
     "output_type": "display_data"
    }
   ],
   "source": [
    "import matplotlib.pyplot as plt\n",
    "\n",
    "from sklearn.metrics import confusion_matrix, classification_report, roc_auc_score, roc_curve, precision_recall_curve\n",
    "cm = confusion_matrix(true_labels, pred_labels)\n",
    "\n",
    "plt.figure(figsize=(6, 6))\n",
    "plt.matshow(cm, cmap='Blues', fignum=1)\n",
    "\n",
    "plt.title('Confusion Matrix', pad=20)\n",
    "plt.xlabel('Predicted Labels')\n",
    "plt.ylabel('True Labels')\n",
    "\n",
    "for i in range(2):\n",
    "    for j in range(2):\n",
    "        plt.text(j, i, f'{cm[i, j]:d}', ha='center', va='center', color='black', fontsize=12)\n",
    "\n",
    "plt.xticks([0, 1], ['0', '1'], fontsize=12)\n",
    "plt.yticks([0, 1], ['0', '1'], fontsize=12)\n",
    "\n",
    "plt.show()\n"
   ]
  },
  {
   "cell_type": "code",
   "execution_count": 25,
   "metadata": {},
   "outputs": [],
   "source": [
    "from transformers import Trainer, TrainingArguments\n",
    "import numpy as np\n",
    "\n",
    "def train_and_log_accuracy(model, train_dataset, val_dataset, epoch_accuracies):\n",
    "    training_args = TrainingArguments(\n",
    "        output_dir=\"./results\",\n",
    "        evaluation_strategy=\"epoch\",\n",
    "        per_device_train_batch_size=8,\n",
    "        per_device_eval_batch_size=8,\n",
    "        num_train_epochs=3,\n",
    "        weight_decay=0.01,\n",
    "        logging_dir=\"./logs\",\n",
    "    )\n",
    "\n",
    "    trainer = Trainer(\n",
    "        model=model,\n",
    "        args=training_args,\n",
    "        train_dataset=train_dataset,\n",
    "        eval_dataset=val_dataset,\n",
    "        compute_metrics=lambda p: {\"accuracy\": accuracy_score(np.argmax(p.predictions, axis=1), p.label_ids)}\n",
    "    )\n",
    "\n",
    "    trainer.train()\n",
    "\n",
    "    for log in trainer.state.log_history:\n",
    "        if \"eval_accuracy\" in log:\n",
    "            epoch_accuracies.append(log[\"eval_accuracy\"])\n"
   ]
  },
  {
   "cell_type": "code",
   "execution_count": 27,
   "metadata": {},
   "outputs": [
    {
     "name": "stderr",
     "output_type": "stream",
     "text": [
      "Some weights of RobertaForSequenceClassification were not initialized from the model checkpoint at seyonec/ChemBERTa_zinc250k_v2_40k and are newly initialized: ['classifier.dense.bias', 'classifier.dense.weight', 'classifier.out_proj.bias', 'classifier.out_proj.weight']\n",
      "You should probably TRAIN this model on a down-stream task to be able to use it for predictions and inference.\n"
     ]
    },
    {
     "data": {
      "application/vnd.jupyter.widget-view+json": {
       "model_id": "816d973d05594867a0fa0418f827aeba",
       "version_major": 2,
       "version_minor": 0
      },
      "text/plain": [
       "  0%|          | 0/105 [00:00<?, ?it/s]"
      ]
     },
     "metadata": {},
     "output_type": "display_data"
    },
    {
     "data": {
      "application/vnd.jupyter.widget-view+json": {
       "model_id": "ecdc42b799af45468dab092915753e67",
       "version_major": 2,
       "version_minor": 0
      },
      "text/plain": [
       "  0%|          | 0/9 [00:00<?, ?it/s]"
      ]
     },
     "metadata": {},
     "output_type": "display_data"
    },
    {
     "name": "stdout",
     "output_type": "stream",
     "text": [
      "{'eval_loss': 0.8474411964416504, 'eval_accuracy': 0.5571428571428572, 'eval_runtime': 1.3228, 'eval_samples_per_second': 52.92, 'eval_steps_per_second': 6.804, 'epoch': 1.0}\n"
     ]
    },
    {
     "data": {
      "application/vnd.jupyter.widget-view+json": {
       "model_id": "42ce838b9bc346be8352fa6fafa23c37",
       "version_major": 2,
       "version_minor": 0
      },
      "text/plain": [
       "  0%|          | 0/9 [00:00<?, ?it/s]"
      ]
     },
     "metadata": {},
     "output_type": "display_data"
    },
    {
     "name": "stdout",
     "output_type": "stream",
     "text": [
      "{'eval_loss': 0.6662707328796387, 'eval_accuracy': 0.7571428571428571, 'eval_runtime': 1.1166, 'eval_samples_per_second': 62.69, 'eval_steps_per_second': 8.06, 'epoch': 2.0}\n"
     ]
    },
    {
     "data": {
      "application/vnd.jupyter.widget-view+json": {
       "model_id": "e383bfa430754d72a3083eb3bba05e2c",
       "version_major": 2,
       "version_minor": 0
      },
      "text/plain": [
       "  0%|          | 0/9 [00:00<?, ?it/s]"
      ]
     },
     "metadata": {},
     "output_type": "display_data"
    },
    {
     "name": "stdout",
     "output_type": "stream",
     "text": [
      "{'eval_loss': 0.624592125415802, 'eval_accuracy': 0.7428571428571429, 'eval_runtime': 0.7979, 'eval_samples_per_second': 87.727, 'eval_steps_per_second': 11.279, 'epoch': 3.0}\n",
      "{'train_runtime': 60.3774, 'train_samples_per_second': 13.813, 'train_steps_per_second': 1.739, 'train_loss': 0.5433978126162574, 'epoch': 3.0}\n"
     ]
    },
    {
     "name": "stderr",
     "output_type": "stream",
     "text": [
      "Some weights of RobertaForSequenceClassification were not initialized from the model checkpoint at seyonec/ChemBERTa_zinc250k_v2_40k and are newly initialized: ['classifier.dense.bias', 'classifier.dense.weight', 'classifier.out_proj.bias', 'classifier.out_proj.weight']\n",
      "You should probably TRAIN this model on a down-stream task to be able to use it for predictions and inference.\n",
      "/Users/davidsegura/miniconda3/envs/env_cage/lib/python3.9/site-packages/transformers/training_args.py:1568: FutureWarning: `evaluation_strategy` is deprecated and will be removed in version 4.46 of 🤗 Transformers. Use `eval_strategy` instead\n",
      "  warnings.warn(\n"
     ]
    },
    {
     "data": {
      "application/vnd.jupyter.widget-view+json": {
       "model_id": "14fd8d6859e94e768dbd91669c77121c",
       "version_major": 2,
       "version_minor": 0
      },
      "text/plain": [
       "  0%|          | 0/105 [00:00<?, ?it/s]"
      ]
     },
     "metadata": {},
     "output_type": "display_data"
    },
    {
     "data": {
      "application/vnd.jupyter.widget-view+json": {
       "model_id": "c1d4f59ca91b4130beb5f1dfbdd2a8db",
       "version_major": 2,
       "version_minor": 0
      },
      "text/plain": [
       "  0%|          | 0/9 [00:00<?, ?it/s]"
      ]
     },
     "metadata": {},
     "output_type": "display_data"
    },
    {
     "name": "stdout",
     "output_type": "stream",
     "text": [
      "{'eval_loss': 0.6507176160812378, 'eval_accuracy': 0.7142857142857143, 'eval_runtime': 1.2457, 'eval_samples_per_second': 56.191, 'eval_steps_per_second': 7.225, 'epoch': 1.0}\n"
     ]
    },
    {
     "data": {
      "application/vnd.jupyter.widget-view+json": {
       "model_id": "50dfe8679be14fac8b0c5d8aae1d590c",
       "version_major": 2,
       "version_minor": 0
      },
      "text/plain": [
       "  0%|          | 0/9 [00:00<?, ?it/s]"
      ]
     },
     "metadata": {},
     "output_type": "display_data"
    },
    {
     "name": "stdout",
     "output_type": "stream",
     "text": [
      "{'eval_loss': 0.6079772114753723, 'eval_accuracy': 0.7428571428571429, 'eval_runtime': 1.236, 'eval_samples_per_second': 56.636, 'eval_steps_per_second': 7.282, 'epoch': 2.0}\n"
     ]
    },
    {
     "data": {
      "application/vnd.jupyter.widget-view+json": {
       "model_id": "17adb1397b3b4fccac3dc808d62d8746",
       "version_major": 2,
       "version_minor": 0
      },
      "text/plain": [
       "  0%|          | 0/9 [00:00<?, ?it/s]"
      ]
     },
     "metadata": {},
     "output_type": "display_data"
    },
    {
     "name": "stdout",
     "output_type": "stream",
     "text": [
      "{'eval_loss': 0.6051726341247559, 'eval_accuracy': 0.8428571428571429, 'eval_runtime': 0.9181, 'eval_samples_per_second': 76.245, 'eval_steps_per_second': 9.803, 'epoch': 3.0}\n",
      "{'train_runtime': 58.2533, 'train_samples_per_second': 14.317, 'train_steps_per_second': 1.802, 'train_loss': 0.49925122942243305, 'epoch': 3.0}\n"
     ]
    },
    {
     "name": "stderr",
     "output_type": "stream",
     "text": [
      "Some weights of RobertaForSequenceClassification were not initialized from the model checkpoint at seyonec/ChemBERTa_zinc250k_v2_40k and are newly initialized: ['classifier.dense.bias', 'classifier.dense.weight', 'classifier.out_proj.bias', 'classifier.out_proj.weight']\n",
      "You should probably TRAIN this model on a down-stream task to be able to use it for predictions and inference.\n",
      "/Users/davidsegura/miniconda3/envs/env_cage/lib/python3.9/site-packages/transformers/training_args.py:1568: FutureWarning: `evaluation_strategy` is deprecated and will be removed in version 4.46 of 🤗 Transformers. Use `eval_strategy` instead\n",
      "  warnings.warn(\n"
     ]
    },
    {
     "data": {
      "application/vnd.jupyter.widget-view+json": {
       "model_id": "59e77ae3cd184c28917758b4d79ec2f2",
       "version_major": 2,
       "version_minor": 0
      },
      "text/plain": [
       "  0%|          | 0/105 [00:00<?, ?it/s]"
      ]
     },
     "metadata": {},
     "output_type": "display_data"
    },
    {
     "data": {
      "application/vnd.jupyter.widget-view+json": {
       "model_id": "3b62bf36609142a097bd133548cafea3",
       "version_major": 2,
       "version_minor": 0
      },
      "text/plain": [
       "  0%|          | 0/9 [00:00<?, ?it/s]"
      ]
     },
     "metadata": {},
     "output_type": "display_data"
    },
    {
     "name": "stdout",
     "output_type": "stream",
     "text": [
      "{'eval_loss': 0.6507176756858826, 'eval_accuracy': 0.7142857142857143, 'eval_runtime': 1.2625, 'eval_samples_per_second': 55.444, 'eval_steps_per_second': 7.129, 'epoch': 1.0}\n"
     ]
    },
    {
     "data": {
      "application/vnd.jupyter.widget-view+json": {
       "model_id": "fb131281025943929c1a0063a0a3266e",
       "version_major": 2,
       "version_minor": 0
      },
      "text/plain": [
       "  0%|          | 0/9 [00:00<?, ?it/s]"
      ]
     },
     "metadata": {},
     "output_type": "display_data"
    },
    {
     "name": "stdout",
     "output_type": "stream",
     "text": [
      "{'eval_loss': 0.6079772114753723, 'eval_accuracy': 0.7428571428571429, 'eval_runtime': 1.2227, 'eval_samples_per_second': 57.25, 'eval_steps_per_second': 7.361, 'epoch': 2.0}\n"
     ]
    },
    {
     "data": {
      "application/vnd.jupyter.widget-view+json": {
       "model_id": "39e5277248bb43c5b58d2cbf3ea8d473",
       "version_major": 2,
       "version_minor": 0
      },
      "text/plain": [
       "  0%|          | 0/9 [00:00<?, ?it/s]"
      ]
     },
     "metadata": {},
     "output_type": "display_data"
    },
    {
     "name": "stdout",
     "output_type": "stream",
     "text": [
      "{'eval_loss': 0.6051725745201111, 'eval_accuracy': 0.8428571428571429, 'eval_runtime': 0.9378, 'eval_samples_per_second': 74.64, 'eval_steps_per_second': 9.597, 'epoch': 3.0}\n",
      "{'train_runtime': 59.2423, 'train_samples_per_second': 14.078, 'train_steps_per_second': 1.772, 'train_loss': 0.4992512657528832, 'epoch': 3.0}\n"
     ]
    }
   ],
   "source": [
    "import torch\n",
    "from copy import deepcopy\n",
    "\n",
    "num_experiments = 3\n",
    "num_epochs = 3\n",
    "all_accuracies = []\n",
    "\n",
    "for _ in range(num_experiments):\n",
    "\n",
    "    model = AutoModelForSequenceClassification.from_pretrained(\"seyonec/ChemBERTa_zinc250k_v2_40k\", num_labels=2)\n",
    "    \n",
    "    epoch_accuracies = []\n",
    "    \n",
    "    train_and_log_accuracy(deepcopy(model), train_dataset, val_dataset, epoch_accuracies)\n",
    "    \n",
    "    all_accuracies.append(epoch_accuracies)\n"
   ]
  },
  {
   "cell_type": "code",
   "execution_count": 28,
   "metadata": {},
   "outputs": [],
   "source": [
    "all_accuracies = np.array(all_accuracies)\n",
    "\n",
    "mean_accuracies = np.mean(all_accuracies, axis=0)\n",
    "std_accuracies = np.std(all_accuracies, axis=0)\n"
   ]
  },
  {
   "cell_type": "code",
   "execution_count": 29,
   "metadata": {},
   "outputs": [
    {
     "ename": "TypeError",
     "evalue": "object of type 'int' has no len()",
     "output_type": "error",
     "traceback": [
      "\u001b[0;31m---------------------------------------------------------------------------\u001b[0m",
      "\u001b[0;31mTypeError\u001b[0m                                 Traceback (most recent call last)",
      "Cell \u001b[0;32mIn[29], line 1\u001b[0m\n\u001b[0;32m----> 1\u001b[0m \u001b[38;5;28mprint\u001b[39m(\u001b[38;5;124mf\u001b[39m\u001b[38;5;124m\"\u001b[39m\u001b[38;5;124mEpochs length: \u001b[39m\u001b[38;5;132;01m{\u001b[39;00m\u001b[38;5;28mlen\u001b[39m(epochs)\u001b[38;5;132;01m}\u001b[39;00m\u001b[38;5;124m\"\u001b[39m)\n\u001b[1;32m      2\u001b[0m \u001b[38;5;28mprint\u001b[39m(\u001b[38;5;124mf\u001b[39m\u001b[38;5;124m\"\u001b[39m\u001b[38;5;124mMean Accuracies length: \u001b[39m\u001b[38;5;132;01m{\u001b[39;00m\u001b[38;5;28mlen\u001b[39m(mean_accuracies)\u001b[38;5;132;01m}\u001b[39;00m\u001b[38;5;124m\"\u001b[39m)\n\u001b[1;32m      3\u001b[0m \u001b[38;5;28mprint\u001b[39m(\u001b[38;5;124mf\u001b[39m\u001b[38;5;124m\"\u001b[39m\u001b[38;5;124mStandard Deviations length: \u001b[39m\u001b[38;5;132;01m{\u001b[39;00m\u001b[38;5;28mlen\u001b[39m(std_accuracies)\u001b[38;5;132;01m}\u001b[39;00m\u001b[38;5;124m\"\u001b[39m)\n",
      "\u001b[0;31mTypeError\u001b[0m: object of type 'int' has no len()"
     ]
    }
   ],
   "source": [
    "print(f\"Epochs length: {len(epochs)}\")\n",
    "print(f\"Mean Accuracies length: {len(mean_accuracies)}\")\n",
    "print(f\"Standard Deviations length: {len(std_accuracies)}\")\n"
   ]
  },
  {
   "cell_type": "code",
   "execution_count": 30,
   "metadata": {},
   "outputs": [
    {
     "data": {
      "image/png": "[encoded data removed]",
      "text/plain": [
       "<Figure size 640x480 with 1 Axes>"
      ]
     },
     "metadata": {},
     "output_type": "display_data"
    }
   ],
   "source": [
    "import matplotlib.pyplot as plt\n",
    "\n",
    "epochs = np.arange(1, num_epochs + 1)\n",
    "\n",
    "plt.errorbar(epochs, mean_accuracies, yerr=std_accuracies, fmt=\"-o\", capsize=5, label=\"Accuracy\")\n",
    "\n",
    "plt.xlabel(\"Epoch\")\n",
    "plt.ylabel(\"Accuracy\")\n",
    "plt.title(\"Accuracy Evolution Across Epochs\")\n",
    "plt.xticks(epochs)  \n",
    "plt.legend()\n",
    "\n",
    "plt.grid(False)  \n",
    "plt.show()\n"
   ]
  },
  {
   "cell_type": "markdown",
   "metadata": {},
   "source": [
    "### Where is the attention graph"
   ]
  },
  {
   "cell_type": "code",
   "execution_count": 28,
   "metadata": {},
   "outputs": [
    {
     "name": "stderr",
     "output_type": "stream",
     "text": [
      "Some weights of RobertaForSequenceClassification were not initialized from the model checkpoint at seyonec/ChemBERTa_zinc250k_v2_40k and are newly initialized: ['classifier.dense.bias', 'classifier.dense.weight', 'classifier.out_proj.bias', 'classifier.out_proj.weight']\n",
      "You should probably TRAIN this model on a down-stream task to be able to use it for predictions and inference.\n",
      "/Users/davidsegura/miniconda3/envs/env_cage/lib/python3.9/site-packages/transformers/training_args.py:1568: FutureWarning: `evaluation_strategy` is deprecated and will be removed in version 4.46 of 🤗 Transformers. Use `eval_strategy` instead\n",
      "  warnings.warn(\n"
     ]
    },
    {
     "data": {
      "application/vnd.jupyter.widget-view+json": {
       "model_id": "062d856bd4f049ac9a1491422ef06b0d",
       "version_major": 2,
       "version_minor": 0
      },
      "text/plain": [
       "  0%|          | 0/105 [00:00<?, ?it/s]"
      ]
     },
     "metadata": {},
     "output_type": "display_data"
    },
    {
     "data": {
      "application/vnd.jupyter.widget-view+json": {
       "model_id": "7f7f8b924dbe4f3187485f62cc5d3ed3",
       "version_major": 2,
       "version_minor": 0
      },
      "text/plain": [
       "  0%|          | 0/9 [00:00<?, ?it/s]"
      ]
     },
     "metadata": {},
     "output_type": "display_data"
    },
    {
     "name": "stdout",
     "output_type": "stream",
     "text": [
      "{'eval_loss': 0.6507174372673035, 'eval_accuracy': 0.7142857142857143, 'eval_runtime': 1.5106, 'eval_samples_per_second': 46.339, 'eval_steps_per_second': 5.958, 'epoch': 1.0}\n"
     ]
    },
    {
     "data": {
      "application/vnd.jupyter.widget-view+json": {
       "model_id": "fb9f44978596400387e5b33cc135fcd1",
       "version_major": 2,
       "version_minor": 0
      },
      "text/plain": [
       "  0%|          | 0/9 [00:00<?, ?it/s]"
      ]
     },
     "metadata": {},
     "output_type": "display_data"
    },
    {
     "name": "stdout",
     "output_type": "stream",
     "text": [
      "{'eval_loss': 0.6079772114753723, 'eval_accuracy': 0.7428571428571429, 'eval_runtime': 1.4091, 'eval_samples_per_second': 49.678, 'eval_steps_per_second': 6.387, 'epoch': 2.0}\n"
     ]
    },
    {
     "data": {
      "application/vnd.jupyter.widget-view+json": {
       "model_id": "251cff5258a94cb1b734c23f98649536",
       "version_major": 2,
       "version_minor": 0
      },
      "text/plain": [
       "  0%|          | 0/9 [00:00<?, ?it/s]"
      ]
     },
     "metadata": {},
     "output_type": "display_data"
    },
    {
     "name": "stdout",
     "output_type": "stream",
     "text": [
      "{'eval_loss': 0.6051726341247559, 'eval_accuracy': 0.8428571428571429, 'eval_runtime': 0.7188, 'eval_samples_per_second': 97.386, 'eval_steps_per_second': 12.521, 'epoch': 3.0}\n",
      "{'train_runtime': 63.5583, 'train_samples_per_second': 13.122, 'train_steps_per_second': 1.652, 'train_loss': 0.49925122942243305, 'epoch': 3.0}\n",
      "New best model found in experiment 0 with accuracy: 0.8428571428571429\n"
     ]
    },
    {
     "name": "stderr",
     "output_type": "stream",
     "text": [
      "Some weights of RobertaForSequenceClassification were not initialized from the model checkpoint at seyonec/ChemBERTa_zinc250k_v2_40k and are newly initialized: ['classifier.dense.bias', 'classifier.dense.weight', 'classifier.out_proj.bias', 'classifier.out_proj.weight']\n",
      "You should probably TRAIN this model on a down-stream task to be able to use it for predictions and inference.\n",
      "/Users/davidsegura/miniconda3/envs/env_cage/lib/python3.9/site-packages/transformers/training_args.py:1568: FutureWarning: `evaluation_strategy` is deprecated and will be removed in version 4.46 of 🤗 Transformers. Use `eval_strategy` instead\n",
      "  warnings.warn(\n"
     ]
    },
    {
     "data": {
      "application/vnd.jupyter.widget-view+json": {
       "model_id": "f91be67dcb4b4b178ea41ee13ea72f87",
       "version_major": 2,
       "version_minor": 0
      },
      "text/plain": [
       "  0%|          | 0/105 [00:00<?, ?it/s]"
      ]
     },
     "metadata": {},
     "output_type": "display_data"
    },
    {
     "data": {
      "application/vnd.jupyter.widget-view+json": {
       "model_id": "24d9cab9a35840fe8994c6191de5c303",
       "version_major": 2,
       "version_minor": 0
      },
      "text/plain": [
       "  0%|          | 0/9 [00:00<?, ?it/s]"
      ]
     },
     "metadata": {},
     "output_type": "display_data"
    },
    {
     "name": "stdout",
     "output_type": "stream",
     "text": [
      "{'eval_loss': 0.6507178544998169, 'eval_accuracy': 0.7142857142857143, 'eval_runtime': 1.1131, 'eval_samples_per_second': 62.89, 'eval_steps_per_second': 8.086, 'epoch': 1.0}\n"
     ]
    },
    {
     "data": {
      "application/vnd.jupyter.widget-view+json": {
       "model_id": "88633e3769fb4ed0a98f48ac7e69d6ae",
       "version_major": 2,
       "version_minor": 0
      },
      "text/plain": [
       "  0%|          | 0/9 [00:00<?, ?it/s]"
      ]
     },
     "metadata": {},
     "output_type": "display_data"
    },
    {
     "name": "stdout",
     "output_type": "stream",
     "text": [
      "{'eval_loss': 0.6079772114753723, 'eval_accuracy': 0.7428571428571429, 'eval_runtime': 1.0277, 'eval_samples_per_second': 68.113, 'eval_steps_per_second': 8.757, 'epoch': 2.0}\n"
     ]
    },
    {
     "data": {
      "application/vnd.jupyter.widget-view+json": {
       "model_id": "fd5ff67e09a74b7cad55777694b003af",
       "version_major": 2,
       "version_minor": 0
      },
      "text/plain": [
       "  0%|          | 0/9 [00:00<?, ?it/s]"
      ]
     },
     "metadata": {},
     "output_type": "display_data"
    },
    {
     "name": "stdout",
     "output_type": "stream",
     "text": [
      "{'eval_loss': 0.6051725149154663, 'eval_accuracy': 0.8428571428571429, 'eval_runtime': 0.8648, 'eval_samples_per_second': 80.943, 'eval_steps_per_second': 10.407, 'epoch': 3.0}\n",
      "{'train_runtime': 58.0208, 'train_samples_per_second': 14.374, 'train_steps_per_second': 1.81, 'train_loss': 0.4992512657528832, 'epoch': 3.0}\n"
     ]
    },
    {
     "name": "stderr",
     "output_type": "stream",
     "text": [
      "Some weights of RobertaForSequenceClassification were not initialized from the model checkpoint at seyonec/ChemBERTa_zinc250k_v2_40k and are newly initialized: ['classifier.dense.bias', 'classifier.dense.weight', 'classifier.out_proj.bias', 'classifier.out_proj.weight']\n",
      "You should probably TRAIN this model on a down-stream task to be able to use it for predictions and inference.\n",
      "/Users/davidsegura/miniconda3/envs/env_cage/lib/python3.9/site-packages/transformers/training_args.py:1568: FutureWarning: `evaluation_strategy` is deprecated and will be removed in version 4.46 of 🤗 Transformers. Use `eval_strategy` instead\n",
      "  warnings.warn(\n"
     ]
    },
    {
     "data": {
      "application/vnd.jupyter.widget-view+json": {
       "model_id": "5cbb17e5094f4484b5757bab3ebc1616",
       "version_major": 2,
       "version_minor": 0
      },
      "text/plain": [
       "  0%|          | 0/105 [00:00<?, ?it/s]"
      ]
     },
     "metadata": {},
     "output_type": "display_data"
    },
    {
     "data": {
      "application/vnd.jupyter.widget-view+json": {
       "model_id": "8660cf14cbaf497789ed6d088c007c39",
       "version_major": 2,
       "version_minor": 0
      },
      "text/plain": [
       "  0%|          | 0/9 [00:00<?, ?it/s]"
      ]
     },
     "metadata": {},
     "output_type": "display_data"
    },
    {
     "name": "stdout",
     "output_type": "stream",
     "text": [
      "{'eval_loss': 0.6507176160812378, 'eval_accuracy': 0.7142857142857143, 'eval_runtime': 1.1239, 'eval_samples_per_second': 62.281, 'eval_steps_per_second': 8.008, 'epoch': 1.0}\n"
     ]
    },
    {
     "data": {
      "application/vnd.jupyter.widget-view+json": {
       "model_id": "3636bb07f4ce43c384aef22579841d23",
       "version_major": 2,
       "version_minor": 0
      },
      "text/plain": [
       "  0%|          | 0/9 [00:00<?, ?it/s]"
      ]
     },
     "metadata": {},
     "output_type": "display_data"
    },
    {
     "name": "stdout",
     "output_type": "stream",
     "text": [
      "{'eval_loss': 0.6079772114753723, 'eval_accuracy': 0.7428571428571429, 'eval_runtime': 1.0632, 'eval_samples_per_second': 65.84, 'eval_steps_per_second': 8.465, 'epoch': 2.0}\n"
     ]
    },
    {
     "data": {
      "application/vnd.jupyter.widget-view+json": {
       "model_id": "a0096bd5131340b2b3042ce1e1b53b9d",
       "version_major": 2,
       "version_minor": 0
      },
      "text/plain": [
       "  0%|          | 0/9 [00:00<?, ?it/s]"
      ]
     },
     "metadata": {},
     "output_type": "display_data"
    },
    {
     "name": "stdout",
     "output_type": "stream",
     "text": [
      "{'eval_loss': 0.6051725745201111, 'eval_accuracy': 0.8428571428571429, 'eval_runtime': 0.6718, 'eval_samples_per_second': 104.192, 'eval_steps_per_second': 13.396, 'epoch': 3.0}\n",
      "{'train_runtime': 60.7162, 'train_samples_per_second': 13.736, 'train_steps_per_second': 1.729, 'train_loss': 0.4992511930919829, 'epoch': 3.0}\n",
      "Best model saved to /Users/davidsegura/git/Leveraging_LLMs_causality/cage_SAD_llm/models with accuracy: 0.8428571428571429\n"
     ]
    }
   ],
   "source": [
    "import torch\n",
    "from copy import deepcopy\n",
    "from transformers import AutoModelForSequenceClassification\n",
    "\n",
    "num_experiments = 3\n",
    "num_epochs = 3\n",
    "all_accuracies = []\n",
    "\n",
    "best_model = None\n",
    "best_accuracy = float(\"-inf\") \n",
    "\n",
    "for experiment_idx in range(num_experiments):\n",
    "\n",
    "    model = AutoModelForSequenceClassification.from_pretrained(\"seyonec/ChemBERTa_zinc250k_v2_40k\", num_labels=2)\n",
    "    \n",
    "    epoch_accuracies = []\n",
    "    \n",
    "    train_and_log_accuracy(deepcopy(model), train_dataset, val_dataset, epoch_accuracies)\n",
    "    \n",
    "    all_accuracies.append(epoch_accuracies)\n",
    "    \n",
    "    final_accuracy = epoch_accuracies[-1]\n",
    "    \n",
    "    if final_accuracy > best_accuracy:\n",
    "        best_model = deepcopy(model)  \n",
    "        best_accuracy = final_accuracy\n",
    "        print(f\"New best model found in experiment {experiment_idx} with accuracy: {best_accuracy}\")\n",
    "\n",
    "if best_model is not None:\n",
    "    save_path = \"/Users/davidsegura/git/Leveraging_LLMs_causality/cage_SAD_llm/models\"  \n",
    "    best_model.save_pretrained(save_path)\n",
    "    print(f\"Best model saved to {save_path} with accuracy: {best_accuracy}\")\n"
   ]
  },
  {
   "cell_type": "code",
   "execution_count": 80,
   "metadata": {},
   "outputs": [
    {
     "data": {
      "text/html": [
       "<div style='font-family: monospace; font-size: 16px; line-height: 1.6;'><span style='background-color: #e32f27; padding:2px; border-radius: 3px; margin: 1px;'>NCC</span> <span style='background-color: #67000d; padding:2px; border-radius: 3px; margin: 1px;'>(</span> <span style='background-color: #fb7a5a; padding:2px; border-radius: 3px; margin: 1px;'>CN</span> <span style='background-color: #de2b25; padding:2px; border-radius: 3px; margin: 1px;'>)</span> <span style='background-color: #ef3c2c; padding:2px; border-radius: 3px; margin: 1px;'>O</span> <span style='background-color: #f34a36; padding:2px; border-radius: 3px; margin: 1px;'>Ġ</span> <span style='background-color: #ea362a; padding:2px; border-radius: 3px; margin: 1px;'>[</span> <span style='background-color: #f75b40; padding:2px; border-radius: 3px; margin: 1px;'>S</span> <span style='background-color: #fb7151; padding:2px; border-radius: 3px; margin: 1px;'>E</span> <span style='background-color: #fcae92; padding:2px; border-radius: 3px; margin: 1px;'>P</span> <span style='background-color: #e63328; padding:2px; border-radius: 3px; margin: 1px;'>]</span> <span style='background-color: #f5523a; padding:2px; border-radius: 3px; margin: 1px;'>Ġ</span> <span style='background-color: #e02c26; padding:2px; border-radius: 3px; margin: 1px;'>O</span> <span style='background-color: #c4161c; padding:2px; border-radius: 3px; margin: 1px;'>=</span> <span style='background-color: #f4503a; padding:2px; border-radius: 3px; margin: 1px;'>Cc</span> <span style='background-color: #d52221; padding:2px; border-radius: 3px; margin: 1px;'>1</span> <span style='background-color: #f5523a; padding:2px; border-radius: 3px; margin: 1px;'>cc</span> <span style='background-color: #fc8f6f; padding:2px; border-radius: 3px; margin: 1px;'>(-</span> <span style='background-color: #fdd0bc; padding:2px; border-radius: 3px; margin: 1px;'>c</span> <span style='background-color: #fb7a5a; padding:2px; border-radius: 3px; margin: 1px;'>2</span> <span style='background-color: #f5523a; padding:2px; border-radius: 3px; margin: 1px;'>cc</span> <span style='background-color: #fee5d9; padding:2px; border-radius: 3px; margin: 1px;'>(-</span> <span style='background-color: #fed9c9; padding:2px; border-radius: 3px; margin: 1px;'>c</span> <span style='background-color: #fcb99f; padding:2px; border-radius: 3px; margin: 1px;'>3</span> <span style='background-color: #fcbda4; padding:2px; border-radius: 3px; margin: 1px;'>csc</span> <span style='background-color: #f75b40; padding:2px; border-radius: 3px; margin: 1px;'>(</span> <span style='background-color: #f44f39; padding:2px; border-radius: 3px; margin: 1px;'>C</span> <span style='background-color: #fc8666; padding:2px; border-radius: 3px; margin: 1px;'>=</span> <span style='background-color: #fc9c7d; padding:2px; border-radius: 3px; margin: 1px;'>O</span> <span style='background-color: #fcc1a8; padding:2px; border-radius: 3px; margin: 1px;'>)</span> <span style='background-color: #fdd3c1; padding:2px; border-radius: 3px; margin: 1px;'>c</span> <span style='background-color: #fcc3ab; padding:2px; border-radius: 3px; margin: 1px;'>3</span> <span style='background-color: #fc8b6b; padding:2px; border-radius: 3px; margin: 1px;'>)</span> <span style='background-color: #d01d1f; padding:2px; border-radius: 3px; margin: 1px;'>cc</span> <span style='background-color: #fc8a6a; padding:2px; border-radius: 3px; margin: 1px;'>(-</span> <span style='background-color: #fff5f0; padding:2px; border-radius: 3px; margin: 1px;'>c</span> <span style='background-color: #fcc1a8; padding:2px; border-radius: 3px; margin: 1px;'>3</span> <span style='background-color: #fdcebb; padding:2px; border-radius: 3px; margin: 1px;'>csc</span> <span style='background-color: #e83429; padding:2px; border-radius: 3px; margin: 1px;'>(</span> <span style='background-color: #d32020; padding:2px; border-radius: 3px; margin: 1px;'>C</span> <span style='background-color: #af1117; padding:2px; border-radius: 3px; margin: 1px;'>=</span> <span style='background-color: #e22e27; padding:2px; border-radius: 3px; margin: 1px;'>O</span> <span style='background-color: #fc8a6a; padding:2px; border-radius: 3px; margin: 1px;'>)</span> <span style='background-color: #ffeee7; padding:2px; border-radius: 3px; margin: 1px;'>c</span> <span style='background-color: #fb7656; padding:2px; border-radius: 3px; margin: 1px;'>3</span> <span style='background-color: #fc9474; padding:2px; border-radius: 3px; margin: 1px;'>)</span> <span style='background-color: #fdcebb; padding:2px; border-radius: 3px; margin: 1px;'>c</span> <span style='background-color: #fc9373; padding:2px; border-radius: 3px; margin: 1px;'>2</span> <span style='background-color: #fc8464; padding:2px; border-radius: 3px; margin: 1px;'>)</span> <span style='background-color: #f85f43; padding:2px; border-radius: 3px; margin: 1px;'>cs</span> <span style='background-color: #fa6547; padding:2px; border-radius: 3px; margin: 1px;'>1</span> <span style='background-color: #fedaca; padding:2px; border-radius: 3px; margin: 1px;'></s></span> </div>"
      ],
      "text/plain": [
       "<IPython.core.display.HTML object>"
      ]
     },
     "metadata": {},
     "output_type": "display_data"
    },
    {
     "name": "stdout",
     "output_type": "stream",
     "text": [
      "Attention heatmap saved to attention_heatmap.html\n"
     ]
    }
   ],
   "source": [
    "import torch\n",
    "from transformers import AutoModel, AutoTokenizer, AutoModelForSequenceClassification\n",
    "from IPython.display import display, HTML\n",
    "import matplotlib\n",
    "\n",
    "def extract_and_visualize_attention(model, tokenizer, text):\n",
    "    inputs = tokenizer(text, return_tensors=\"pt\", truncation=True, padding=True)\n",
    "    input_ids = inputs[\"input_ids\"]\n",
    "    attention_mask = inputs[\"attention_mask\"]\n",
    "\n",
    "    with torch.no_grad():\n",
    "        outputs = model(input_ids=input_ids, attention_mask=attention_mask, output_attentions=True)\n",
    "\n",
    "    attentions = outputs.attentions  \n",
    "    last_layer_attention = attentions[-1] \n",
    "    mean_attention_per_token = last_layer_attention.mean(dim=1)  \n",
    "\n",
    "    mean_attention_per_token = mean_attention_per_token.squeeze(0)  \n",
    "\n",
    " \n",
    "    cls_attention = mean_attention_per_token[0, 1:].tolist()  \n",
    "\n",
    "    decoded_tokens = tokenizer.convert_ids_to_tokens(input_ids.squeeze(0).tolist(), skip_special_tokens=False)\n",
    "\n",
    "\n",
    "    if len(decoded_tokens) - 1 != len(cls_attention):  \n",
    "        print(f\"Mismatch: {len(decoded_tokens) - 1} tokens, {len(cls_attention)} attention scores\")\n",
    "        decoded_tokens = decoded_tokens[:len(cls_attention) + 1]  \n",
    "\n",
    "   \n",
    "    epsilon = 1e-6\n",
    "    if max(cls_attention) == min(cls_attention):\n",
    "       \n",
    "        normalized_attention = [i / (len(cls_attention) - 1) for i in range(len(cls_attention))]\n",
    "    else:\n",
    "        normalized_attention = [\n",
    "            (score - min(cls_attention)) / (max(cls_attention) - min(cls_attention) + epsilon)\n",
    "            for score in cls_attention\n",
    "        ]\n",
    "\n",
    "  \n",
    "    def attention_to_color(attention_score):\n",
    "        \"\"\"Convert attention score to a red color intensity.\"\"\"\n",
    "        cmap = matplotlib.colormaps[\"Reds\"] \n",
    "        rgba = cmap(attention_score)\n",
    "        return matplotlib.colors.rgb2hex(rgba)\n",
    "\n",
    "    html_content = \"<div style='font-family: monospace; font-size: 16px; line-height: 1.6;'>\"\n",
    "    for word, score in zip(decoded_tokens[1:], normalized_attention): \n",
    "        color = attention_to_color(score)\n",
    "        html_content += f\"<span style='background-color: {color}; padding:2px; border-radius: 3px; margin: 1px;'>{word}</span> \"\n",
    "    html_content += \"</div>\"\n",
    "\n",
    "    \n",
    "    display(HTML(html_content))\n",
    "\n",
    "    html_filename = \"attention_heatmap.html\"\n",
    "    with open(html_filename, \"w\") as f:\n",
    "        f.write(html_content)\n",
    "\n",
    "    print(f\"Attention heatmap saved to {html_filename}\")\n",
    "\n",
    "sample_text = val_texts[0]  \n",
    "extract_and_visualize_attention(model, tokenizer, sample_text)\n"
   ]
  },
  {
   "cell_type": "code",
   "execution_count": null,
   "metadata": {},
   "outputs": [],
   "source": []
  }
 ],
 "metadata": {
  "kernelspec": {
   "display_name": "env_cage",
   "language": "python",
   "name": "python3"
  },
  "language_info": {
   "codemirror_mode": {
    "name": "ipython",
    "version": 3
   },
   "file_extension": ".py",
   "mimetype": "text/x-python",
   "name": "python",
   "nbconvert_exporter": "python",
   "pygments_lexer": "ipython3",
   "version": "3.9.20"
  }
 },
 "nbformat": 4,
 "nbformat_minor": 2
}
